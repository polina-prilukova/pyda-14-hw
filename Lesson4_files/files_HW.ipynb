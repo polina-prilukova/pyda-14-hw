{
 "cells": [
  {
   "cell_type": "markdown",
   "metadata": {},
   "source": [
    "# Домашнее задание\n",
    "1. Переведите содержимое файла purchase_log.txt в словарь purchases вида:\n",
    "```python\n",
    "{'1840e0b9d4': 'Продукты', ...}\n",
    "```\n",
    "\n",
    "2. Для каждого user_id в файле visit_log.csv определите третий столбец с категорией покупки (если покупка была, сам файл visit_log.csv изменять не надо). Запишите в файл funnel.csv визиты из файла visit_log.csv, в которых были покупки с указанием категории.\n",
    "\n",
    "Учтите условия на данные:\n",
    "- содержимое purchase_log.txt помещается в оперативную память компьютера\n",
    "- содержимое visit_log.csv - нет; используйте только построчную обработку этого файла"
   ]
  },
  {
   "cell_type": "code",
   "execution_count": 1,
   "metadata": {},
   "outputs": [
    {
     "name": "stdout",
     "output_type": "stream",
     "text": [
      "1840e0b9d4 : Продукты\n",
      "4e4f90fcfb : Электроника\n",
      "afea8d72fc : Электроника\n",
      "373a6055fe : Бытовая техника\n",
      "9b2ab046f3 : Электроника\n",
      "9f39d307c3 : Электроника\n",
      "44edeffc91 : Продукты\n",
      "704474fa2d : Продукты\n",
      "1de31be403 : Бытовая техника\n",
      "b71f36a5e4 : Продукты\n",
      "79843a685a : Продукты\n"
     ]
    }
   ],
   "source": [
    "# Задание 1\n",
    "import json\n",
    "purchases = {}\n",
    "with open('purchase_log.txt', encoding='utf-8') as f:\n",
    "    f.readline() # пропускаем первую строку с заголовками\n",
    "    for line in f:\n",
    "        dict_line = json.loads(line)\n",
    "        purchases.setdefault(dict_line['user_id'], dict_line['category'])\n",
    "#         purchases[dict_line['user_id']] = dict_line['category']\n",
    "\n",
    "# выведем несколько первых элементов словаря для проверки \n",
    "for i, element in enumerate(purchases.items()):\n",
    "    print(f'{element[0]} : {element[1]}')\n",
    "    if i == 10:\n",
    "        break\n",
    "        \n",
    "    "
   ]
  },
  {
   "cell_type": "code",
   "execution_count": 2,
   "metadata": {},
   "outputs": [],
   "source": [
    "# Задание 2\n",
    "with open('visit_log.csv') as f_read:\n",
    "    with open('funnel.csv', 'w', encoding='utf-8') as f_write:\n",
    "        f_read.readline()\n",
    "        f_write.write('user_id,source,category\\n')\n",
    "        for line in f_read:\n",
    "            user_id = line.strip().split(',')[0]\n",
    "            if purchases.get(user_id) is None:\n",
    "                continue\n",
    "            else:\n",
    "                f_write.write(line.strip() + ',' + purchases[user_id] + '\\n')\n"
   ]
  },
  {
   "cell_type": "code",
   "execution_count": null,
   "metadata": {},
   "outputs": [],
   "source": []
  }
 ],
 "metadata": {
  "kernelspec": {
   "display_name": "Python 3",
   "language": "python",
   "name": "python3"
  },
  "language_info": {
   "codemirror_mode": {
    "name": "ipython",
    "version": 3
   },
   "file_extension": ".py",
   "mimetype": "text/x-python",
   "name": "python",
   "nbconvert_exporter": "python",
   "pygments_lexer": "ipython3",
   "version": "3.7.7"
  }
 },
 "nbformat": 4,
 "nbformat_minor": 4
}
