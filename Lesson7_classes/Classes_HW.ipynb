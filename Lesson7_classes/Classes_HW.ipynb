{
 "cells": [
  {
   "cell_type": "markdown",
   "metadata": {},
   "source": [
    "# Домашнее задание к лекции «Понятие класса»"
   ]
  },
  {
   "cell_type": "code",
   "execution_count": 1,
   "metadata": {},
   "outputs": [],
   "source": [
    "import requests"
   ]
  },
  {
   "cell_type": "code",
   "execution_count": 2,
   "metadata": {},
   "outputs": [],
   "source": [
    "class Rate:\n",
    "    def __init__(self, format_='value'):\n",
    "        self.format = format_\n",
    "        \n",
    "        self.diff = False if self.format == 'full' else True  # К заданию 2\n",
    "    \n",
    "    def exchange_rates(self):\n",
    "        \"\"\"\n",
    "        Возвращает ответ сервиса с информацией о валютах в виде:\n",
    "        \n",
    "        {\n",
    "            'AMD': {\n",
    "                'CharCode': 'AMD',\n",
    "                'ID': 'R01060',\n",
    "                'Name': 'Армянских драмов',\n",
    "                'Nominal': 100,\n",
    "                'NumCode': '051',\n",
    "                'Previous': 14.103,\n",
    "                'Value': 14.0879\n",
    "                },\n",
    "            ...\n",
    "        }\n",
    "        \"\"\"\n",
    "        self.r = requests.get('https://www.cbr-xml-daily.ru/daily_json.js')\n",
    "        return self.r.json()['Valute']\n",
    "    \n",
    "    def make_format(self, currency):\n",
    "        \"\"\"\n",
    "        Возвращает информацию о валюте currency в двух вариантах:\n",
    "        - полная информация о валюте при self.format = 'full':\n",
    "        Rate('full').make_format('EUR')\n",
    "        {\n",
    "            'CharCode': 'EUR',\n",
    "            'ID': 'R01239',\n",
    "            'Name': 'Евро',\n",
    "            'Nominal': 1,\n",
    "            'NumCode': '978',\n",
    "            'Previous': 79.6765,\n",
    "            'Value': 79.4966\n",
    "        }\n",
    "        \n",
    "        Rate('value').make_format('EUR')\n",
    "        79.4966\n",
    "        \"\"\"\n",
    "        response = self.exchange_rates()\n",
    "        \n",
    "        if currency in response:\n",
    "            if self.format == 'full':\n",
    "                return response[currency]\n",
    "            \n",
    "            if self.format == 'value':\n",
    "                # К заданию 2\n",
    "                if self.diff == False:\n",
    "                    return response[currency]['Value']\n",
    "                else:\n",
    "                    return round(response[currency]['Value'] - response[currency]['Previous'], 4)\n",
    "        \n",
    "        return 'Error'\n",
    "    \n",
    "    def eur(self):\n",
    "        \"\"\"Возвращает курс евро на сегодня в формате self.format\"\"\"\n",
    "        return self.make_format('EUR')\n",
    "    \n",
    "    def usd(self):\n",
    "        \"\"\"Возвращает курс доллара на сегодня в формате self.format\"\"\"\n",
    "        return self.make_format('USD')\n",
    "    \n",
    "    def brl(self):\n",
    "        \"\"\"Возвращает курс бразильского реала на сегодня в формате self.format\"\"\"\n",
    "        return self.make_format('BRL')\n",
    "    \n",
    "#   К заданию 1\n",
    "    def get_name_of_max_value(self):\n",
    "        \"\"\"Возвращат наименование валюты с наибольшим значением курса (поле 'Value') из представленных\"\"\"\n",
    "        valute = self.exchange_rates()\n",
    "        max_value = 0.0\n",
    "        self.max_name = ''\n",
    "        for info in valute.values():\n",
    "            if float(info['Value']) >= max_value:\n",
    "                self.max_name = info['Name']\n",
    "                max_value = float(info['Value'])\n",
    "        return self.max_name\n",
    "        "
   ]
  },
  {
   "cell_type": "markdown",
   "metadata": {},
   "source": [
    "**Задание 1**\n",
    "\n",
    "Напишите функцию, которая возвращает название валюты (поле ‘Name’) с максимальным значением курса с помощью сервиса https://www.cbr-xml-daily.ru/daily_json.js"
   ]
  },
  {
   "cell_type": "code",
   "execution_count": 3,
   "metadata": {},
   "outputs": [
    {
     "name": "stdout",
     "output_type": "stream",
     "text": [
      "СДР (специальные права заимствования)\n"
     ]
    }
   ],
   "source": [
    "r = Rate()\n",
    "print(r.get_name_of_max_value())"
   ]
  },
  {
   "cell_type": "markdown",
   "metadata": {},
   "source": [
    "**Задание 2**\n",
    "\n",
    "Добавьте в класс Rate параметр diff (со значениями True или False), который в случае значения True в методах курсов валют (eur, usd итд) будет возвращать не курс валюты, а изменение по сравнению в прошлым значением. Считайте, self.diff будет принимать значение True только при возврате значения курса. При отображении всей информации о валюте он не используется."
   ]
  },
  {
   "cell_type": "code",
   "execution_count": 12,
   "metadata": {},
   "outputs": [
    {
     "name": "stdout",
     "output_type": "stream",
     "text": [
      "-0.4198\n",
      "-0.7055\n",
      "78.0921\n",
      "91.8129\n",
      "{'ID': 'R01235', 'NumCode': '840', 'CharCode': 'USD', 'Nominal': 1, 'Name': 'Доллар США', 'Value': 78.0921, 'Previous': 78.5119}\n",
      "{'ID': 'R01239', 'NumCode': '978', 'CharCode': 'EUR', 'Nominal': 1, 'Name': 'Евро', 'Value': 91.8129, 'Previous': 92.5184}\n"
     ]
    }
   ],
   "source": [
    "r_value = Rate()\n",
    "r_full = Rate(format_='full')\n",
    "\n",
    "print(r_value.usd(), r_value.eur(), sep='\\n')\n",
    "\n",
    "r_value.diff = False\n",
    "print(r_value.usd(), r_value.eur(), sep='\\n')\n",
    "\n",
    "print(r_full.usd(), r_full.eur(), sep='\\n')"
   ]
  },
  {
   "cell_type": "markdown",
   "metadata": {},
   "source": [
    "**Задание 3**\n",
    "\n",
    "Напишите класс Designer, который учитывает количество международных премий для дизайнеров \"Повышение на 1 грейд за каждые 7 баллов. Получение международной премии – это +2 балла\". Считайте, что при выходе на работу сотрудник уже имеет две премии и их количество не меняется со стажем (конечно если хотите это можно вручную менять)."
   ]
  },
  {
   "cell_type": "code",
   "execution_count": 4,
   "metadata": {},
   "outputs": [],
   "source": [
    "class Employee:\n",
    "    def __init__(self, name, seniority):\n",
    "        self.name = name\n",
    "        self.seniority = seniority\n",
    "        \n",
    "        self.grade = 1\n",
    "    \n",
    "    def grade_up(self):\n",
    "        \"\"\"Повышает уровень сотрудника\"\"\"\n",
    "        self.grade += 1\n",
    "    \n",
    "    def publish_grade(self):\n",
    "        \"\"\"Публикация результатов аккредитации сотрудников\"\"\"\n",
    "        print(self.name, self.grade)\n",
    "    \n",
    "    def check_if_it_is_time_for_upgrade(self):\n",
    "        pass"
   ]
  },
  {
   "cell_type": "code",
   "execution_count": 13,
   "metadata": {},
   "outputs": [],
   "source": [
    "class Designer(Employee):\n",
    "    def __init__(self, name, seniority, awards):\n",
    "        super().__init__(name, seniority)\n",
    "        self.awards = awards # международные премии\n",
    "        \n",
    "        if self.awards:\n",
    "            self.seniority = self.awards * 2\n",
    "            \n",
    "    def publish_grade(self):\n",
    "        print(f'{self.name}: уровень - {self.grade}, баллы - {self.seniority}')    \n",
    "    \n",
    "    def check_if_it_is_time_for_upgrade(self):\n",
    "        self.seniority += 1\n",
    "        if self.seniority % 7 == 0:\n",
    "            self.grade_up()\n",
    "            \n",
    "        return self.publish_grade()\n",
    "    \n",
    "    def receive_award(self):\n",
    "        '''Присуждает 1 международную премию и увеличивает связанные с ней баллы сотрудника'''\n",
    "        self.awards += 1\n",
    "        self.seniority += 2\n",
    "        \n",
    "        # если при присуждении премии общее количество баллов стало кратным 7\n",
    "        # или, т.к. мы прибавляем по 2 балла, большим, чем текущий грейд * 7,\n",
    "        # сотрудник должен быть пповышен\n",
    "        if (self.seniority % 7 == 0) or (self.seniority > self.grade * 7):\n",
    "            self.grade_up()\n",
    "            \n",
    "        print('Получена премия')\n",
    "        return self.publish_grade()"
   ]
  },
  {
   "cell_type": "code",
   "execution_count": 16,
   "metadata": {},
   "outputs": [
    {
     "name": "stdout",
     "output_type": "stream",
     "text": [
      "Полина: уровень - 1, баллы - 5\n",
      "Полина: уровень - 1, баллы - 6\n",
      "Полина: уровень - 2, баллы - 7\n",
      "Полина: уровень - 2, баллы - 8\n",
      "Полина: уровень - 2, баллы - 9\n",
      "Полина: уровень - 2, баллы - 10\n",
      "Полина: уровень - 2, баллы - 11\n",
      "Полина: уровень - 2, баллы - 12\n",
      "Полина: уровень - 2, баллы - 13\n",
      "Полина: уровень - 3, баллы - 14\n",
      "Получена премия\n",
      "Полина: уровень - 3, баллы - 16\n",
      "Получена премия\n",
      "Полина: уровень - 3, баллы - 18\n",
      "Получена премия\n",
      "Полина: уровень - 3, баллы - 20\n",
      "Получена премия\n",
      "Полина: уровень - 4, баллы - 22\n",
      "Получена премия\n",
      "Полина: уровень - 4, баллы - 24\n"
     ]
    }
   ],
   "source": [
    "new_designer = Designer('Полина', 0, 2)\n",
    "\n",
    "for i in range(10):\n",
    "    new_designer.check_if_it_is_time_for_upgrade()\n",
    "\n",
    "for i in range(5):\n",
    "    new_designer.receive_award()\n",
    "\n"
   ]
  },
  {
   "cell_type": "code",
   "execution_count": null,
   "metadata": {},
   "outputs": [],
   "source": []
  }
 ],
 "metadata": {
  "kernelspec": {
   "display_name": "Python 3",
   "language": "python",
   "name": "python3"
  },
  "language_info": {
   "codemirror_mode": {
    "name": "ipython",
    "version": 3
   },
   "file_extension": ".py",
   "mimetype": "text/x-python",
   "name": "python",
   "nbconvert_exporter": "python",
   "pygments_lexer": "ipython3",
   "version": "3.7.7"
  }
 },
 "nbformat": 4,
 "nbformat_minor": 4
}
