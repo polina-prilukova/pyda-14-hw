{
 "cells": [
  {
   "cell_type": "markdown",
   "metadata": {},
   "source": [
    "# Домашнее задание к лекции \"Базовые понятия статистики\""
   ]
  },
  {
   "cell_type": "markdown",
   "metadata": {},
   "source": [
    "## Обязательная часть\n",
    "\n",
    "Будем осуществлять работу с непростым [набором данных](https://raw.githubusercontent.com/obulygin/pyda_homeworks/master/statistics_basics/horse_data.csv) о состоянии здоровья лошадей, испытывающих кишечные колики. \n",
    "\n",
    "### Задание 1. Базовое изучение\n",
    "\n",
    "Изучить представленный набор данных на основе [описания его столбцов](https://raw.githubusercontent.com/obulygin/pyda_homeworks/master/statistics_basics/horse_data.names) и выбрать 8 столбцов для дальнейшего изучения (среди них должны быть как числовые, так и категориальные). Провести расчет базовых метрик для них, кратко описать результаты.\n",
    "\n",
    "### Задание 2. Работа с выбросами\n",
    "\n",
    "В выбранных числовых столбцах найти выбросы, выдвинуть гипотезы об их причинах и проинтерпретировать результаты. Принять и обосновать решение о дальнейшей работе с ними.\n",
    "\n",
    "### Задание 3. Работа с пропусками\n",
    "\n",
    "Рассчитать количество пропусков для всех выбранных столбцов. Принять и обосновать решение о методе работы с пропусками по каждому столбцу, сформировать датафрейм, в котором пропуски будут отсутствовать."
   ]
  },
  {
   "cell_type": "markdown",
   "metadata": {},
   "source": [
    "## Пункт 1 - знакомство с данными\n"
   ]
  },
  {
   "cell_type": "code",
   "execution_count": 1,
   "metadata": {},
   "outputs": [],
   "source": [
    "import pandas as pd\n",
    "import numpy as np"
   ]
  },
  {
   "cell_type": "code",
   "execution_count": 2,
   "metadata": {},
   "outputs": [],
   "source": [
    "# для наглядности вынесем имена столбцов из horse_names, чтобы применить их к датасету\n",
    "names = ['surgery', 'age', 'hospital_number', 'rectal_temp', 'pulse', 'resp_rate', 'temp_of_extremities',\n",
    "            'peripheral_pulse', 'mucous_membranes', 'capillary_refill_time', 'pain', 'peristalsis', 'abdominal_distension',\n",
    "            'nasogastric_tube', 'nasogastric_reflux','nasogastric_reflux_PH', 'rectal_examination', 'abdomen',\n",
    "            'packed_cell_volume', 'total_protein', 'abdomin_appearance', 'abdom_total_protein', 'outcome',\n",
    "            'surgical_lesion', 'site_of_lesion', 'type_of_lesion', 'subtype_of_lesion', 'cp_data']"
   ]
  },
  {
   "cell_type": "code",
   "execution_count": 3,
   "metadata": {},
   "outputs": [
    {
     "data": {
      "text/plain": [
       "28"
      ]
     },
     "execution_count": 3,
     "metadata": {},
     "output_type": "execute_result"
    }
   ],
   "source": [
    "len(names)"
   ]
  },
  {
   "cell_type": "code",
   "execution_count": 4,
   "metadata": {},
   "outputs": [
    {
     "data": {
      "text/html": [
       "<div>\n",
       "<style scoped>\n",
       "    .dataframe tbody tr th:only-of-type {\n",
       "        vertical-align: middle;\n",
       "    }\n",
       "\n",
       "    .dataframe tbody tr th {\n",
       "        vertical-align: top;\n",
       "    }\n",
       "\n",
       "    .dataframe thead th {\n",
       "        text-align: right;\n",
       "    }\n",
       "</style>\n",
       "<table border=\"1\" class=\"dataframe\">\n",
       "  <thead>\n",
       "    <tr style=\"text-align: right;\">\n",
       "      <th></th>\n",
       "      <th>surgery</th>\n",
       "      <th>age</th>\n",
       "      <th>hospital_number</th>\n",
       "      <th>rectal_temp</th>\n",
       "      <th>pulse</th>\n",
       "      <th>resp_rate</th>\n",
       "      <th>temp_of_extremities</th>\n",
       "      <th>peripheral_pulse</th>\n",
       "      <th>mucous_membranes</th>\n",
       "      <th>capillary_refill_time</th>\n",
       "      <th>...</th>\n",
       "      <th>packed_cell_volume</th>\n",
       "      <th>total_protein</th>\n",
       "      <th>abdomin_appearance</th>\n",
       "      <th>abdom_total_protein</th>\n",
       "      <th>outcome</th>\n",
       "      <th>surgical_lesion</th>\n",
       "      <th>site_of_lesion</th>\n",
       "      <th>type_of_lesion</th>\n",
       "      <th>subtype_of_lesion</th>\n",
       "      <th>cp_data</th>\n",
       "    </tr>\n",
       "  </thead>\n",
       "  <tbody>\n",
       "    <tr>\n",
       "      <th>0</th>\n",
       "      <td>2.0</td>\n",
       "      <td>1</td>\n",
       "      <td>530101</td>\n",
       "      <td>38.5</td>\n",
       "      <td>66.0</td>\n",
       "      <td>28.0</td>\n",
       "      <td>3.0</td>\n",
       "      <td>3.0</td>\n",
       "      <td>NaN</td>\n",
       "      <td>2.0</td>\n",
       "      <td>...</td>\n",
       "      <td>45.0</td>\n",
       "      <td>8.4</td>\n",
       "      <td>NaN</td>\n",
       "      <td>NaN</td>\n",
       "      <td>2.0</td>\n",
       "      <td>2</td>\n",
       "      <td>11300</td>\n",
       "      <td>0</td>\n",
       "      <td>0</td>\n",
       "      <td>2</td>\n",
       "    </tr>\n",
       "    <tr>\n",
       "      <th>1</th>\n",
       "      <td>1.0</td>\n",
       "      <td>1</td>\n",
       "      <td>534817</td>\n",
       "      <td>39.2</td>\n",
       "      <td>88.0</td>\n",
       "      <td>20.0</td>\n",
       "      <td>NaN</td>\n",
       "      <td>NaN</td>\n",
       "      <td>4.0</td>\n",
       "      <td>1.0</td>\n",
       "      <td>...</td>\n",
       "      <td>50.0</td>\n",
       "      <td>85.0</td>\n",
       "      <td>2.0</td>\n",
       "      <td>2.0</td>\n",
       "      <td>3.0</td>\n",
       "      <td>2</td>\n",
       "      <td>2208</td>\n",
       "      <td>0</td>\n",
       "      <td>0</td>\n",
       "      <td>2</td>\n",
       "    </tr>\n",
       "    <tr>\n",
       "      <th>2</th>\n",
       "      <td>2.0</td>\n",
       "      <td>1</td>\n",
       "      <td>530334</td>\n",
       "      <td>38.3</td>\n",
       "      <td>40.0</td>\n",
       "      <td>24.0</td>\n",
       "      <td>1.0</td>\n",
       "      <td>1.0</td>\n",
       "      <td>3.0</td>\n",
       "      <td>1.0</td>\n",
       "      <td>...</td>\n",
       "      <td>33.0</td>\n",
       "      <td>6.7</td>\n",
       "      <td>NaN</td>\n",
       "      <td>NaN</td>\n",
       "      <td>1.0</td>\n",
       "      <td>2</td>\n",
       "      <td>0</td>\n",
       "      <td>0</td>\n",
       "      <td>0</td>\n",
       "      <td>1</td>\n",
       "    </tr>\n",
       "    <tr>\n",
       "      <th>3</th>\n",
       "      <td>1.0</td>\n",
       "      <td>9</td>\n",
       "      <td>5290409</td>\n",
       "      <td>39.1</td>\n",
       "      <td>164.0</td>\n",
       "      <td>84.0</td>\n",
       "      <td>4.0</td>\n",
       "      <td>1.0</td>\n",
       "      <td>6.0</td>\n",
       "      <td>2.0</td>\n",
       "      <td>...</td>\n",
       "      <td>48.0</td>\n",
       "      <td>7.2</td>\n",
       "      <td>3.0</td>\n",
       "      <td>5.3</td>\n",
       "      <td>2.0</td>\n",
       "      <td>1</td>\n",
       "      <td>2208</td>\n",
       "      <td>0</td>\n",
       "      <td>0</td>\n",
       "      <td>1</td>\n",
       "    </tr>\n",
       "    <tr>\n",
       "      <th>4</th>\n",
       "      <td>2.0</td>\n",
       "      <td>1</td>\n",
       "      <td>530255</td>\n",
       "      <td>37.3</td>\n",
       "      <td>104.0</td>\n",
       "      <td>35.0</td>\n",
       "      <td>NaN</td>\n",
       "      <td>NaN</td>\n",
       "      <td>6.0</td>\n",
       "      <td>2.0</td>\n",
       "      <td>...</td>\n",
       "      <td>74.0</td>\n",
       "      <td>7.4</td>\n",
       "      <td>NaN</td>\n",
       "      <td>NaN</td>\n",
       "      <td>2.0</td>\n",
       "      <td>2</td>\n",
       "      <td>4300</td>\n",
       "      <td>0</td>\n",
       "      <td>0</td>\n",
       "      <td>2</td>\n",
       "    </tr>\n",
       "  </tbody>\n",
       "</table>\n",
       "<p>5 rows × 28 columns</p>\n",
       "</div>"
      ],
      "text/plain": [
       "   surgery  age  hospital_number  rectal_temp  pulse  resp_rate  \\\n",
       "0      2.0    1           530101         38.5   66.0       28.0   \n",
       "1      1.0    1           534817         39.2   88.0       20.0   \n",
       "2      2.0    1           530334         38.3   40.0       24.0   \n",
       "3      1.0    9          5290409         39.1  164.0       84.0   \n",
       "4      2.0    1           530255         37.3  104.0       35.0   \n",
       "\n",
       "   temp_of_extremities  peripheral_pulse  mucous_membranes  \\\n",
       "0                  3.0               3.0               NaN   \n",
       "1                  NaN               NaN               4.0   \n",
       "2                  1.0               1.0               3.0   \n",
       "3                  4.0               1.0               6.0   \n",
       "4                  NaN               NaN               6.0   \n",
       "\n",
       "   capillary_refill_time  ...  packed_cell_volume  total_protein  \\\n",
       "0                    2.0  ...                45.0            8.4   \n",
       "1                    1.0  ...                50.0           85.0   \n",
       "2                    1.0  ...                33.0            6.7   \n",
       "3                    2.0  ...                48.0            7.2   \n",
       "4                    2.0  ...                74.0            7.4   \n",
       "\n",
       "   abdomin_appearance  abdom_total_protein  outcome  surgical_lesion  \\\n",
       "0                 NaN                  NaN      2.0                2   \n",
       "1                 2.0                  2.0      3.0                2   \n",
       "2                 NaN                  NaN      1.0                2   \n",
       "3                 3.0                  5.3      2.0                1   \n",
       "4                 NaN                  NaN      2.0                2   \n",
       "\n",
       "   site_of_lesion  type_of_lesion  subtype_of_lesion  cp_data  \n",
       "0           11300               0                  0        2  \n",
       "1            2208               0                  0        2  \n",
       "2               0               0                  0        1  \n",
       "3            2208               0                  0        1  \n",
       "4            4300               0                  0        2  \n",
       "\n",
       "[5 rows x 28 columns]"
      ]
     },
     "execution_count": 4,
     "metadata": {},
     "output_type": "execute_result"
    }
   ],
   "source": [
    "horse_df = pd.read_csv('horse_data.csv', na_values=['?'], header=None, names=names)\n",
    "horse_df.head()"
   ]
  },
  {
   "cell_type": "code",
   "execution_count": 5,
   "metadata": {},
   "outputs": [
    {
     "name": "stdout",
     "output_type": "stream",
     "text": [
      "<class 'pandas.core.frame.DataFrame'>\n",
      "RangeIndex: 300 entries, 0 to 299\n",
      "Data columns (total 28 columns):\n",
      " #   Column                 Non-Null Count  Dtype  \n",
      "---  ------                 --------------  -----  \n",
      " 0   surgery                299 non-null    float64\n",
      " 1   age                    300 non-null    int64  \n",
      " 2   hospital_number        300 non-null    int64  \n",
      " 3   rectal_temp            240 non-null    float64\n",
      " 4   pulse                  276 non-null    float64\n",
      " 5   resp_rate              242 non-null    float64\n",
      " 6   temp_of_extremities    244 non-null    float64\n",
      " 7   peripheral_pulse       231 non-null    float64\n",
      " 8   mucous_membranes       253 non-null    float64\n",
      " 9   capillary_refill_time  268 non-null    float64\n",
      " 10  pain                   245 non-null    float64\n",
      " 11  peristalsis            256 non-null    float64\n",
      " 12  abdominal_distension   244 non-null    float64\n",
      " 13  nasogastric_tube       196 non-null    float64\n",
      " 14  nasogastric_reflux     194 non-null    float64\n",
      " 15  nasogastric_reflux_PH  53 non-null     float64\n",
      " 16  rectal_examination     198 non-null    float64\n",
      " 17  abdomen                182 non-null    float64\n",
      " 18  packed_cell_volume     271 non-null    float64\n",
      " 19  total_protein          267 non-null    float64\n",
      " 20  abdomin_appearance     135 non-null    float64\n",
      " 21  abdom_total_protein    102 non-null    float64\n",
      " 22  outcome                299 non-null    float64\n",
      " 23  surgical_lesion        300 non-null    int64  \n",
      " 24  site_of_lesion         300 non-null    int64  \n",
      " 25  type_of_lesion         300 non-null    int64  \n",
      " 26  subtype_of_lesion      300 non-null    int64  \n",
      " 27  cp_data                300 non-null    int64  \n",
      "dtypes: float64(21), int64(7)\n",
      "memory usage: 65.8 KB\n"
     ]
    }
   ],
   "source": [
    "horse_df.info()"
   ]
  },
  {
   "cell_type": "code",
   "execution_count": 6,
   "metadata": {},
   "outputs": [
    {
     "data": {
      "text/plain": [
       "(300, 28)"
      ]
     },
     "execution_count": 6,
     "metadata": {},
     "output_type": "execute_result"
    }
   ],
   "source": [
    "# Проверим, есть ли полные дубликаты строк\n",
    "horse_df.drop_duplicates().shape\n",
    "# Количество строк осталось неизменным, дубликатов не найдено"
   ]
  },
  {
   "cell_type": "markdown",
   "metadata": {},
   "source": [
    "Для дальнейшей работы выберу следующие столбцы:\n",
    "- возраст (age) - категориальные данные\n",
    "- ректальная температура (rectal_temp) - непрерывные данные (в градусах Цельсия)\n",
    "- пульс (pulse) - дискретные данные (количество ударов в минуту)\n",
    "- температура конечностей (temp_of_extremities) - категориальные данные\n",
    "- перистальтика (peristalsis) - категориальные данные\n",
    "- вздутие живота (abdominal_distension) - категориальные данные\n",
    "- гематокрит (packed_cell_volume) - непрерывные данные (объем крови, приходящийся на эритроциты в %)\n",
    "- общий уровень белка (total_protein) - непрерывные данные (gms/dL)\n"
   ]
  },
  {
   "cell_type": "code",
   "execution_count": 7,
   "metadata": {},
   "outputs": [
    {
     "data": {
      "text/html": [
       "<div>\n",
       "<style scoped>\n",
       "    .dataframe tbody tr th:only-of-type {\n",
       "        vertical-align: middle;\n",
       "    }\n",
       "\n",
       "    .dataframe tbody tr th {\n",
       "        vertical-align: top;\n",
       "    }\n",
       "\n",
       "    .dataframe thead th {\n",
       "        text-align: right;\n",
       "    }\n",
       "</style>\n",
       "<table border=\"1\" class=\"dataframe\">\n",
       "  <thead>\n",
       "    <tr style=\"text-align: right;\">\n",
       "      <th></th>\n",
       "      <th>age</th>\n",
       "      <th>rectal_temp</th>\n",
       "      <th>pulse</th>\n",
       "      <th>temp_of_extremities</th>\n",
       "      <th>peristalsis</th>\n",
       "      <th>abdominal_distension</th>\n",
       "      <th>packed_cell_volume</th>\n",
       "      <th>total_protein</th>\n",
       "    </tr>\n",
       "  </thead>\n",
       "  <tbody>\n",
       "    <tr>\n",
       "      <th>0</th>\n",
       "      <td>1</td>\n",
       "      <td>38.5</td>\n",
       "      <td>66.0</td>\n",
       "      <td>3.0</td>\n",
       "      <td>4.0</td>\n",
       "      <td>4.0</td>\n",
       "      <td>45.0</td>\n",
       "      <td>8.4</td>\n",
       "    </tr>\n",
       "    <tr>\n",
       "      <th>1</th>\n",
       "      <td>1</td>\n",
       "      <td>39.2</td>\n",
       "      <td>88.0</td>\n",
       "      <td>NaN</td>\n",
       "      <td>4.0</td>\n",
       "      <td>2.0</td>\n",
       "      <td>50.0</td>\n",
       "      <td>85.0</td>\n",
       "    </tr>\n",
       "    <tr>\n",
       "      <th>2</th>\n",
       "      <td>1</td>\n",
       "      <td>38.3</td>\n",
       "      <td>40.0</td>\n",
       "      <td>1.0</td>\n",
       "      <td>3.0</td>\n",
       "      <td>1.0</td>\n",
       "      <td>33.0</td>\n",
       "      <td>6.7</td>\n",
       "    </tr>\n",
       "    <tr>\n",
       "      <th>3</th>\n",
       "      <td>9</td>\n",
       "      <td>39.1</td>\n",
       "      <td>164.0</td>\n",
       "      <td>4.0</td>\n",
       "      <td>4.0</td>\n",
       "      <td>4.0</td>\n",
       "      <td>48.0</td>\n",
       "      <td>7.2</td>\n",
       "    </tr>\n",
       "    <tr>\n",
       "      <th>4</th>\n",
       "      <td>1</td>\n",
       "      <td>37.3</td>\n",
       "      <td>104.0</td>\n",
       "      <td>NaN</td>\n",
       "      <td>NaN</td>\n",
       "      <td>NaN</td>\n",
       "      <td>74.0</td>\n",
       "      <td>7.4</td>\n",
       "    </tr>\n",
       "  </tbody>\n",
       "</table>\n",
       "</div>"
      ],
      "text/plain": [
       "   age  rectal_temp  pulse  temp_of_extremities  peristalsis  \\\n",
       "0    1         38.5   66.0                  3.0          4.0   \n",
       "1    1         39.2   88.0                  NaN          4.0   \n",
       "2    1         38.3   40.0                  1.0          3.0   \n",
       "3    9         39.1  164.0                  4.0          4.0   \n",
       "4    1         37.3  104.0                  NaN          NaN   \n",
       "\n",
       "   abdominal_distension  packed_cell_volume  total_protein  \n",
       "0                   4.0                45.0            8.4  \n",
       "1                   2.0                50.0           85.0  \n",
       "2                   1.0                33.0            6.7  \n",
       "3                   4.0                48.0            7.2  \n",
       "4                   NaN                74.0            7.4  "
      ]
     },
     "execution_count": 7,
     "metadata": {},
     "output_type": "execute_result"
    }
   ],
   "source": [
    "horse_filtered = horse_df.loc[:, ['age', 'rectal_temp', 'pulse', 'temp_of_extremities',\n",
    "                                  'peristalsis', 'abdominal_distension','packed_cell_volume', 'total_protein']]\n",
    "horse_filtered.head()"
   ]
  },
  {
   "cell_type": "code",
   "execution_count": 8,
   "metadata": {},
   "outputs": [
    {
     "data": {
      "text/html": [
       "<div>\n",
       "<style scoped>\n",
       "    .dataframe tbody tr th:only-of-type {\n",
       "        vertical-align: middle;\n",
       "    }\n",
       "\n",
       "    .dataframe tbody tr th {\n",
       "        vertical-align: top;\n",
       "    }\n",
       "\n",
       "    .dataframe thead th {\n",
       "        text-align: right;\n",
       "    }\n",
       "</style>\n",
       "<table border=\"1\" class=\"dataframe\">\n",
       "  <thead>\n",
       "    <tr style=\"text-align: right;\">\n",
       "      <th></th>\n",
       "      <th>age</th>\n",
       "      <th>rectal_temp</th>\n",
       "      <th>pulse</th>\n",
       "      <th>temp_of_extremities</th>\n",
       "      <th>peristalsis</th>\n",
       "      <th>abdominal_distension</th>\n",
       "      <th>packed_cell_volume</th>\n",
       "      <th>total_protein</th>\n",
       "    </tr>\n",
       "  </thead>\n",
       "  <tbody>\n",
       "    <tr>\n",
       "      <th>count</th>\n",
       "      <td>300.000000</td>\n",
       "      <td>240.000000</td>\n",
       "      <td>276.000000</td>\n",
       "      <td>244.000000</td>\n",
       "      <td>256.000000</td>\n",
       "      <td>244.000000</td>\n",
       "      <td>271.000000</td>\n",
       "      <td>267.000000</td>\n",
       "    </tr>\n",
       "    <tr>\n",
       "      <th>mean</th>\n",
       "      <td>1.640000</td>\n",
       "      <td>38.167917</td>\n",
       "      <td>71.913043</td>\n",
       "      <td>2.348361</td>\n",
       "      <td>2.917969</td>\n",
       "      <td>2.266393</td>\n",
       "      <td>46.295203</td>\n",
       "      <td>24.456929</td>\n",
       "    </tr>\n",
       "    <tr>\n",
       "      <th>std</th>\n",
       "      <td>2.173972</td>\n",
       "      <td>0.732289</td>\n",
       "      <td>28.630557</td>\n",
       "      <td>1.045054</td>\n",
       "      <td>0.976744</td>\n",
       "      <td>1.065131</td>\n",
       "      <td>10.419335</td>\n",
       "      <td>27.475009</td>\n",
       "    </tr>\n",
       "    <tr>\n",
       "      <th>min</th>\n",
       "      <td>1.000000</td>\n",
       "      <td>35.400000</td>\n",
       "      <td>30.000000</td>\n",
       "      <td>1.000000</td>\n",
       "      <td>1.000000</td>\n",
       "      <td>1.000000</td>\n",
       "      <td>23.000000</td>\n",
       "      <td>3.300000</td>\n",
       "    </tr>\n",
       "    <tr>\n",
       "      <th>25%</th>\n",
       "      <td>1.000000</td>\n",
       "      <td>37.800000</td>\n",
       "      <td>48.000000</td>\n",
       "      <td>1.000000</td>\n",
       "      <td>3.000000</td>\n",
       "      <td>1.000000</td>\n",
       "      <td>38.000000</td>\n",
       "      <td>6.500000</td>\n",
       "    </tr>\n",
       "    <tr>\n",
       "      <th>50%</th>\n",
       "      <td>1.000000</td>\n",
       "      <td>38.200000</td>\n",
       "      <td>64.000000</td>\n",
       "      <td>3.000000</td>\n",
       "      <td>3.000000</td>\n",
       "      <td>2.000000</td>\n",
       "      <td>45.000000</td>\n",
       "      <td>7.500000</td>\n",
       "    </tr>\n",
       "    <tr>\n",
       "      <th>75%</th>\n",
       "      <td>1.000000</td>\n",
       "      <td>38.500000</td>\n",
       "      <td>88.000000</td>\n",
       "      <td>3.000000</td>\n",
       "      <td>4.000000</td>\n",
       "      <td>3.000000</td>\n",
       "      <td>52.000000</td>\n",
       "      <td>57.000000</td>\n",
       "    </tr>\n",
       "    <tr>\n",
       "      <th>max</th>\n",
       "      <td>9.000000</td>\n",
       "      <td>40.800000</td>\n",
       "      <td>184.000000</td>\n",
       "      <td>4.000000</td>\n",
       "      <td>4.000000</td>\n",
       "      <td>4.000000</td>\n",
       "      <td>75.000000</td>\n",
       "      <td>89.000000</td>\n",
       "    </tr>\n",
       "  </tbody>\n",
       "</table>\n",
       "</div>"
      ],
      "text/plain": [
       "              age  rectal_temp       pulse  temp_of_extremities  peristalsis  \\\n",
       "count  300.000000   240.000000  276.000000           244.000000   256.000000   \n",
       "mean     1.640000    38.167917   71.913043             2.348361     2.917969   \n",
       "std      2.173972     0.732289   28.630557             1.045054     0.976744   \n",
       "min      1.000000    35.400000   30.000000             1.000000     1.000000   \n",
       "25%      1.000000    37.800000   48.000000             1.000000     3.000000   \n",
       "50%      1.000000    38.200000   64.000000             3.000000     3.000000   \n",
       "75%      1.000000    38.500000   88.000000             3.000000     4.000000   \n",
       "max      9.000000    40.800000  184.000000             4.000000     4.000000   \n",
       "\n",
       "       abdominal_distension  packed_cell_volume  total_protein  \n",
       "count            244.000000          271.000000     267.000000  \n",
       "mean               2.266393           46.295203      24.456929  \n",
       "std                1.065131           10.419335      27.475009  \n",
       "min                1.000000           23.000000       3.300000  \n",
       "25%                1.000000           38.000000       6.500000  \n",
       "50%                2.000000           45.000000       7.500000  \n",
       "75%                3.000000           52.000000      57.000000  \n",
       "max                4.000000           75.000000      89.000000  "
      ]
     },
     "execution_count": 8,
     "metadata": {},
     "output_type": "execute_result"
    }
   ],
   "source": [
    "# получим описание базовых метрик\n",
    "horse_filtered.describe()"
   ]
  },
  {
   "cell_type": "markdown",
   "metadata": {},
   "source": [
    "### столбец age\n",
    "Видим странное: согласно описанию из файла этот столбец принимает значения либо 1 (взрослая лошадь), либо 2 (молодая лошадь), однако здесь мы имеем максимальное значение 9. "
   ]
  },
  {
   "cell_type": "code",
   "execution_count": 9,
   "metadata": {},
   "outputs": [
    {
     "data": {
      "text/plain": [
       "[1, 9]"
      ]
     },
     "execution_count": 9,
     "metadata": {},
     "output_type": "execute_result"
    }
   ],
   "source": [
    "horse_filtered.age.unique().tolist()"
   ]
  },
  {
   "cell_type": "markdown",
   "metadata": {},
   "source": [
    "Уникальных значений этого столбца получили всего два, как и должно быть. Можно предположить, что вследствии неизвестной ошибки все значения \"2\" были заменены на \"9\". Либо столбец \"age\" мог быть перепутан с соседним столбцом \"surgery\" исходного датасета, который так же принимает значения только 1 и 2, и какая-то ошибка с заменой 2 на 9 произошла в \"surgery\"\n",
    "\n",
    "Для этой задачи я предположу, что столбец \"age\" разделен на группы \"взрослые лошади\" - \"молодые лошади\" правильно (по признаку 1 и 9 соответственно) и, чтобы соответствовать описанию исходных данных заменю все 9 на 2\n",
    "\n",
    "92% всех данных относится к взрослым лошадям, 8% к молодым"
   ]
  },
  {
   "cell_type": "code",
   "execution_count": 10,
   "metadata": {},
   "outputs": [
    {
     "data": {
      "text/plain": [
       "1    0.92\n",
       "2    0.08\n",
       "Name: age, dtype: float64"
      ]
     },
     "execution_count": 10,
     "metadata": {},
     "output_type": "execute_result"
    }
   ],
   "source": [
    "horse_filtered.loc[horse_filtered['age']==9, 'age'] = 2\n",
    "horse_filtered.age.value_counts(normalize=True)"
   ]
  },
  {
   "cell_type": "markdown",
   "metadata": {},
   "source": [
    "### Столбец rectal_temp\n",
    "\n",
    "Есть пропуски в данных.\n",
    "\n",
    "Нормальная температура составляет 37,8 С, может иметь незначительные суточные колебания.\n",
    "\n",
    "25% квантиль соответствует нормальной температуре, т.е. у большинства лошадей температура повышенная.\n",
    "\n",
    "Среднее значение так же соответствует повышенной температуре. \n",
    "\n",
    "Диапазон значений от 35.4 С до 40.8 С. Среднеквадратическое отклонение сравнительно невелико, разброс относительно среднего невелик, скорее всего выбросов здесь мы не увидим "
   ]
  },
  {
   "cell_type": "markdown",
   "metadata": {},
   "source": [
    "### Столбец pulse\n",
    "\n",
    "Есть пропуски в данных.\n",
    "\n",
    "Нормальный пульс взрослой лошади - 30-40 ударов в минуту.\n",
    "\n",
    "25% квантиль соответствует 48 ударам в минуту, т.е. у большинства лошадей пульс так же повышен.\n",
    "\n",
    "Диапазон значений здесь широкий: от 30 до 184 ударов в минуту, std так же довольно велико (28.63). Вероятно, здесь мы можем увидеть выбросы сверху. "
   ]
  },
  {
   "cell_type": "markdown",
   "metadata": {},
   "source": [
    "### Столбец temp_of_extremities\n",
    "Есть пропуски в данных.\n",
    "\n",
    "Нормальному состоянию животного соответствует значение 1\n",
    "\n",
    "Для значения 2 (теплые), возможно, надо будет проверять взаимосвязь с показателем температуры, горячие конечности коррелируют с повышенной температурой\n",
    "\n",
    "Мода для этого признака = 3 (прохладные конечности). Прохладные конечности указывают на возможный шок животного, что должно соотносится с высоким пульсом\n"
   ]
  },
  {
   "cell_type": "code",
   "execution_count": 12,
   "metadata": {},
   "outputs": [
    {
     "data": {
      "text/plain": [
       "0    3.0\n",
       "dtype: float64"
      ]
     },
     "execution_count": 12,
     "metadata": {},
     "output_type": "execute_result"
    }
   ],
   "source": [
    "horse_filtered.temp_of_extremities.mode()"
   ]
  },
  {
   "cell_type": "markdown",
   "metadata": {},
   "source": [
    "### Столбец peristalsis\n",
    "Есть пропуски в данных\n",
    "\n",
    "Нормальному состоянию животного соответствует значение 2\n",
    "\n",
    "Мода для этого признака = 3 (пониженная активность кишечника). Норме соответствует только ~6% данных\n"
   ]
  },
  {
   "cell_type": "code",
   "execution_count": 27,
   "metadata": {},
   "outputs": [
    {
     "name": "stdout",
     "output_type": "stream",
     "text": [
      "mode\n",
      "0    3.0\n",
      "dtype: float64\n",
      "values\n",
      "3.0    0.500000\n",
      "4.0    0.285156\n",
      "1.0    0.152344\n",
      "2.0    0.062500\n",
      "Name: peristalsis, dtype: float64\n"
     ]
    }
   ],
   "source": [
    "print('mode', horse_filtered.peristalsis.mode(), sep='\\n')\n",
    "print('values', horse_filtered.peristalsis.value_counts(normalize=True),sep='\\n')"
   ]
  },
  {
   "cell_type": "markdown",
   "metadata": {},
   "source": [
    "### Столбец abdominal_distension\n",
    "Есть пропуски в данных\n",
    "\n",
    "Нормальному состоянию животного соответствует значение 1\n",
    "\n",
    "Мода для этого признака = 1 (нет вздутия). Но если мы посмотрим процентное соотношение всех значений, увидим, что порядка 69% данных относятся к признакам 2-4, указывающие на наличие вздутия живота, которое может требовать операционного вмешательства.\n",
    "\n",
    "Вздутие живота соотносится с пониженной перистальтикой"
   ]
  },
  {
   "cell_type": "code",
   "execution_count": 18,
   "metadata": {},
   "outputs": [
    {
     "name": "stdout",
     "output_type": "stream",
     "text": [
      "mode\n",
      "0    1.0\n",
      "dtype: float64\n",
      "values\n",
      "1.0    0.311475\n",
      "3.0    0.266393\n",
      "2.0    0.266393\n",
      "4.0    0.155738\n",
      "Name: abdominal_distension, dtype: float64\n"
     ]
    }
   ],
   "source": [
    "print('mode', horse_filtered.abdominal_distension.mode(), sep='\\n')\n",
    "print('values', horse_filtered.abdominal_distension.value_counts(normalize=True),sep='\\n')"
   ]
  },
  {
   "cell_type": "markdown",
   "metadata": {},
   "source": [
    "### Столбец packed_cell_volume\n",
    "Есть пропуски в данных\n",
    "\n",
    "нормальный диапазон от 30 до 50%. Уровень повышается по мере нарушения кровообращения или по мере обезвоживания животного.\n",
    "\n",
    "75% квантиль соответствует 52%, т.е. у большинства животных доля эритроцитов в крови близка к нормальной или ниже нормы\n",
    "\n",
    "Диапазон значений от 23.0% до 75.0%, std = 10.41 - ожидаем увидеть существенный разброс значений относительно среднего, возможно, будут выбросы."
   ]
  },
  {
   "cell_type": "markdown",
   "metadata": {},
   "source": [
    "###  Столбец total_protein\n",
    "Есть пропуски в данных\n",
    "\n",
    "нормальные значения лежат в диапазоне 6-7,5 г/дЛ\n",
    "\n",
    "Диапазон между 25% квантилью и медианой соответствует нормальным показателям, однако на уровне 75% квантили видим резкое увеличение показателя буквально на порядок (57 г/дЛ). Этот столбец стоит внимательно исследовать на выбросы. Действительно ли возможно такое увеличение белка в случае болезни или имела место, например, ошибка связанная с неверными единицами измерения? Диапазон белка может быть измерен в граммах на децилитр как в нашем примере, а может в граммах на литр,\n",
    "как например здесь: https://www.rossdales.com/laboratories/tests-and-diseases/proteins-total-protein-albumin-globulin\n",
    "если интерпретировать данные, которые попали в диапазон от 75% квантили до максимума, как записанные в единицах г/Л и перевести их в г/дЛ, то получим данные, колеблющиеся около нормальных значений."
   ]
  },
  {
   "cell_type": "markdown",
   "metadata": {},
   "source": [
    "## Пункт 2 - работа с выбросами\n"
   ]
  },
  {
   "cell_type": "code",
   "execution_count": 12,
   "metadata": {},
   "outputs": [],
   "source": [
    "def find_outliers_in_column(column):\n",
    "    q25 = column.quantile(0.25)\n",
    "    q75 = column.quantile(0.75)\n",
    "    iqr = q75 - q25\n",
    "    \n",
    "    lower_outliers = column.loc[lambda x: x < q25 - (1.5 * iqr)].tolist()\n",
    "    higher_outliers = column.loc[lambda x: x > q75 + (1.5 * iqr)].tolist()\n",
    "    \n",
    "    if lower_outliers or higher_outliers:\n",
    "        print(f'В столбце {column.name} выбросов снизу - {len(lower_outliers)}, выбросов сверху - {len(higher_outliers)}')\n",
    "    return lower_outliers, higher_outliers\n"
   ]
  },
  {
   "cell_type": "code",
   "execution_count": 101,
   "metadata": {},
   "outputs": [
    {
     "name": "stdout",
     "output_type": "stream",
     "text": [
      "В столбце age выбросов снизу - 0, выбросов сверху - 24\n",
      "В столбце rectal_temp выбросов снизу - 7, выбросов сверху - 7\n",
      "В столбце pulse выбросов снизу - 0, выбросов сверху - 5\n",
      "В столбце peristalsis выбросов снизу - 39, выбросов сверху - 0\n",
      "В столбце packed_cell_volume выбросов снизу - 0, выбросов сверху - 3\n"
     ]
    }
   ],
   "source": [
    "# посчитаем по общей формуле выбросы для всех столбцов\n",
    "\n",
    "for col in horse_filtered.columns:\n",
    "    find_outliers_in_column(horse_filtered[col])\n"
   ]
  },
  {
   "cell_type": "markdown",
   "metadata": {},
   "source": [
    "Для **столбца age** 24 выброса сверху - это интерпретация программой значений 2 (молодые лошади). Говорить о них как о выбросах некорректно, к тому же это категориальные данные. Здесь оставим все без изменений"
   ]
  },
  {
   "cell_type": "markdown",
   "metadata": {},
   "source": [
    "В **столбце rectal_temp** изначально я не ожидала увидеть выбросов, однако они найдены и сверху, и снизу.\n",
    "Посмотрим на них:\n"
   ]
  },
  {
   "cell_type": "code",
   "execution_count": 13,
   "metadata": {},
   "outputs": [
    {
     "name": "stdout",
     "output_type": "stream",
     "text": [
      "В столбце rectal_temp выбросов снизу - 7, выбросов сверху - 7\n"
     ]
    },
    {
     "data": {
      "text/html": [
       "<div>\n",
       "<style scoped>\n",
       "    .dataframe tbody tr th:only-of-type {\n",
       "        vertical-align: middle;\n",
       "    }\n",
       "\n",
       "    .dataframe tbody tr th {\n",
       "        vertical-align: top;\n",
       "    }\n",
       "\n",
       "    .dataframe thead th {\n",
       "        text-align: right;\n",
       "    }\n",
       "</style>\n",
       "<table border=\"1\" class=\"dataframe\">\n",
       "  <thead>\n",
       "    <tr style=\"text-align: right;\">\n",
       "      <th></th>\n",
       "      <th>age</th>\n",
       "      <th>rectal_temp</th>\n",
       "      <th>pulse</th>\n",
       "      <th>temp_of_extremities</th>\n",
       "      <th>peristalsis</th>\n",
       "      <th>abdominal_distension</th>\n",
       "      <th>packed_cell_volume</th>\n",
       "      <th>total_protein</th>\n",
       "    </tr>\n",
       "  </thead>\n",
       "  <tbody>\n",
       "    <tr>\n",
       "      <th>44</th>\n",
       "      <td>1</td>\n",
       "      <td>35.4</td>\n",
       "      <td>140.0</td>\n",
       "      <td>3.0</td>\n",
       "      <td>4.0</td>\n",
       "      <td>NaN</td>\n",
       "      <td>57.0</td>\n",
       "      <td>69.0</td>\n",
       "    </tr>\n",
       "    <tr>\n",
       "      <th>80</th>\n",
       "      <td>1</td>\n",
       "      <td>36.4</td>\n",
       "      <td>98.0</td>\n",
       "      <td>3.0</td>\n",
       "      <td>3.0</td>\n",
       "      <td>2.0</td>\n",
       "      <td>47.0</td>\n",
       "      <td>6.4</td>\n",
       "    </tr>\n",
       "    <tr>\n",
       "      <th>118</th>\n",
       "      <td>1</td>\n",
       "      <td>36.5</td>\n",
       "      <td>78.0</td>\n",
       "      <td>1.0</td>\n",
       "      <td>3.0</td>\n",
       "      <td>1.0</td>\n",
       "      <td>34.0</td>\n",
       "      <td>75.0</td>\n",
       "    </tr>\n",
       "    <tr>\n",
       "      <th>141</th>\n",
       "      <td>1</td>\n",
       "      <td>36.0</td>\n",
       "      <td>42.0</td>\n",
       "      <td>NaN</td>\n",
       "      <td>NaN</td>\n",
       "      <td>NaN</td>\n",
       "      <td>64.0</td>\n",
       "      <td>6.8</td>\n",
       "    </tr>\n",
       "    <tr>\n",
       "      <th>238</th>\n",
       "      <td>1</td>\n",
       "      <td>36.1</td>\n",
       "      <td>88.0</td>\n",
       "      <td>3.0</td>\n",
       "      <td>3.0</td>\n",
       "      <td>2.0</td>\n",
       "      <td>45.0</td>\n",
       "      <td>7.0</td>\n",
       "    </tr>\n",
       "    <tr>\n",
       "      <th>251</th>\n",
       "      <td>1</td>\n",
       "      <td>36.6</td>\n",
       "      <td>42.0</td>\n",
       "      <td>3.0</td>\n",
       "      <td>4.0</td>\n",
       "      <td>1.0</td>\n",
       "      <td>52.0</td>\n",
       "      <td>7.1</td>\n",
       "    </tr>\n",
       "    <tr>\n",
       "      <th>298</th>\n",
       "      <td>1</td>\n",
       "      <td>36.5</td>\n",
       "      <td>100.0</td>\n",
       "      <td>3.0</td>\n",
       "      <td>3.0</td>\n",
       "      <td>3.0</td>\n",
       "      <td>50.0</td>\n",
       "      <td>6.0</td>\n",
       "    </tr>\n",
       "  </tbody>\n",
       "</table>\n",
       "</div>"
      ],
      "text/plain": [
       "     age  rectal_temp  pulse  temp_of_extremities  peristalsis  \\\n",
       "44     1         35.4  140.0                  3.0          4.0   \n",
       "80     1         36.4   98.0                  3.0          3.0   \n",
       "118    1         36.5   78.0                  1.0          3.0   \n",
       "141    1         36.0   42.0                  NaN          NaN   \n",
       "238    1         36.1   88.0                  3.0          3.0   \n",
       "251    1         36.6   42.0                  3.0          4.0   \n",
       "298    1         36.5  100.0                  3.0          3.0   \n",
       "\n",
       "     abdominal_distension  packed_cell_volume  total_protein  \n",
       "44                    NaN                57.0           69.0  \n",
       "80                    2.0                47.0            6.4  \n",
       "118                   1.0                34.0           75.0  \n",
       "141                   NaN                64.0            6.8  \n",
       "238                   2.0                45.0            7.0  \n",
       "251                   1.0                52.0            7.1  \n",
       "298                   3.0                50.0            6.0  "
      ]
     },
     "execution_count": 13,
     "metadata": {},
     "output_type": "execute_result"
    }
   ],
   "source": [
    "lower_outliers, higher_outliers = find_outliers_in_column(horse_filtered['rectal_temp'])\n",
    "horse_filtered[horse_filtered['rectal_temp'].isin(lower_outliers)]"
   ]
  },
  {
   "cell_type": "markdown",
   "metadata": {},
   "source": [
    "Низкая тепература тела соотносится с другими показателями - температура конечностей холодная, перистальтика гипомоторная или отсутствует, пульс частый, слабый. Резкое понижение температуры характерно для упадка сердечной деятельности (https://veterinarua.ru/svinovodstvo/103-klinicheskaya-diagnostika-vnutrennikh-boleznej-domashnikh-zhivotnykh-a-v-sinjov-1946-moskva-1946/1954-gipotermiya.html), а сердечная недостаточность м.б. одним из осложнений заболеваний ЖКТ, вызывающих колики.  Это согласуется с  указанием из файла описания данных: температура после повышения в начале болезни, может снова упасть, когда у лошади наступает состояние шока. Буду считать, что эти выбросы - не ошибки или искажения, а реальные данные, соответствующие симптомам болезни. Удалять или изменить их в датасете я не буду"
   ]
  },
  {
   "cell_type": "code",
   "execution_count": 14,
   "metadata": {},
   "outputs": [
    {
     "data": {
      "text/html": [
       "<div>\n",
       "<style scoped>\n",
       "    .dataframe tbody tr th:only-of-type {\n",
       "        vertical-align: middle;\n",
       "    }\n",
       "\n",
       "    .dataframe tbody tr th {\n",
       "        vertical-align: top;\n",
       "    }\n",
       "\n",
       "    .dataframe thead th {\n",
       "        text-align: right;\n",
       "    }\n",
       "</style>\n",
       "<table border=\"1\" class=\"dataframe\">\n",
       "  <thead>\n",
       "    <tr style=\"text-align: right;\">\n",
       "      <th></th>\n",
       "      <th>age</th>\n",
       "      <th>rectal_temp</th>\n",
       "      <th>pulse</th>\n",
       "      <th>temp_of_extremities</th>\n",
       "      <th>peristalsis</th>\n",
       "      <th>abdominal_distension</th>\n",
       "      <th>packed_cell_volume</th>\n",
       "      <th>total_protein</th>\n",
       "    </tr>\n",
       "  </thead>\n",
       "  <tbody>\n",
       "    <tr>\n",
       "      <th>20</th>\n",
       "      <td>1</td>\n",
       "      <td>39.9</td>\n",
       "      <td>72.0</td>\n",
       "      <td>1.0</td>\n",
       "      <td>4.0</td>\n",
       "      <td>4.0</td>\n",
       "      <td>46.0</td>\n",
       "      <td>6.1</td>\n",
       "    </tr>\n",
       "    <tr>\n",
       "      <th>54</th>\n",
       "      <td>1</td>\n",
       "      <td>40.3</td>\n",
       "      <td>114.0</td>\n",
       "      <td>3.0</td>\n",
       "      <td>3.0</td>\n",
       "      <td>3.0</td>\n",
       "      <td>57.0</td>\n",
       "      <td>8.1</td>\n",
       "    </tr>\n",
       "    <tr>\n",
       "      <th>75</th>\n",
       "      <td>2</td>\n",
       "      <td>39.7</td>\n",
       "      <td>100.0</td>\n",
       "      <td>3.0</td>\n",
       "      <td>3.0</td>\n",
       "      <td>NaN</td>\n",
       "      <td>48.0</td>\n",
       "      <td>57.0</td>\n",
       "    </tr>\n",
       "    <tr>\n",
       "      <th>91</th>\n",
       "      <td>1</td>\n",
       "      <td>40.3</td>\n",
       "      <td>114.0</td>\n",
       "      <td>3.0</td>\n",
       "      <td>3.0</td>\n",
       "      <td>3.0</td>\n",
       "      <td>57.0</td>\n",
       "      <td>8.1</td>\n",
       "    </tr>\n",
       "    <tr>\n",
       "      <th>99</th>\n",
       "      <td>1</td>\n",
       "      <td>39.6</td>\n",
       "      <td>108.0</td>\n",
       "      <td>3.0</td>\n",
       "      <td>4.0</td>\n",
       "      <td>3.0</td>\n",
       "      <td>59.0</td>\n",
       "      <td>8.0</td>\n",
       "    </tr>\n",
       "    <tr>\n",
       "      <th>259</th>\n",
       "      <td>1</td>\n",
       "      <td>40.8</td>\n",
       "      <td>72.0</td>\n",
       "      <td>3.0</td>\n",
       "      <td>3.0</td>\n",
       "      <td>1.0</td>\n",
       "      <td>54.0</td>\n",
       "      <td>7.4</td>\n",
       "    </tr>\n",
       "    <tr>\n",
       "      <th>281</th>\n",
       "      <td>1</td>\n",
       "      <td>40.0</td>\n",
       "      <td>78.0</td>\n",
       "      <td>3.0</td>\n",
       "      <td>3.0</td>\n",
       "      <td>1.0</td>\n",
       "      <td>66.0</td>\n",
       "      <td>6.5</td>\n",
       "    </tr>\n",
       "  </tbody>\n",
       "</table>\n",
       "</div>"
      ],
      "text/plain": [
       "     age  rectal_temp  pulse  temp_of_extremities  peristalsis  \\\n",
       "20     1         39.9   72.0                  1.0          4.0   \n",
       "54     1         40.3  114.0                  3.0          3.0   \n",
       "75     2         39.7  100.0                  3.0          3.0   \n",
       "91     1         40.3  114.0                  3.0          3.0   \n",
       "99     1         39.6  108.0                  3.0          4.0   \n",
       "259    1         40.8   72.0                  3.0          3.0   \n",
       "281    1         40.0   78.0                  3.0          3.0   \n",
       "\n",
       "     abdominal_distension  packed_cell_volume  total_protein  \n",
       "20                    4.0                46.0            6.1  \n",
       "54                    3.0                57.0            8.1  \n",
       "75                    NaN                48.0           57.0  \n",
       "91                    3.0                57.0            8.1  \n",
       "99                    3.0                59.0            8.0  \n",
       "259                   1.0                54.0            7.4  \n",
       "281                   1.0                66.0            6.5  "
      ]
     },
     "execution_count": 14,
     "metadata": {},
     "output_type": "execute_result"
    }
   ],
   "source": [
    "horse_filtered[horse_filtered['rectal_temp'].isin(higher_outliers)]"
   ]
  },
  {
   "cell_type": "markdown",
   "metadata": {},
   "source": [
    "Повышенная температура так же не демонстрирует каких-либо совершенно невозможных цифр. В случае с молодой лошадью (строка 75, age = 2) это выглядит, как повышенная температура, но не выброс, так как у молодняка в целом средние значения температуры выше, чем у взролых лошадей (https://www.equinevet.ru/post/%D1%84%D0%B8%D0%B7%D0%B8%D0%BE%D0%BB%D0%BE%D0%B3%D0%B8%D1%87%D0%B5%D1%81%D0%BA%D0%B8%D0%B5-%D0%BF%D0%BE%D0%BA%D0%B0%D0%B7%D0%B0%D1%82%D0%B5%D0%BB%D0%B8-%D0%BB%D0%BE%D1%88%D0%B0%D0%B4%D0%B8). В остальных случаях такая температура может указывать на наличие инфекционных заболеваний (может достигать 40-41 С). \n",
    "\n",
    "Однако выглядит неочевидным факт, что у лошадей с явно высокой температурой столбец temp_of_extremities показывает, что конечности нормальной температуры или прохладные. Из файла описания данных мы знаем, температура конечностей должна коррелировать с ректальной температурой, теплые конечности при повышенной температуре. Это же согласуется с бытовыми интуитивными представлениями. Поэтому для этих строк изменять значения температур я не буду, но в столбце temp_of_extremities укажу значения 2 (теплые конечности)"
   ]
  },
  {
   "cell_type": "code",
   "execution_count": 15,
   "metadata": {},
   "outputs": [
    {
     "data": {
      "text/html": [
       "<div>\n",
       "<style scoped>\n",
       "    .dataframe tbody tr th:only-of-type {\n",
       "        vertical-align: middle;\n",
       "    }\n",
       "\n",
       "    .dataframe tbody tr th {\n",
       "        vertical-align: top;\n",
       "    }\n",
       "\n",
       "    .dataframe thead th {\n",
       "        text-align: right;\n",
       "    }\n",
       "</style>\n",
       "<table border=\"1\" class=\"dataframe\">\n",
       "  <thead>\n",
       "    <tr style=\"text-align: right;\">\n",
       "      <th></th>\n",
       "      <th>age</th>\n",
       "      <th>rectal_temp</th>\n",
       "      <th>pulse</th>\n",
       "      <th>temp_of_extremities</th>\n",
       "      <th>peristalsis</th>\n",
       "      <th>abdominal_distension</th>\n",
       "      <th>packed_cell_volume</th>\n",
       "      <th>total_protein</th>\n",
       "    </tr>\n",
       "  </thead>\n",
       "  <tbody>\n",
       "    <tr>\n",
       "      <th>20</th>\n",
       "      <td>1</td>\n",
       "      <td>39.9</td>\n",
       "      <td>72.0</td>\n",
       "      <td>2.0</td>\n",
       "      <td>4.0</td>\n",
       "      <td>4.0</td>\n",
       "      <td>46.0</td>\n",
       "      <td>6.1</td>\n",
       "    </tr>\n",
       "    <tr>\n",
       "      <th>54</th>\n",
       "      <td>1</td>\n",
       "      <td>40.3</td>\n",
       "      <td>114.0</td>\n",
       "      <td>2.0</td>\n",
       "      <td>3.0</td>\n",
       "      <td>3.0</td>\n",
       "      <td>57.0</td>\n",
       "      <td>8.1</td>\n",
       "    </tr>\n",
       "    <tr>\n",
       "      <th>75</th>\n",
       "      <td>2</td>\n",
       "      <td>39.7</td>\n",
       "      <td>100.0</td>\n",
       "      <td>2.0</td>\n",
       "      <td>3.0</td>\n",
       "      <td>NaN</td>\n",
       "      <td>48.0</td>\n",
       "      <td>57.0</td>\n",
       "    </tr>\n",
       "    <tr>\n",
       "      <th>91</th>\n",
       "      <td>1</td>\n",
       "      <td>40.3</td>\n",
       "      <td>114.0</td>\n",
       "      <td>2.0</td>\n",
       "      <td>3.0</td>\n",
       "      <td>3.0</td>\n",
       "      <td>57.0</td>\n",
       "      <td>8.1</td>\n",
       "    </tr>\n",
       "    <tr>\n",
       "      <th>99</th>\n",
       "      <td>1</td>\n",
       "      <td>39.6</td>\n",
       "      <td>108.0</td>\n",
       "      <td>2.0</td>\n",
       "      <td>4.0</td>\n",
       "      <td>3.0</td>\n",
       "      <td>59.0</td>\n",
       "      <td>8.0</td>\n",
       "    </tr>\n",
       "    <tr>\n",
       "      <th>259</th>\n",
       "      <td>1</td>\n",
       "      <td>40.8</td>\n",
       "      <td>72.0</td>\n",
       "      <td>2.0</td>\n",
       "      <td>3.0</td>\n",
       "      <td>1.0</td>\n",
       "      <td>54.0</td>\n",
       "      <td>7.4</td>\n",
       "    </tr>\n",
       "    <tr>\n",
       "      <th>281</th>\n",
       "      <td>1</td>\n",
       "      <td>40.0</td>\n",
       "      <td>78.0</td>\n",
       "      <td>2.0</td>\n",
       "      <td>3.0</td>\n",
       "      <td>1.0</td>\n",
       "      <td>66.0</td>\n",
       "      <td>6.5</td>\n",
       "    </tr>\n",
       "  </tbody>\n",
       "</table>\n",
       "</div>"
      ],
      "text/plain": [
       "     age  rectal_temp  pulse  temp_of_extremities  peristalsis  \\\n",
       "20     1         39.9   72.0                  2.0          4.0   \n",
       "54     1         40.3  114.0                  2.0          3.0   \n",
       "75     2         39.7  100.0                  2.0          3.0   \n",
       "91     1         40.3  114.0                  2.0          3.0   \n",
       "99     1         39.6  108.0                  2.0          4.0   \n",
       "259    1         40.8   72.0                  2.0          3.0   \n",
       "281    1         40.0   78.0                  2.0          3.0   \n",
       "\n",
       "     abdominal_distension  packed_cell_volume  total_protein  \n",
       "20                    4.0                46.0            6.1  \n",
       "54                    3.0                57.0            8.1  \n",
       "75                    NaN                48.0           57.0  \n",
       "91                    3.0                57.0            8.1  \n",
       "99                    3.0                59.0            8.0  \n",
       "259                   1.0                54.0            7.4  \n",
       "281                   1.0                66.0            6.5  "
      ]
     },
     "execution_count": 15,
     "metadata": {},
     "output_type": "execute_result"
    }
   ],
   "source": [
    "horse_filtered.loc[horse_filtered['rectal_temp'].isin(higher_outliers), 'temp_of_extremities'] = 2\n",
    "horse_filtered[horse_filtered['rectal_temp'].isin(higher_outliers)]"
   ]
  },
  {
   "cell_type": "markdown",
   "metadata": {},
   "source": [
    "В **столбце pulse**, как и предполагалось, есть несколько выбросов сверху. Посмотрим на них"
   ]
  },
  {
   "cell_type": "code",
   "execution_count": 104,
   "metadata": {},
   "outputs": [
    {
     "name": "stdout",
     "output_type": "stream",
     "text": [
      "В столбце pulse выбросов снизу - 0, выбросов сверху - 5\n"
     ]
    },
    {
     "data": {
      "text/html": [
       "<div>\n",
       "<style scoped>\n",
       "    .dataframe tbody tr th:only-of-type {\n",
       "        vertical-align: middle;\n",
       "    }\n",
       "\n",
       "    .dataframe tbody tr th {\n",
       "        vertical-align: top;\n",
       "    }\n",
       "\n",
       "    .dataframe thead th {\n",
       "        text-align: right;\n",
       "    }\n",
       "</style>\n",
       "<table border=\"1\" class=\"dataframe\">\n",
       "  <thead>\n",
       "    <tr style=\"text-align: right;\">\n",
       "      <th></th>\n",
       "      <th>age</th>\n",
       "      <th>rectal_temp</th>\n",
       "      <th>pulse</th>\n",
       "      <th>temp_of_extremities</th>\n",
       "      <th>peristalsis</th>\n",
       "      <th>abdominal_distension</th>\n",
       "      <th>packed_cell_volume</th>\n",
       "      <th>total_protein</th>\n",
       "    </tr>\n",
       "  </thead>\n",
       "  <tbody>\n",
       "    <tr>\n",
       "      <th>3</th>\n",
       "      <td>2</td>\n",
       "      <td>39.1</td>\n",
       "      <td>164.0</td>\n",
       "      <td>4.0</td>\n",
       "      <td>4.0</td>\n",
       "      <td>4.0</td>\n",
       "      <td>48.0</td>\n",
       "      <td>7.2</td>\n",
       "    </tr>\n",
       "    <tr>\n",
       "      <th>41</th>\n",
       "      <td>2</td>\n",
       "      <td>39.0</td>\n",
       "      <td>150.0</td>\n",
       "      <td>NaN</td>\n",
       "      <td>NaN</td>\n",
       "      <td>NaN</td>\n",
       "      <td>47.0</td>\n",
       "      <td>8.5</td>\n",
       "    </tr>\n",
       "    <tr>\n",
       "      <th>55</th>\n",
       "      <td>2</td>\n",
       "      <td>38.6</td>\n",
       "      <td>160.0</td>\n",
       "      <td>3.0</td>\n",
       "      <td>3.0</td>\n",
       "      <td>4.0</td>\n",
       "      <td>38.0</td>\n",
       "      <td>NaN</td>\n",
       "    </tr>\n",
       "    <tr>\n",
       "      <th>255</th>\n",
       "      <td>2</td>\n",
       "      <td>38.8</td>\n",
       "      <td>184.0</td>\n",
       "      <td>1.0</td>\n",
       "      <td>1.0</td>\n",
       "      <td>3.0</td>\n",
       "      <td>33.0</td>\n",
       "      <td>3.3</td>\n",
       "    </tr>\n",
       "    <tr>\n",
       "      <th>275</th>\n",
       "      <td>2</td>\n",
       "      <td>38.8</td>\n",
       "      <td>150.0</td>\n",
       "      <td>1.0</td>\n",
       "      <td>3.0</td>\n",
       "      <td>2.0</td>\n",
       "      <td>50.0</td>\n",
       "      <td>6.2</td>\n",
       "    </tr>\n",
       "  </tbody>\n",
       "</table>\n",
       "</div>"
      ],
      "text/plain": [
       "     age  rectal_temp  pulse  temp_of_extremities  peristalsis  \\\n",
       "3      2         39.1  164.0                  4.0          4.0   \n",
       "41     2         39.0  150.0                  NaN          NaN   \n",
       "55     2         38.6  160.0                  3.0          3.0   \n",
       "255    2         38.8  184.0                  1.0          1.0   \n",
       "275    2         38.8  150.0                  1.0          3.0   \n",
       "\n",
       "     abdominal_distension  packed_cell_volume  total_protein  \n",
       "3                     4.0                48.0            7.2  \n",
       "41                    NaN                47.0            8.5  \n",
       "55                    4.0                38.0            NaN  \n",
       "255                   3.0                33.0            3.3  \n",
       "275                   2.0                50.0            6.2  "
      ]
     },
     "execution_count": 104,
     "metadata": {},
     "output_type": "execute_result"
    }
   ],
   "source": [
    "lower_outliers, higher_outliers = find_outliers_in_column(horse_filtered['pulse'])\n",
    "horse_filtered[horse_filtered['pulse'].isin(higher_outliers)]"
   ]
  },
  {
   "cell_type": "markdown",
   "metadata": {},
   "source": [
    "Заметим, что все случаи относятся к лошадям молодого возраста (age=2). Возраст может быть причиной повышенного пульса: если для взрослой лошади норма ~40 ударов в минуту, то для жеребят норма до 120 ударов, а у новорожденных до 150 ударов в минуту (https://www.equinevet.ru/post/%D1%84%D0%B8%D0%B7%D0%B8%D0%BE%D0%BB%D0%BE%D0%B3%D0%B8%D1%87%D0%B5%D1%81%D0%BA%D0%B8%D0%B5-%D0%BF%D0%BE%D0%BA%D0%B0%D0%B7%D0%B0%D1%82%D0%B5%D0%BB%D0%B8-%D0%BB%D0%BE%D1%88%D0%B0%D0%B4%D0%B8).\n",
    "\n",
    "Повышенна температура, гипомоторная перистальтика, вздутие живота, повышенный уровень белка (может наблюдаться при острых и хронических инфекционных заболеваниях, при обезвоживании) или наоборот пониженный уровнем белка (при нарушениях функциях ЖКТ) - признаки угнетенного организма. В этих случаях тахикардия возможна. Буду считать эти выбросы не ошибочными, а реальными данными, изменять их не буду"
   ]
  },
  {
   "cell_type": "markdown",
   "metadata": {},
   "source": [
    "**Столбец peristalsis** содержит категориальные данные, анализировать его с точки зрения выбросов не буду"
   ]
  },
  {
   "cell_type": "markdown",
   "metadata": {},
   "source": [
    "**Столбец packed_cell_volume** содержит выбросы сверху. Посмотрим на них"
   ]
  },
  {
   "cell_type": "code",
   "execution_count": 105,
   "metadata": {},
   "outputs": [
    {
     "name": "stdout",
     "output_type": "stream",
     "text": [
      "В столбце packed_cell_volume выбросов снизу - 0, выбросов сверху - 3\n"
     ]
    },
    {
     "data": {
      "text/html": [
       "<div>\n",
       "<style scoped>\n",
       "    .dataframe tbody tr th:only-of-type {\n",
       "        vertical-align: middle;\n",
       "    }\n",
       "\n",
       "    .dataframe tbody tr th {\n",
       "        vertical-align: top;\n",
       "    }\n",
       "\n",
       "    .dataframe thead th {\n",
       "        text-align: right;\n",
       "    }\n",
       "</style>\n",
       "<table border=\"1\" class=\"dataframe\">\n",
       "  <thead>\n",
       "    <tr style=\"text-align: right;\">\n",
       "      <th></th>\n",
       "      <th>age</th>\n",
       "      <th>rectal_temp</th>\n",
       "      <th>pulse</th>\n",
       "      <th>temp_of_extremities</th>\n",
       "      <th>peristalsis</th>\n",
       "      <th>abdominal_distension</th>\n",
       "      <th>packed_cell_volume</th>\n",
       "      <th>total_protein</th>\n",
       "    </tr>\n",
       "  </thead>\n",
       "  <tbody>\n",
       "    <tr>\n",
       "      <th>4</th>\n",
       "      <td>1</td>\n",
       "      <td>37.3</td>\n",
       "      <td>104.0</td>\n",
       "      <td>NaN</td>\n",
       "      <td>NaN</td>\n",
       "      <td>NaN</td>\n",
       "      <td>74.0</td>\n",
       "      <td>7.4</td>\n",
       "    </tr>\n",
       "    <tr>\n",
       "      <th>144</th>\n",
       "      <td>1</td>\n",
       "      <td>37.1</td>\n",
       "      <td>84.0</td>\n",
       "      <td>3.0</td>\n",
       "      <td>4.0</td>\n",
       "      <td>4.0</td>\n",
       "      <td>75.0</td>\n",
       "      <td>81.0</td>\n",
       "    </tr>\n",
       "    <tr>\n",
       "      <th>151</th>\n",
       "      <td>1</td>\n",
       "      <td>39.3</td>\n",
       "      <td>NaN</td>\n",
       "      <td>4.0</td>\n",
       "      <td>4.0</td>\n",
       "      <td>2.0</td>\n",
       "      <td>75.0</td>\n",
       "      <td>NaN</td>\n",
       "    </tr>\n",
       "  </tbody>\n",
       "</table>\n",
       "</div>"
      ],
      "text/plain": [
       "     age  rectal_temp  pulse  temp_of_extremities  peristalsis  \\\n",
       "4      1         37.3  104.0                  NaN          NaN   \n",
       "144    1         37.1   84.0                  3.0          4.0   \n",
       "151    1         39.3    NaN                  4.0          4.0   \n",
       "\n",
       "     abdominal_distension  packed_cell_volume  total_protein  \n",
       "4                     NaN                74.0            7.4  \n",
       "144                   4.0                75.0           81.0  \n",
       "151                   2.0                75.0            NaN  "
      ]
     },
     "execution_count": 105,
     "metadata": {},
     "output_type": "execute_result"
    }
   ],
   "source": [
    "lower_outliers, higher_outliers = find_outliers_in_column(horse_filtered['packed_cell_volume'])\n",
    "horse_filtered[horse_filtered['packed_cell_volume'].isin(higher_outliers)]"
   ]
  },
  {
   "cell_type": "markdown",
   "metadata": {},
   "source": [
    "Превышение нормы pcv составляет порядка 25%. Однако можно найти статьи (https://iopscience.iop.org/article/10.1088/1742-6596/790/1/012035/pdf), в которых упоминается, что такие показатели так же возможны, хоть и специфичны (в статье используется термин HCT вместо PCV, но это синонимы https://helix.ru/kb/item/42/). Высокий показатель pcv говорит о вязкости и густоте крови, это одно из последствий обезвоживания. Обезвоживание в свою очередь встречается при заболеваниях ЖКТ, вызывающих колики. Удалять или изменять эти данные pcv я не буду.  "
   ]
  },
  {
   "cell_type": "markdown",
   "metadata": {},
   "source": [
    "Интересно, что в **столбце total_protein** не выявлено выбросов, хотя максимальные значения превышают нормальные значения более, чем в 10 раз. Мне не удалось найти источники, в которых указано, что такие показатели возможны или наоборот невозможны. "
   ]
  },
  {
   "cell_type": "code",
   "execution_count": 106,
   "metadata": {},
   "outputs": [
    {
     "data": {
      "text/html": [
       "<div>\n",
       "<style scoped>\n",
       "    .dataframe tbody tr th:only-of-type {\n",
       "        vertical-align: middle;\n",
       "    }\n",
       "\n",
       "    .dataframe tbody tr th {\n",
       "        vertical-align: top;\n",
       "    }\n",
       "\n",
       "    .dataframe thead th {\n",
       "        text-align: right;\n",
       "    }\n",
       "</style>\n",
       "<table border=\"1\" class=\"dataframe\">\n",
       "  <thead>\n",
       "    <tr style=\"text-align: right;\">\n",
       "      <th></th>\n",
       "      <th>age</th>\n",
       "      <th>rectal_temp</th>\n",
       "      <th>pulse</th>\n",
       "      <th>temp_of_extremities</th>\n",
       "      <th>peristalsis</th>\n",
       "      <th>abdominal_distension</th>\n",
       "      <th>packed_cell_volume</th>\n",
       "      <th>total_protein</th>\n",
       "    </tr>\n",
       "  </thead>\n",
       "  <tbody>\n",
       "    <tr>\n",
       "      <th>1</th>\n",
       "      <td>1</td>\n",
       "      <td>39.2</td>\n",
       "      <td>88.0</td>\n",
       "      <td>NaN</td>\n",
       "      <td>4.0</td>\n",
       "      <td>2.0</td>\n",
       "      <td>50.0</td>\n",
       "      <td>85.0</td>\n",
       "    </tr>\n",
       "    <tr>\n",
       "      <th>14</th>\n",
       "      <td>1</td>\n",
       "      <td>38.2</td>\n",
       "      <td>76.0</td>\n",
       "      <td>3.0</td>\n",
       "      <td>4.0</td>\n",
       "      <td>1.0</td>\n",
       "      <td>46.0</td>\n",
       "      <td>81.0</td>\n",
       "    </tr>\n",
       "    <tr>\n",
       "      <th>23</th>\n",
       "      <td>2</td>\n",
       "      <td>38.3</td>\n",
       "      <td>130.0</td>\n",
       "      <td>NaN</td>\n",
       "      <td>4.0</td>\n",
       "      <td>NaN</td>\n",
       "      <td>50.0</td>\n",
       "      <td>70.0</td>\n",
       "    </tr>\n",
       "    <tr>\n",
       "      <th>24</th>\n",
       "      <td>1</td>\n",
       "      <td>38.1</td>\n",
       "      <td>60.0</td>\n",
       "      <td>3.0</td>\n",
       "      <td>4.0</td>\n",
       "      <td>3.0</td>\n",
       "      <td>51.0</td>\n",
       "      <td>65.0</td>\n",
       "    </tr>\n",
       "    <tr>\n",
       "      <th>29</th>\n",
       "      <td>1</td>\n",
       "      <td>37.7</td>\n",
       "      <td>48.0</td>\n",
       "      <td>2.0</td>\n",
       "      <td>1.0</td>\n",
       "      <td>1.0</td>\n",
       "      <td>45.0</td>\n",
       "      <td>76.0</td>\n",
       "    </tr>\n",
       "    <tr>\n",
       "      <th>...</th>\n",
       "      <td>...</td>\n",
       "      <td>...</td>\n",
       "      <td>...</td>\n",
       "      <td>...</td>\n",
       "      <td>...</td>\n",
       "      <td>...</td>\n",
       "      <td>...</td>\n",
       "      <td>...</td>\n",
       "    </tr>\n",
       "    <tr>\n",
       "      <th>290</th>\n",
       "      <td>1</td>\n",
       "      <td>38.6</td>\n",
       "      <td>45.0</td>\n",
       "      <td>2.0</td>\n",
       "      <td>1.0</td>\n",
       "      <td>NaN</td>\n",
       "      <td>43.0</td>\n",
       "      <td>58.0</td>\n",
       "    </tr>\n",
       "    <tr>\n",
       "      <th>293</th>\n",
       "      <td>1</td>\n",
       "      <td>NaN</td>\n",
       "      <td>78.0</td>\n",
       "      <td>3.0</td>\n",
       "      <td>3.0</td>\n",
       "      <td>NaN</td>\n",
       "      <td>43.0</td>\n",
       "      <td>62.0</td>\n",
       "    </tr>\n",
       "    <tr>\n",
       "      <th>294</th>\n",
       "      <td>1</td>\n",
       "      <td>38.5</td>\n",
       "      <td>40.0</td>\n",
       "      <td>1.0</td>\n",
       "      <td>1.0</td>\n",
       "      <td>1.0</td>\n",
       "      <td>37.0</td>\n",
       "      <td>67.0</td>\n",
       "    </tr>\n",
       "    <tr>\n",
       "      <th>295</th>\n",
       "      <td>1</td>\n",
       "      <td>NaN</td>\n",
       "      <td>120.0</td>\n",
       "      <td>4.0</td>\n",
       "      <td>4.0</td>\n",
       "      <td>NaN</td>\n",
       "      <td>55.0</td>\n",
       "      <td>65.0</td>\n",
       "    </tr>\n",
       "    <tr>\n",
       "      <th>299</th>\n",
       "      <td>1</td>\n",
       "      <td>37.2</td>\n",
       "      <td>40.0</td>\n",
       "      <td>NaN</td>\n",
       "      <td>NaN</td>\n",
       "      <td>NaN</td>\n",
       "      <td>36.0</td>\n",
       "      <td>62.0</td>\n",
       "    </tr>\n",
       "  </tbody>\n",
       "</table>\n",
       "<p>79 rows × 8 columns</p>\n",
       "</div>"
      ],
      "text/plain": [
       "     age  rectal_temp  pulse  temp_of_extremities  peristalsis  \\\n",
       "1      1         39.2   88.0                  NaN          4.0   \n",
       "14     1         38.2   76.0                  3.0          4.0   \n",
       "23     2         38.3  130.0                  NaN          4.0   \n",
       "24     1         38.1   60.0                  3.0          4.0   \n",
       "29     1         37.7   48.0                  2.0          1.0   \n",
       "..   ...          ...    ...                  ...          ...   \n",
       "290    1         38.6   45.0                  2.0          1.0   \n",
       "293    1          NaN   78.0                  3.0          3.0   \n",
       "294    1         38.5   40.0                  1.0          1.0   \n",
       "295    1          NaN  120.0                  4.0          4.0   \n",
       "299    1         37.2   40.0                  NaN          NaN   \n",
       "\n",
       "     abdominal_distension  packed_cell_volume  total_protein  \n",
       "1                     2.0                50.0           85.0  \n",
       "14                    1.0                46.0           81.0  \n",
       "23                    NaN                50.0           70.0  \n",
       "24                    3.0                51.0           65.0  \n",
       "29                    1.0                45.0           76.0  \n",
       "..                    ...                 ...            ...  \n",
       "290                   NaN                43.0           58.0  \n",
       "293                   NaN                43.0           62.0  \n",
       "294                   1.0                37.0           67.0  \n",
       "295                   NaN                55.0           65.0  \n",
       "299                   NaN                36.0           62.0  \n",
       "\n",
       "[79 rows x 8 columns]"
      ]
     },
     "execution_count": 106,
     "metadata": {},
     "output_type": "execute_result"
    }
   ],
   "source": [
    "# при норме в 6 - 7.5 г/дЛ посмотрим сколько записей с общим уровнем белка, превышающим, допустим, вдвое верхнюю границу нормы\n",
    "horse_filtered[horse_filtered['total_protein'] > 15]"
   ]
  },
  {
   "cell_type": "markdown",
   "metadata": {},
   "source": [
    "В идеале требуется консультация ветеринара. В отсутствие специалиста, можно только предполагать. Если бы таких записей было сравнительно мало, логично было бы предположить ошибку измерений, ввода данных или использование единицы измерения граммы на литр вместо граммов на децилитр (в этом случае можно было бы исправить данные, поделив их на 10). Но так как таких строк болше 25% от общего числа, достаточно много, возможно это говорит о том, что данные не ошибочны, а просто выходят за пределы интуитивного восприятия человека, не сведущего в ветеринарии. Изменять их так же не буду."
   ]
  },
  {
   "cell_type": "markdown",
   "metadata": {},
   "source": [
    "## Пункт 3 - работа с пропущенными значениями"
   ]
  },
  {
   "cell_type": "markdown",
   "metadata": {},
   "source": [
    "Так как в датасете немного записей (300 строк), цена удаления строк при очистке относительно велика. Постараюсь избегать ситуаций, когда необходимо удалять крупные группы строк. Вместо этого попробую варианты с заменой значений.\n",
    "\n",
    "Единственное, перед работой с каждым столбцом в отдельности, проверю датасет на строки, в которых много пропусков данных. "
   ]
  },
  {
   "cell_type": "code",
   "execution_count": 18,
   "metadata": {},
   "outputs": [
    {
     "name": "stdout",
     "output_type": "stream",
     "text": [
      "<class 'pandas.core.frame.DataFrame'>\n",
      "Int64Index: 293 entries, 0 to 299\n",
      "Data columns (total 8 columns):\n",
      " #   Column                Non-Null Count  Dtype  \n",
      "---  ------                --------------  -----  \n",
      " 0   age                   293 non-null    int64  \n",
      " 1   rectal_temp           240 non-null    float64\n",
      " 2   pulse                 274 non-null    float64\n",
      " 3   temp_of_extremities   243 non-null    float64\n",
      " 4   peristalsis           256 non-null    float64\n",
      " 5   abdominal_distension  293 non-null    float64\n",
      " 6   packed_cell_volume    271 non-null    float64\n",
      " 7   total_protein         267 non-null    float64\n",
      "dtypes: float64(7), int64(1)\n",
      "memory usage: 20.6 KB\n"
     ]
    }
   ],
   "source": [
    "# Предположим, что для корректной работы нам нужн строки, в которых хотя бы половина столбцов заполнена\n",
    "horse_filtered.dropna(thresh=4, inplace=True)\n",
    "horse_filtered.info()\n",
    "# Датасет стал меньше на 8 строк - относительно небольшое количество, которым можно пренебречь"
   ]
  },
  {
   "cell_type": "code",
   "execution_count": 19,
   "metadata": {},
   "outputs": [
    {
     "name": "stdout",
     "output_type": "stream",
     "text": [
      "age - 0.00%\n",
      "rectal_temp - 18.09%\n",
      "pulse - 6.48%\n",
      "temp_of_extremities - 17.06%\n",
      "peristalsis - 12.63%\n",
      "abdominal_distension - 0.00%\n",
      "packed_cell_volume - 7.51%\n",
      "total_protein - 8.87%\n"
     ]
    }
   ],
   "source": [
    "for col in horse_filtered.columns:\n",
    "    pct_missing = horse_filtered[col].isnull().mean()\n",
    "    print(f'{col} - {pct_missing :.2%}')"
   ]
  },
  {
   "cell_type": "markdown",
   "metadata": {},
   "source": [
    "Во время изучения данных мы столкнулись с тем, что для молодых и взрослых лошадей нормальные физиологические показатели различаются. Для температуры и пульса воспользуемся заполнением медианными значениями для групп молодые и взрослые лошади"
   ]
  },
  {
   "cell_type": "code",
   "execution_count": 20,
   "metadata": {},
   "outputs": [
    {
     "name": "stdout",
     "output_type": "stream",
     "text": [
      "38.16791666666669 -> 38.16245733788401\n",
      "38.2 -> 38.1\n",
      "38.0 -> 38.1\n",
      "0.7322886641121578 -> 0.6649931267456192\n"
     ]
    }
   ],
   "source": [
    "fill_median_by_age = horse_filtered.copy()\n",
    "fill_median_by_age.rectal_temp.fillna(horse_filtered.groupby('age').rectal_temp.transform('median'), inplace=True)\n",
    "\n",
    "# видим, что меры центральной тенденции изменились незначительно\n",
    "print(horse_filtered.rectal_temp.mean(), '->', fill_median_by_age.rectal_temp.mean())\n",
    "print(horse_filtered.rectal_temp.median(), '->', fill_median_by_age.rectal_temp.median())\n",
    "print(horse_filtered.rectal_temp.mode()[0], '->', fill_median_by_age.rectal_temp.mode()[0])\n",
    "print(horse_filtered.rectal_temp.std(), '->',fill_median_by_age.rectal_temp.std())\n"
   ]
  },
  {
   "cell_type": "code",
   "execution_count": 21,
   "metadata": {},
   "outputs": [
    {
     "name": "stdout",
     "output_type": "stream",
     "text": [
      "71.95255474452554 -> 71.61433447098976\n",
      "64.0 -> 60.0\n",
      "48.0 -> 60.0\n",
      "28.73118962357173 -> 28.258191914161962\n"
     ]
    }
   ],
   "source": [
    "fill_median_by_age.pulse.fillna(horse_filtered.groupby('age').pulse.transform('median'), inplace=True)\n",
    "\n",
    "print(horse_filtered.pulse.mean(), '->', fill_median_by_age.pulse.mean())\n",
    "print(horse_filtered.pulse.median(), '->', fill_median_by_age.pulse.median())\n",
    "print(horse_filtered.pulse.mode()[0], '->', fill_median_by_age.pulse.mode()[0])\n",
    "print(horse_filtered.pulse.std(), '->',fill_median_by_age.pulse.std())\n"
   ]
  },
  {
   "cell_type": "code",
   "execution_count": 22,
   "metadata": {},
   "outputs": [
    {
     "name": "stdout",
     "output_type": "stream",
     "text": [
      "71.95255474452554 -> 72.04307211559772\n",
      "64.0 -> 66.0\n",
      "48.0 -> 48.0\n",
      "28.73118962357173 -> 28.125369932099026\n"
     ]
    }
   ],
   "source": [
    "# Заполнение по медиане дало бОльшие, чем ожидалось, изменения метрик. Попробуем заполнение средним.\n",
    "fill_mean_by_age = horse_filtered.copy()\n",
    "fill_mean_by_age.pulse.fillna(horse_filtered.groupby('age').pulse.transform('mean'), inplace=True)\n",
    "\n",
    "print(horse_filtered.pulse.mean(), '->', fill_mean_by_age.pulse.mean())\n",
    "print(horse_filtered.pulse.median(), '->', fill_mean_by_age.pulse.median())\n",
    "print(horse_filtered.pulse.mode()[0], '->', fill_mean_by_age.pulse.mode()[0])\n",
    "print(horse_filtered.pulse.std(), '->',fill_mean_by_age.pulse.std())\n",
    "# Такой способ дает более близкие к исходным метрикам значения. примем его как рабочий вариант"
   ]
  },
  {
   "cell_type": "code",
   "execution_count": 23,
   "metadata": {},
   "outputs": [],
   "source": [
    "# Применим то же к нашему датасету\n",
    "horse_filtered.rectal_temp.fillna(horse_filtered.groupby('age').rectal_temp.transform('median'), inplace=True)\n",
    "horse_filtered.pulse.fillna(horse_filtered.groupby('age').pulse.transform('mean'), inplace=True)\n"
   ]
  },
  {
   "cell_type": "markdown",
   "metadata": {},
   "source": [
    "Температура конечностей - категориальный показатель. Мы знаем, что его мода = 3, однако теплые конечности должны коррелировать с повышенной температурой"
   ]
  },
  {
   "cell_type": "code",
   "execution_count": 24,
   "metadata": {},
   "outputs": [
    {
     "name": "stdout",
     "output_type": "stream",
     "text": [
      "age\n",
      "1    38.1\n",
      "2    38.6\n",
      "Name: rectal_temp, dtype: float64\n"
     ]
    }
   ],
   "source": [
    "print(horse_filtered.groupby('age').rectal_temp.median())"
   ]
  },
  {
   "cell_type": "markdown",
   "metadata": {},
   "source": [
    "Будем считать, что температура 39C для обоих возрастных групп является повышенной. И если показатель rectal_temp превышает это значение, будем указывать temp_of_extremities = 2 (теплые конечности), а если нет, то возьмем значение 3 по моде."
   ]
  },
  {
   "cell_type": "code",
   "execution_count": 25,
   "metadata": {},
   "outputs": [],
   "source": [
    "horse_filtered.loc[horse_filtered['rectal_temp'] > 39, 'temp_of_extremities'] = 2\n",
    "horse_filtered.loc[horse_filtered.temp_of_extremities.isna(), 'temp_of_extremities'] = 3"
   ]
  },
  {
   "cell_type": "markdown",
   "metadata": {},
   "source": [
    "Перистальтика и вздутие живота - взаимосвязанные параметры. При наличии вздутия перистальтика будет пониженной (из описания), соответственно, при нормальном состоянии живота скорее всего перистальтика будет нормальной. \n",
    "Заполним значения перистальтики следующим образом: если степерь вздутия живота проставлена, и это значение 1 (нет вздутия), перистальтику заполним значением 2 (норма); в остальных случаем заполним по моде значением 3"
   ]
  },
  {
   "cell_type": "code",
   "execution_count": 26,
   "metadata": {},
   "outputs": [],
   "source": [
    "horse_filtered.loc[horse_filtered['abdominal_distension'] == 1, 'peristalsis'] = 2\n",
    "horse_filtered.loc[horse_filtered.peristalsis.isna(), 'peristalsis'] = 3"
   ]
  },
  {
   "cell_type": "markdown",
   "metadata": {},
   "source": [
    "Аналогично, для пропущенных значений столбца abdominal_distension, если в строке значение перистальтики заполнено и равно 3 или 4 (пониженная или отсутствует), для abdominal_distension укажем значение 3 (умеренная), в остальных случаях заполним по моде = 1"
   ]
  },
  {
   "cell_type": "code",
   "execution_count": 27,
   "metadata": {},
   "outputs": [],
   "source": [
    "horse_filtered.loc[horse_filtered['peristalsis'].isin([3, 4]), 'abdominal_distension'] = 3\n",
    "horse_filtered.loc[horse_filtered.abdominal_distension.isna(), 'abdominal_distension'] = 1"
   ]
  },
  {
   "cell_type": "markdown",
   "metadata": {},
   "source": [
    "Остались числовые столбцы packed_cell_volume и total_protein. В случае с packed_cell_volume попробую заполнение по медиане, т.к. имеются выбросы сверху"
   ]
  },
  {
   "cell_type": "code",
   "execution_count": 29,
   "metadata": {},
   "outputs": [
    {
     "name": "stdout",
     "output_type": "stream",
     "text": [
      "46.29520295202952 -> 46.177474402730375\n",
      "45.0 -> 45.0\n",
      "37.0 -> 45.0\n",
      "10.419334549704114 -> 10.033551818407293\n"
     ]
    }
   ],
   "source": [
    "# packed_cell_volume и заполнение по медиане\n",
    "fill_median_by_age.packed_cell_volume.fillna(horse_filtered.groupby('age').packed_cell_volume.transform('median'), inplace=True)\n",
    "\n",
    "print(horse_filtered.packed_cell_volume.mean(), '->', fill_median_by_age.packed_cell_volume.mean())\n",
    "print(horse_filtered.packed_cell_volume.median(), '->', fill_median_by_age.packed_cell_volume.median())\n",
    "print(horse_filtered.packed_cell_volume.mode()[0], '->', fill_median_by_age.packed_cell_volume.mode()[0])\n",
    "print(horse_filtered.packed_cell_volume.std(), '->',fill_median_by_age.packed_cell_volume.std())\n",
    "\n",
    "# ожидаемо изменилась мода, но другие метрики поменялись незначительно"
   ]
  },
  {
   "cell_type": "markdown",
   "metadata": {},
   "source": [
    "В случае с total_protein более устойчивое к выбросам заполнение по медиане тоже кажется более приемлемым (несмотря на то, что математически выбросов мы не получили), т.к. диапазон данных широк (до 89 г/дЛ при норме 6 - 7.5) "
   ]
  },
  {
   "cell_type": "code",
   "execution_count": 30,
   "metadata": {},
   "outputs": [
    {
     "name": "stdout",
     "output_type": "stream",
     "text": [
      "24.456928838951317 -> 22.94368600682595\n",
      "7.5 -> 7.5\n",
      "6.5 -> 7.5\n",
      "27.475009470785064 -> 26.669591466116703\n"
     ]
    }
   ],
   "source": [
    "# total_protein и заполнение по медиане\n",
    "fill_median_by_age.total_protein.fillna(horse_filtered.groupby('age').total_protein.transform('median'), inplace=True)\n",
    "\n",
    "print(horse_filtered.total_protein.mean(), '->', fill_median_by_age.total_protein.mean())\n",
    "print(horse_filtered.total_protein.median(), '->', fill_median_by_age.total_protein.median())\n",
    "print(horse_filtered.total_protein.mode()[0], '->', fill_median_by_age.total_protein.mode()[0])\n",
    "print(horse_filtered.total_protein.std(), '->',fill_median_by_age.total_protein.std())"
   ]
  },
  {
   "cell_type": "code",
   "execution_count": 34,
   "metadata": {},
   "outputs": [],
   "source": [
    "# применим последние операции к нашему датасету\n",
    "horse_filtered.packed_cell_volume.fillna(horse_filtered.groupby('age').packed_cell_volume.transform('median'), inplace=True)\n",
    "horse_filtered.total_protein.fillna(horse_filtered.groupby('age').total_protein.transform('mean'), inplace=True)"
   ]
  },
  {
   "cell_type": "code",
   "execution_count": 35,
   "metadata": {},
   "outputs": [
    {
     "name": "stdout",
     "output_type": "stream",
     "text": [
      "age - 0.00%\n",
      "rectal_temp - 0.00%\n",
      "pulse - 0.00%\n",
      "temp_of_extremities - 0.00%\n",
      "peristalsis - 0.00%\n",
      "abdominal_distension - 0.00%\n",
      "packed_cell_volume - 0.00%\n",
      "total_protein - 0.00%\n"
     ]
    }
   ],
   "source": [
    "# пропущенные данные убраны\n",
    "for col in horse_filtered.columns:\n",
    "    pct_missing = horse_filtered[col].isnull().mean()\n",
    "    print(f'{col} - {pct_missing :.2%}')"
   ]
  },
  {
   "cell_type": "markdown",
   "metadata": {},
   "source": [
    "## Дополнительная часть (необязательная)\n",
    "\n",
    "Выполнить задания 1-3 для всего набора данных."
   ]
  },
  {
   "cell_type": "markdown",
   "metadata": {},
   "source": [
    "#### ПРИМЕЧАНИЕ\n",
    "Домашнее задание сдается ссылкой на репозиторий [GitHub](https://github.com/).\n",
    "Не сможем проверить или помочь, если вы пришлете:\n",
    "- файлы;\n",
    "- архивы;\n",
    "- скриншоты кода.\n",
    "\n",
    "Все обсуждения и консультации по выполнению домашнего задания ведутся только на соответствующем канале в slack.\n",
    "\n",
    "##### Как правильно задавать вопросы аспирантам, преподавателям и коллегам\n",
    "Прежде чем задать вопрос, попробуйте найти ответ в интернете. Навык самостоятельного поиска информации — один из важнейших. Каждый практикующий специалист любого уровня делает это ежедневно.\n",
    "\n",
    "Сформулируйте вопрос по алгоритму:  \n",
    "1) Что я делаю?  \n",
    "2) Какого результата я ожидаю?  \n",
    "3) Как фактический результат отличается от ожидаемого?  \n",
    "4) Что я уже попробовал сделать, чтобы исправить проблему?  \n",
    "\n",
    "По возможности прикрепите к вопросу скриншоты либо ссылки на код. Не выкладывайте все решение, оставляйте только проблемный и воспроизводимый участок кода."
   ]
  }
 ],
 "metadata": {
  "kernelspec": {
   "display_name": "Python 3",
   "language": "python",
   "name": "python3"
  },
  "language_info": {
   "codemirror_mode": {
    "name": "ipython",
    "version": 3
   },
   "file_extension": ".py",
   "mimetype": "text/x-python",
   "name": "python",
   "nbconvert_exporter": "python",
   "pygments_lexer": "ipython3",
   "version": "3.7.7"
  }
 },
 "nbformat": 4,
 "nbformat_minor": 2
}
