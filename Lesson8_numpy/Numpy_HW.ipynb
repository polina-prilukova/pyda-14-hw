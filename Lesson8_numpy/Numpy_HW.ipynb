{
 "cells": [
  {
   "cell_type": "markdown",
   "metadata": {},
   "source": [
    "# Домашнее задание «Библиотека numpy. Вычислительные задачи»\n"
   ]
  },
  {
   "cell_type": "markdown",
   "metadata": {},
   "source": [
    "**Задание 1**\n",
    "\n",
    "Создайте numpy array с элементами от числа N до 0 (например, для N = 10 это будет ```array([9, 8, 7, 6, 5, 4, 3, 2, 1, 0])```)."
   ]
  },
  {
   "cell_type": "code",
   "execution_count": 1,
   "metadata": {},
   "outputs": [],
   "source": [
    "import numpy as np"
   ]
  },
  {
   "cell_type": "code",
   "execution_count": 20,
   "metadata": {},
   "outputs": [],
   "source": [
    "def create_array_from_n_to_0(n):\n",
    "    return np.arange(n+1, 1) if n < 0 else np.arange(n)[::-1]\n",
    "        "
   ]
  },
  {
   "cell_type": "code",
   "execution_count": 24,
   "metadata": {},
   "outputs": [
    {
     "name": "stdout",
     "output_type": "stream",
     "text": [
      "[-9 -8 -7 -6 -5 -4 -3 -2 -1  0]\n",
      "[9 8 7 6 5 4 3 2 1 0]\n"
     ]
    }
   ],
   "source": [
    "print(create_array_from_n_to_0(-10))\n",
    "print(create_array_from_n_to_0(10))\n"
   ]
  },
  {
   "cell_type": "markdown",
   "metadata": {},
   "source": [
    "**Задание 2**\n",
    "\n",
    "Создайте диагональную матрицу с элементами от N до 0. Посчитайте сумму ее значений на диагонали."
   ]
  },
  {
   "cell_type": "code",
   "execution_count": 28,
   "metadata": {},
   "outputs": [],
   "source": [
    "def create_matrix_and_find_diag_sum(n):\n",
    "    matrix = np.diag(create_array_from_n_to_0(n))\n",
    "    print(matrix)\n",
    "    print('sum =', matrix.sum())"
   ]
  },
  {
   "cell_type": "code",
   "execution_count": 29,
   "metadata": {},
   "outputs": [
    {
     "name": "stdout",
     "output_type": "stream",
     "text": [
      "[[4 0 0 0 0]\n",
      " [0 3 0 0 0]\n",
      " [0 0 2 0 0]\n",
      " [0 0 0 1 0]\n",
      " [0 0 0 0 0]]\n",
      "sum = 10\n",
      "[[7 0 0 0 0 0 0 0]\n",
      " [0 6 0 0 0 0 0 0]\n",
      " [0 0 5 0 0 0 0 0]\n",
      " [0 0 0 4 0 0 0 0]\n",
      " [0 0 0 0 3 0 0 0]\n",
      " [0 0 0 0 0 2 0 0]\n",
      " [0 0 0 0 0 0 1 0]\n",
      " [0 0 0 0 0 0 0 0]]\n",
      "sum = 28\n"
     ]
    }
   ],
   "source": [
    "create_matrix_and_find_diag_sum(5)\n",
    "create_matrix_and_find_diag_sum(8)"
   ]
  },
  {
   "cell_type": "markdown",
   "metadata": {},
   "source": [
    "**Задание 3**\n",
    "\n",
    "Решите систему уравнений:\n",
    "```\n",
    "4x + 2y + z = 4\n",
    "x + 3y = 12\n",
    "5y + 4z = -3```"
   ]
  },
  {
   "cell_type": "code",
   "execution_count": 30,
   "metadata": {},
   "outputs": [],
   "source": [
    "from numpy import linalg"
   ]
  },
  {
   "cell_type": "code",
   "execution_count": 33,
   "metadata": {},
   "outputs": [
    {
     "name": "stdout",
     "output_type": "stream",
     "text": [
      "x = 0.4666666666666668, y = 3.844444444444444, z = -5.555555555555555\n",
      "True\n"
     ]
    }
   ],
   "source": [
    "a = np.array([\n",
    "    [4, 2, 1],\n",
    "    [1, 3, 0], \n",
    "    [0, 5, 4]\n",
    "])\n",
    "\n",
    "b = np.array([4, 12, -3])\n",
    "\n",
    "x, y, z = linalg.solve(a, b)\n",
    "print(f'x = {x}, y = {y}, z = {z}')\n",
    "print(np.allclose(np.dot(a, linalg.solve(a, b)), b))"
   ]
  },
  {
   "cell_type": "markdown",
   "metadata": {},
   "source": [
    "**Задание 4**\n",
    "\n",
    "Имеется матрица покупок в интернет-магазине. Столбец А - ID пользователя. Остальные столбцы - количество покупок категорий товаров этим пользователем:\n",
    "На сайт заходит очередной посетитель, о покупках которого известно следующее:\n",
    "```next_user_stats = np.array([0, 1, 2, 0, 0, 0])```\n",
    "\n",
    "Найдите самого похожего пользователя. Т. е. посчитайте косинусное сходство между этим пользователем и всеми пользователями из массива user_stats\n",
    "\n"
   ]
  },
  {
   "cell_type": "code",
   "execution_count": 38,
   "metadata": {},
   "outputs": [],
   "source": [
    "users_stats = np.array(\n",
    "    [\n",
    "        [2, 1, 0, 0, 0, 0],\n",
    "        [1, 1, 2, 1, 0, 0],\n",
    "        [2, 0, 1, 0, 0, 0],\n",
    "        [1, 1, 2, 1, 0, 1],\n",
    "        [0, 0, 1, 2, 0, 0],\n",
    "        [0, 0, 0, 0, 0, 5],\n",
    "        [1, 0, 0, 0, 0, 0],\n",
    "        [0, 1, 1, 0, 0, 0],\n",
    "        [0, 0, 0, 1, 1, 3],\n",
    "        [1, 0, 0, 2, 1, 4]\n",
    "    ], \n",
    "    np.int32\n",
    ")\n",
    "\n",
    "next_user_stats = np.array([0, 1, 2, 0, 0, 0])"
   ]
  },
  {
   "cell_type": "code",
   "execution_count": 39,
   "metadata": {},
   "outputs": [],
   "source": [
    "def cosine(a, b):\n",
    "    \"\"\"\n",
    "    Подсчет косинуса угла между векторами a, b по их координатам\n",
    "    \"\"\"\n",
    "\n",
    "    aLength = np.linalg.norm( a )\n",
    "    bLength = np.linalg.norm( b )\n",
    "    \n",
    "    return np.dot( a, b ) / ( aLength * bLength )"
   ]
  },
  {
   "cell_type": "code",
   "execution_count": 69,
   "metadata": {},
   "outputs": [
    {
     "name": "stdout",
     "output_type": "stream",
     "text": [
      "Пользователь User_ID = 8 наиболее близок к новому. Косинусное расстояние = 0.9486832980505138\n"
     ]
    }
   ],
   "source": [
    "max_distance, i = max([(cosine(next_user_stats, user), i) for i, user in enumerate(users_stats, 1)], key=lambda a:a[0]) \n",
    "print(f'Пользователь User_ID = {i} наиболее близок к новому. Косинусное расстояние = {max_distance}')"
   ]
  },
  {
   "cell_type": "code",
   "execution_count": 70,
   "metadata": {},
   "outputs": [
    {
     "name": "stdout",
     "output_type": "stream",
     "text": [
      "1 0.19999999999999996\n",
      "2 0.8451542547285165\n",
      "3 0.3999999999999999\n",
      "4 0.7905694150420948\n",
      "5 0.3999999999999999\n",
      "6 0.0\n",
      "7 0.0\n",
      "8 0.9486832980505138\n",
      "9 0.0\n",
      "10 0.0\n"
     ]
    }
   ],
   "source": [
    "# в цикле более наглядно. действительно, у 8го пользователя косинусное расстояние наибольшее\n",
    "for i, user in enumerate(users_stats, 1):\n",
    "    print(i, cosine(next_user_stats, user))"
   ]
  },
  {
   "cell_type": "code",
   "execution_count": null,
   "metadata": {},
   "outputs": [],
   "source": []
  },
  {
   "cell_type": "code",
   "execution_count": null,
   "metadata": {},
   "outputs": [],
   "source": []
  }
 ],
 "metadata": {
  "kernelspec": {
   "display_name": "Python 3",
   "language": "python",
   "name": "python3"
  },
  "language_info": {
   "codemirror_mode": {
    "name": "ipython",
    "version": 3
   },
   "file_extension": ".py",
   "mimetype": "text/x-python",
   "name": "python",
   "nbconvert_exporter": "python",
   "pygments_lexer": "ipython3",
   "version": "3.7.7"
  }
 },
 "nbformat": 4,
 "nbformat_minor": 4
}
