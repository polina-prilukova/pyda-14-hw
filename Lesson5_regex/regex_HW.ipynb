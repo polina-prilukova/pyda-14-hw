{
 "cells": [
  {
   "cell_type": "markdown",
   "metadata": {},
   "source": [
    "# Домашнее задание к лекции \"Регулярные выражения\"\n",
    "\n",
    "Внимание! При реализации всех заданий необходимо использовать именно функционал регулярных выражений для обработки текста."
   ]
  },
  {
   "cell_type": "markdown",
   "metadata": {},
   "source": [
    "## Задание 1\n",
    "\n",
    "Напишите функцию, которая принимает на вход строку и проверяет является ли она валидным транспортным номером (1 буква, 3 цифры, 2 буквы, 2-3 цифры). Обратите внимание, что не все буквы кириллического алфавита используются в транспортных номерах.\n",
    "\n",
    "Если номер валиден, то функция должна возвращать отдельно номер и регион.\n",
    "\n",
    "Примеры работы программы:  \n",
    "\n",
    "1. `car_id = 'A222BC96'`\n",
    "\n",
    "Результат: \n",
    "`Номер A222BС валиден. Регион: 96`\n",
    "\n",
    "2. `car_id = 'АБ22ВВ193'`\n",
    "\n",
    "Результат: \n",
    "`Номер не валиден`"
   ]
  },
  {
   "cell_type": "code",
   "execution_count": 1,
   "metadata": {},
   "outputs": [],
   "source": [
    "import re"
   ]
  },
  {
   "cell_type": "code",
   "execution_count": 80,
   "metadata": {},
   "outputs": [],
   "source": [
    "car_id_list = [\n",
    "    'R123BC96',\n",
    "    'A123123BC96',\n",
    "    'A123BC9612',\n",
    "    'AA123BC96',\n",
    "    'A123BC96',\n",
    "    'M146TO999'\n",
    "]"
   ]
  },
  {
   "cell_type": "code",
   "execution_count": 81,
   "metadata": {},
   "outputs": [
    {
     "name": "stdout",
     "output_type": "stream",
     "text": [
      "Номер R123BC96 не валиден\n",
      "Номер A123123BC96 не валиден\n",
      "Номер A123BC9612 не валиден\n",
      "Номер AA123BC96 не валиден\n",
      "Номер A123BC валиден. Регион: 96\n",
      "Номер M146TO валиден. Регион: 999\n"
     ]
    }
   ],
   "source": [
    "def car_id_is_valid(car_id):\n",
    "#     A,B,C,E,H,K,M,O,P,T,X,Y - допустимые буквы\n",
    "    id_match = re.match(r'([ABCEHKMOPTXY]{1}\\d{3}[ABCEHKMOPTXY]{2})(\\d{2,3}$)', car_id)\n",
    "    return (id_match.group(1), id_match.group(2)) if id_match else None\n",
    "\n",
    "\n",
    "for car_id in car_id_list:\n",
    "    result = car_id_is_valid(car_id)\n",
    "    if result:\n",
    "        print(f'Номер {result[0]} валиден. Регион: {result[1]}')\n",
    "    else:\n",
    "        print(f'Номер {car_id} не валиден')\n",
    "    "
   ]
  },
  {
   "cell_type": "markdown",
   "metadata": {},
   "source": [
    "## Задание 2\n",
    "\n",
    "Напишите функцию, которая будет удалять все последовательные повторы слов из заданной строки при помощи регулярных выражений.\n",
    "\n",
    "Пример работы программы:  \n",
    "\n",
    "`some_string = 'Напишите функцию функцию, которая будет будет будет будет удалять все все все все последовательные повторы слов из из из из заданной строки строки при помощи регулярных выражений'`\n",
    "\n",
    "Результат: \n",
    "`Напишите функцию, которая будет удалять все последовательные повторы слов из заданной строки при помощи регулярных выражений.`"
   ]
  },
  {
   "cell_type": "code",
   "execution_count": 82,
   "metadata": {},
   "outputs": [],
   "source": [
    "some_string = 'Напишите функцию функцию, которая будет будет будет будет удалять все все все все последовательные повторы слов из из из из заданной строки строки при помощи регулярных выражений'\n",
    "another_string = 'Cause the players gonna play play play play play and the haters gonna hate hate hate hate hate'\n"
   ]
  },
  {
   "cell_type": "code",
   "execution_count": 83,
   "metadata": {},
   "outputs": [
    {
     "name": "stdout",
     "output_type": "stream",
     "text": [
      "Напишите функцию, которая будет удалять все последовательные повторы слов из заданной строки при помощи регулярных выражений\n",
      "Cause the players gonna play and the haters gonna hate\n"
     ]
    }
   ],
   "source": [
    "def delete_repeating_words(text):\n",
    "    return re.sub(r'(\\b\\w+\\b)\\s(?=\\1)','', text)\n",
    "    \n",
    "print(delete_repeating_words(some_string))\n",
    "print(delete_repeating_words(another_string))"
   ]
  },
  {
   "cell_type": "markdown",
   "metadata": {},
   "source": [
    "## Задание 3\n",
    "\n",
    "Напишите функцию, которая будет возвращать акроним по переданной в нее строке со словами.\n",
    "\n",
    "Примеры работы программы:  \n",
    "\n",
    "1. `some_words = 'Информационные технологии'`\n",
    "\n",
    "Результат: \n",
    "`ИТ`\n",
    "\n",
    "2. `some_words = 'Near Field Communication'`\n",
    "\n",
    "Результат: \n",
    "`NFC`"
   ]
  },
  {
   "cell_type": "code",
   "execution_count": 84,
   "metadata": {},
   "outputs": [],
   "source": [
    "some_words = ['Информационные технологии', \n",
    "              'Near Field Communication', \n",
    "              'Lord of the rings', \n",
    "              'Гарри Поттер и методы рационального мышления']\n"
   ]
  },
  {
   "cell_type": "code",
   "execution_count": 85,
   "metadata": {},
   "outputs": [
    {
     "name": "stdout",
     "output_type": "stream",
     "text": [
      "ИТ\n",
      "NFC\n",
      "LOTR\n",
      "ГПИМРМ\n"
     ]
    }
   ],
   "source": [
    "def make_acronym(text):\n",
    "    return re.sub(r'(\\w)(\\w*\\s|\\w*$)', r'\\1', text).upper()\n",
    "    \n",
    "for example in some_words:\n",
    "    print(make_acronym(example))"
   ]
  },
  {
   "cell_type": "markdown",
   "metadata": {},
   "source": [
    "## Задание 4\n",
    "\n",
    "Напишите функцию, которая будет принимать на вход список email-адресов и выводить их распределение по доменным зонам.\n",
    "\n",
    "Пример работы программы:  \n",
    "\n",
    "`emails = ['test@gmail.com', 'xyz@test.in', 'test@ya.ru', 'xyz@mail.ru', 'xyz@ya.ru', 'xyz@gmail.com']`\n",
    "\n",
    "Результат: \n",
    "```\n",
    "gmail.com: 2\n",
    "test.in: 1 \n",
    "ya.ru: 2 \n",
    "mail.ru: 1\n",
    "```"
   ]
  },
  {
   "cell_type": "code",
   "execution_count": 86,
   "metadata": {},
   "outputs": [],
   "source": [
    "emails = ['test@gmail.com', \n",
    "          'xyz@test.in', \n",
    "          'test@ya.ru', \n",
    "          'xyz@mail.ru', \n",
    "          'xyz@ya.ru', \n",
    "          'xyz@gmail.com', \n",
    "          'example@ya.ru', \n",
    "          'any@mail.ru']"
   ]
  },
  {
   "cell_type": "code",
   "execution_count": 87,
   "metadata": {},
   "outputs": [
    {
     "name": "stdout",
     "output_type": "stream",
     "text": [
      "gmail.com: 2\n",
      "test.in: 1\n",
      "ya.ru: 3\n",
      "mail.ru: 2\n"
     ]
    }
   ],
   "source": [
    "def distribute_by_domain(email_list):\n",
    "    email_dict = {}\n",
    "    for email in email_list:\n",
    "        match = re.search( r'(?<=@)(.+)', email)\n",
    "        if match:\n",
    "            email_dict.setdefault(match.group(), 0)\n",
    "            email_dict[match.group()] += 1\n",
    "    \n",
    "    for k, v in email_dict.items():\n",
    "        print(f'{k}: {v}')\n",
    "        \n",
    "distribute_by_domain(emails)"
   ]
  },
  {
   "cell_type": "markdown",
   "metadata": {},
   "source": [
    "## Задание 5 (необязательное)\n",
    "\n",
    "Напишите функцию, которая будет подсчитывать сколько слов начинается на гласные, а сколько на согласные буквы в тексте (текст может быть написан как с использованием букв кириллицы, так и латиницы).\n",
    "\n",
    "Пример работы программы:  \n",
    "\n",
    "`some_text = 'Эталонной реализацией Python является интерпретатор CPython, поддерживающий большинство активно используемых платформ. Он распространяется под свободной лицензией Python Software Foundation License, позволяющей использовать его без ограничений в любых приложениях, включая проприетарные.'`\n",
    "\n",
    "Результат: \n",
    "```\n",
    "Слов на гласные буквы: 9\n",
    "Слов на согласные буквы: 21 \n",
    "```"
   ]
  },
  {
   "cell_type": "code",
   "execution_count": 88,
   "metadata": {},
   "outputs": [],
   "source": [
    "some_text = '876error Эталонной реализацией Python является интерпретатор CPython, поддерживающий большинство активно используемых платформ. Он распространяется под свободной лицензией Python Software Foundation License, позволяющей использовать его без ограничений в любых приложениях, включая проприетарные.'"
   ]
  },
  {
   "cell_type": "code",
   "execution_count": 89,
   "metadata": {},
   "outputs": [
    {
     "name": "stdout",
     "output_type": "stream",
     "text": [
      "Слов на гласные буквы: 9\n",
      "Слов на согласные буквы: 21\n"
     ]
    }
   ],
   "source": [
    "def count_first_letters(text):\n",
    "    vowels = 'aoiueyаоуыэяёюие'\n",
    "    vowels_list = re.findall(r'\\b[{}]\\w*\\b'.format(vowels), text, flags=re.IGNORECASE)\n",
    "#     print(vowels_list)\n",
    "    consonants_list = re.findall(r'\\b[^{}\\s\\d]\\w*\\b'.format(vowels), text, flags=re.IGNORECASE)\n",
    "#     print(consonants_list)\n",
    "    print(f'Слов на гласные буквы: {len(vowels_list)}\\nСлов на согласные буквы: {len(consonants_list)}')\n",
    "    \n",
    "    \n",
    "count_first_letters(some_text)"
   ]
  },
  {
   "cell_type": "markdown",
   "metadata": {},
   "source": [
    "## Задание 6 (необязательное)\n",
    "Напишите функцию, которая будет проверять номер сотового телефона на валидность (только для российского формата), если он валиден, то переводить его в формат:   \n",
    "+7-xxx-xxx-xx-xx  \n",
    "Постарайтесь предусмотреть как можно больше адекватных форматов изначального ввода номера.\n",
    "Примеры работы программы:  \n",
    "\n",
    "1. `phone = '+7 955 555-55-55'`\n",
    "\n",
    "Результат: \n",
    "`+7-950-555-55-55`\n",
    "\n",
    "2. `phone = '8(955)555-55-55'`\n",
    "\n",
    "Результат: \n",
    "`+7-950-555-55-55`\n",
    "\n",
    "3. `phone = '+7 955 555 55 55'`\n",
    "\n",
    "Результат: \n",
    "`+7-950-555-55-55`\n",
    "\n",
    "4. `phone = '7(955) 555-55-55'`\n",
    "\n",
    "Результат: \n",
    "`+7-950-555-55-55`\n",
    "\n",
    "5. `phone = '423-555-55-5555'`\n",
    "\n",
    "Результат: \n",
    "`Номер не валиден`\n",
    "\n",
    "6. `phone = '123-456-789'`\n",
    "\n",
    "Результат: \n",
    "`Номер не валиден`"
   ]
  },
  {
   "cell_type": "code",
   "execution_count": 90,
   "metadata": {},
   "outputs": [],
   "source": [
    "phones = [\n",
    "    '+7 955 555-55-55',\n",
    "    '8(955)555-55-55',\n",
    "    '+7 955 555 55 55',\n",
    "    '+7-955-555-55-55',\n",
    "    '7(955) 555-55-55',\n",
    "    '7 (955) 555 55-55',\n",
    "    '7 (955) 555 55-5555',\n",
    "    '79555555555',\n",
    "    '423-555-55-5555',\n",
    "    '123-456-789'    \n",
    "]"
   ]
  },
  {
   "cell_type": "markdown",
   "metadata": {},
   "source": [
    "Попробуем разбить проверяемый номер телефона на нужные группы цифр (1-3-3-2-2). Будем учитывать следующее:\n",
    "* в начале строки должен находиться строго один из вариантов: +7, 7 или 8,\n",
    "* первая триада цифр может быть отделена от остальных скобками, дефисом, пробельным символом, их комбинацией (пример 7 (955) 555 55-55) либо не быть отделена вовсе (79555555555), \n",
    "    * в случае комбинации символов маловероятно, что их количество будет больше, чем 2 символа (7 -(955)- 555 55-55 уже не адекватный формат ввода), \n",
    "* оставшиеся группы цифр 3-2-2 могут быть разделены пробелом, дефисом, либо могут быть написаны слитно,\n",
    "* последняя группа из 2 цифр должна быть завершающей в строке."
   ]
  },
  {
   "cell_type": "code",
   "execution_count": 92,
   "metadata": {},
   "outputs": [
    {
     "name": "stdout",
     "output_type": "stream",
     "text": [
      "1) +7 955 555-55-55 -> +7-955-555-55-55\n",
      "2) 8(955)555-55-55 -> +7-955-555-55-55\n",
      "3) +7 955 555 55 55 -> +7-955-555-55-55\n",
      "4) +7-955-555-55-55 -> +7-955-555-55-55\n",
      "5) 7(955) 555-55-55 -> +7-955-555-55-55\n",
      "6) 7 (955) 555 55-55 -> +7-955-555-55-55\n",
      "7) Номер 7 (955) 555 55-5555 не валиден\n",
      "8) 79555555555 -> +7-955-555-55-55\n",
      "9) Номер 423-555-55-5555 не валиден\n",
      "10) Номер 123-456-789 не валиден\n"
     ]
    }
   ],
   "source": [
    "def phone_number_is_valid(phone):\n",
    "    phone_pattern = r'(^8|7|\\+7)[-(\\s]{,2}(\\d{3})[-)\\s]{,2}(\\d{3})[-\\s]?(\\d{2})[-\\s]?(\\d{2}$)'\n",
    "    match = re.match(phone_pattern, phone)\n",
    "    return re.sub(phone_pattern, r'+7-\\2-\\3-\\4-\\5', phone) if match else None\n",
    "    \n",
    "    \n",
    "for i, phone in enumerate(phones, 1):\n",
    "    valid_phone = phone_number_is_valid(phone)\n",
    "    if valid_phone:\n",
    "        print(f'{i}) {phone} -> {valid_phone}')\n",
    "    else:\n",
    "        print(f'{i}) Номер {phone} не валиден')"
   ]
  },
  {
   "cell_type": "markdown",
   "metadata": {},
   "source": [
    "#### ПРИМЕЧАНИЕ\n",
    "Домашнее задание сдается ссылкой на репозиторий [GitHub](https://github.com/).\n",
    "Не сможем проверить или помочь, если вы пришлете:\n",
    "- файлы;\n",
    "- архивы;\n",
    "- скриншоты кода.\n",
    "\n",
    "Все обсуждения и консультации по выполнению домашнего задания ведутся только на соответствующем канале в slack.\n",
    "\n",
    "##### Как правильно задавать вопросы аспирантам, преподавателям и коллегам\n",
    "Прежде чем задать вопрос, попробуйте найти ответ в интернете. Навык самостоятельного поиска информации — один из важнейших. Каждый практикующий специалист любого уровня делает это ежедневно.\n",
    "\n",
    "Сформулируйте вопрос по алгоритму:  \n",
    "1) Что я делаю?  \n",
    "2) Какого результата я ожидаю?  \n",
    "3) Как фактический результат отличается от ожидаемого?  \n",
    "4) Что я уже попробовал сделать, чтобы исправить проблему?  \n",
    "\n",
    "По возможности прикрепите к вопросу скриншоты либо ссылки на код. Не выкладывайте все решение, оставляйте только проблемный и воспроизводимый участок кода."
   ]
  }
 ],
 "metadata": {
  "kernelspec": {
   "display_name": "Python 3",
   "language": "python",
   "name": "python3"
  },
  "language_info": {
   "codemirror_mode": {
    "name": "ipython",
    "version": 3
   },
   "file_extension": ".py",
   "mimetype": "text/x-python",
   "name": "python",
   "nbconvert_exporter": "python",
   "pygments_lexer": "ipython3",
   "version": "3.7.7"
  }
 },
 "nbformat": 4,
 "nbformat_minor": 2
}
