{
 "cells": [
  {
   "cell_type": "markdown",
   "metadata": {},
   "source": [
    "# Домашнее задание к лекции «Исключения и обработка ошибок»"
   ]
  },
  {
   "cell_type": "markdown",
   "metadata": {},
   "source": [
    "**Задание 1**\n",
    "\n",
    "Печатные газеты использовали свой формат дат для каждого выпуска. Для каждой газеты из списка напишите формат указанной даты для перевода в объект datetime:\n",
    "\n",
    "- The Moscow Times - Wednesday, October 2, 2002\n",
    "- The Guardian - Friday, 11.10.13\n",
    "- Daily News - Thursday, 18 August 1977"
   ]
  },
  {
   "cell_type": "code",
   "execution_count": 1,
   "metadata": {},
   "outputs": [],
   "source": [
    "from datetime import datetime"
   ]
  },
  {
   "cell_type": "code",
   "execution_count": 6,
   "metadata": {},
   "outputs": [
    {
     "name": "stdout",
     "output_type": "stream",
     "text": [
      "2002-10-02 00:00:00\n",
      "2013-10-11 00:00:00\n",
      "1977-08-18 00:00:00\n"
     ]
    }
   ],
   "source": [
    "date_str_1 = 'Wednesday, October 2, 2002'\n",
    "date_str_2 = 'Friday, 11.10.13'\n",
    "date_str_3 = 'Thursday, 18 August 1977'\n",
    "\n",
    "dt_1 = datetime.strptime(date_str_1, '%A, %B %d, %Y')\n",
    "dt_2 = datetime.strptime(date_str_2, '%A, %d.%m.%y')\n",
    "dt_3 = datetime.strptime(date_str_3, '%A, %d %B %Y')\n",
    "\n",
    "print(dt_1, dt_2, dt_3, sep='\\n')"
   ]
  },
  {
   "cell_type": "markdown",
   "metadata": {},
   "source": [
    "**Задание 2**\n",
    "\n",
    "Дан поток дат в формате YYYY-MM-DD, в которых встречаются некорректные значения:\n",
    "\n",
    "```stream = [‘2018-04-02’, ‘2018-02-29’, ‘2018-19-02’]```\n",
    "\n",
    "Напишите функцию, которая проверяет эти даты на корректность. Т. е. для каждой даты возвращает True (дата корректна) или False (некорректная дата)."
   ]
  },
  {
   "cell_type": "code",
   "execution_count": 13,
   "metadata": {},
   "outputs": [],
   "source": [
    "stream = ['2018-04-02', '2018-02-29', '2018-19-02', '2000-00-32', '20105-01-02', '2100-02-29', '1993-03-16']"
   ]
  },
  {
   "cell_type": "code",
   "execution_count": 14,
   "metadata": {},
   "outputs": [
    {
     "name": "stdout",
     "output_type": "stream",
     "text": [
      "2018-04-02 True\n",
      "2018-02-29 False\n",
      "2018-19-02 False\n",
      "2000-00-32 False\n",
      "20105-01-02 False\n",
      "2100-02-29 False\n",
      "1993-03-16 True\n"
     ]
    }
   ],
   "source": [
    "def check_date_is_correct(date_str):\n",
    "    '''\n",
    "    функция пытается конвертировать входящую дату в объект datetime формата YYYY-MM-DD\n",
    "    Если сконвертировать возможно, значит дата корректна, функция возвращает True\n",
    "    Если дата не проходит конвертацию в datetime, значит она некорректна, функция возвращает False\n",
    "    '''\n",
    "    is_correct = False\n",
    "    try:\n",
    "        dt = datetime.strptime(date_str, '%Y-%m-%d')\n",
    "        is_correct = True\n",
    "    except:\n",
    "        pass\n",
    "#         print(f'Дата {date_str} некорректна')\n",
    "    return is_correct\n",
    "\n",
    "for date_str in stream:\n",
    "    print(date_str, check_date_is_correct(date_str))\n",
    "        "
   ]
  },
  {
   "cell_type": "markdown",
   "metadata": {},
   "source": [
    "**Задание 3**\n",
    "\n",
    "Напишите функцию date_range, которая возвращает список дат за период от start_date до end_date. Даты должны вводиться в формате YYYY-MM-DD. В случае неверного формата или при start_date > end_date должен возвращаться пустой список."
   ]
  },
  {
   "cell_type": "code",
   "execution_count": 12,
   "metadata": {},
   "outputs": [],
   "source": [
    "from datetime import timedelta"
   ]
  },
  {
   "cell_type": "code",
   "execution_count": 17,
   "metadata": {},
   "outputs": [],
   "source": [
    "def date_range(start_date, end_date):\n",
    "    '''\n",
    "    функция возвращает список дат (строк) за период от start_date до end_date\n",
    "    если параметры некорректны, возвращает пустой список\n",
    "    '''\n",
    "    date_list = []\n",
    "    if start_date > end_date:\n",
    "        print('Дата начала периода больше даты его окончания')\n",
    "        return date_list\n",
    "    try:\n",
    "#       переведем обе даты в объект datetime, чтобы убедиться, что они корректны \n",
    "        start_dt = datetime.strptime(start_date, '%Y-%m-%d')\n",
    "        end_dt = datetime.strptime(end_date, '%Y-%m-%d')\n",
    "        \n",
    "        current_dt = start_dt\n",
    "        while current_dt <= end_dt:\n",
    "            date_list.append(datetime.strftime(current_dt, '%Y-%m-%d'))\n",
    "            current_dt += timedelta(days=1)\n",
    "    except:\n",
    "        print('Границы периода заданы некорректно')\n",
    "    return date_list"
   ]
  },
  {
   "cell_type": "code",
   "execution_count": 20,
   "metadata": {},
   "outputs": [
    {
     "name": "stdout",
     "output_type": "stream",
     "text": [
      "Дата начала периода больше даты его окончания\n",
      "[]\n",
      "Границы периода заданы некорректно\n",
      "[]\n",
      "['2020-02-28', '2020-02-29', '2020-03-01', '2020-03-02', '2020-03-03', '2020-03-04', '2020-03-05']\n"
     ]
    }
   ],
   "source": [
    "print(date_range('2020-02-02', '2020-02-01'))\n",
    "print(date_range('2020-02-30', '2020-03-05'))\n",
    "print(date_range('2020-02-28', '2020-03-05'))"
   ]
  },
  {
   "cell_type": "markdown",
   "metadata": {},
   "source": [
    "**Задание 4 (бонусное)**\n",
    "\n",
    "Ваш коллега прислал код функции:\n",
    "```\n",
    "DEFAULT_USER_COUNT = 3\n",
    "\n",
    "def delete_and_return_last_user(region, default_list=[‘A100’, ‘A101’, ‘A102’]):\n",
    "\"\"\"\n",
    "Удаляет из списка default_list последнего пользователя\n",
    "и возвращает ID нового последнего пользователя.\n",
    "\"\"\"\n",
    "element_to_delete = default_list[-1]\n",
    "default_list.remove(element_to_delete)\n",
    "\n",
    "return default_list[DEFAULT_USER_COUNT-2]\n",
    "```\n",
    "\n",
    "При однократном вызове этой функции все работает корректно:\n",
    "```\n",
    "delete_and_return_last_user(1)\n",
    "‘A101’\n",
    "```\n",
    "\n",
    "Однако, при повторном вызове получается ошибка IndexError: list index out of range.\n",
    "\n",
    "Задание:\n",
    "\n",
    "Что значит ошибка list index out of range?\n",
    "Почему при первом запуске функция работает корректно, а при втором - нет?"
   ]
  },
  {
   "cell_type": "code",
   "execution_count": 47,
   "metadata": {},
   "outputs": [],
   "source": [
    "DEFAULT_USER_COUNT = 3\n",
    "\n",
    "def delete_and_return_last_user(region, default_list=['A100', 'A101', 'A102']):\n",
    "    \"\"\"\n",
    "    Удаляет из списка default_list последнего пользователя\n",
    "    и возвращает ID нового последнего пользователя.\n",
    "    \"\"\"\n",
    "    element_to_delete = default_list[-1]\n",
    "    default_list.remove(element_to_delete)\n",
    "\n",
    "    return default_list[DEFAULT_USER_COUNT-2]"
   ]
  },
  {
   "cell_type": "code",
   "execution_count": 49,
   "metadata": {},
   "outputs": [
    {
     "ename": "IndexError",
     "evalue": "list index out of range",
     "output_type": "error",
     "traceback": [
      "\u001b[1;31m---------------------------------------------------------------------------\u001b[0m",
      "\u001b[1;31mIndexError\u001b[0m                                Traceback (most recent call last)",
      "\u001b[1;32m<ipython-input-49-bfb6c4f8c48e>\u001b[0m in \u001b[0;36m<module>\u001b[1;34m\u001b[0m\n\u001b[1;32m----> 1\u001b[1;33m \u001b[0mdelete_and_return_last_user\u001b[0m\u001b[1;33m(\u001b[0m\u001b[1;36m1\u001b[0m\u001b[1;33m)\u001b[0m\u001b[1;33m\u001b[0m\u001b[1;33m\u001b[0m\u001b[0m\n\u001b[0m",
      "\u001b[1;32m<ipython-input-47-62baa56d5abd>\u001b[0m in \u001b[0;36mdelete_and_return_last_user\u001b[1;34m(region, default_list)\u001b[0m\n\u001b[0;32m      9\u001b[0m     \u001b[0mdefault_list\u001b[0m\u001b[1;33m.\u001b[0m\u001b[0mremove\u001b[0m\u001b[1;33m(\u001b[0m\u001b[0melement_to_delete\u001b[0m\u001b[1;33m)\u001b[0m\u001b[1;33m\u001b[0m\u001b[1;33m\u001b[0m\u001b[0m\n\u001b[0;32m     10\u001b[0m \u001b[1;33m\u001b[0m\u001b[0m\n\u001b[1;32m---> 11\u001b[1;33m     \u001b[1;32mreturn\u001b[0m \u001b[0mdefault_list\u001b[0m\u001b[1;33m[\u001b[0m\u001b[0mDEFAULT_USER_COUNT\u001b[0m\u001b[1;33m-\u001b[0m\u001b[1;36m2\u001b[0m\u001b[1;33m]\u001b[0m\u001b[1;33m\u001b[0m\u001b[1;33m\u001b[0m\u001b[0m\n\u001b[0m",
      "\u001b[1;31mIndexError\u001b[0m: list index out of range"
     ]
    }
   ],
   "source": [
    "delete_and_return_last_user(1)\n"
   ]
  },
  {
   "cell_type": "markdown",
   "metadata": {},
   "source": [
    "Ошибка list index out of range означает, что индекс, по которому мы пытаемся обратиться к элементу списка, выходит за реальные границы этого списка. Рассмотрим, как работает функция при 1м и при 2м вызовах.\n",
    "\n",
    "При 1м вызове функция удаляет элемент списка А102. Return возвращает элемент списка по индексу DEFAULT_USER_COUNT-2. Так как переменная DEFAULT_USER_COUNT задана вне функции и никак не изменяется впоследствии, значение DEFAULT_USER_COUNT-2 всегда будет равным 1. На данном этапе список состоит из 2х элементов ['A100', 'A101'], и по индексу 1 мы получим значение A101, последний элемент списка. Пока все работает.\n",
    "\n",
    "При 2м вызове функция удаляет элемент А101, в списке остается только ['A100']. Из списка, состоящего из 1го элемента, невозможно получить элемент по индексу 1, соответствующий 2му элементу, поэтому при попытке вытащить default_list[DEFAULT_USER_COUNT-2] и происходит ошибка.\n",
    "\n",
    "В целом, последний элемент проще получить по индексу default_list[-1] (с проверкой, что массив не пустой после нескольких удалений, иначе снова возникнет ошибка), но если нам необходимо вести счетчик пользователей DEFAULT_USER_COUNT, то логично будет уменьшать его после каждого удаления элемента из списка.\n"
   ]
  },
  {
   "cell_type": "code",
   "execution_count": null,
   "metadata": {},
   "outputs": [],
   "source": []
  }
 ],
 "metadata": {
  "kernelspec": {
   "display_name": "Python 3",
   "language": "python",
   "name": "python3"
  },
  "language_info": {
   "codemirror_mode": {
    "name": "ipython",
    "version": 3
   },
   "file_extension": ".py",
   "mimetype": "text/x-python",
   "name": "python",
   "nbconvert_exporter": "python",
   "pygments_lexer": "ipython3",
   "version": "3.7.7"
  }
 },
 "nbformat": 4,
 "nbformat_minor": 4
}
