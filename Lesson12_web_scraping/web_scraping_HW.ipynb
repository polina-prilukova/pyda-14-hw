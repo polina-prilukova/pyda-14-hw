{
 "cells": [
  {
   "cell_type": "markdown",
   "metadata": {},
   "source": [
    "# Домашнее задание к лекции \"Основы веб-скрапинга и работы с API\""
   ]
  },
  {
   "cell_type": "markdown",
   "metadata": {},
   "source": [
    "## Задание 1. \n",
    "\n",
    "### Обязательная часть"
   ]
  },
  {
   "cell_type": "markdown",
   "metadata": {},
   "source": [
    "Будем парсить страницу со свежеми новостям на [habr.com/ru/all/](https://habr.com/ru/all/).\n",
    "\n",
    "Вам необходимо собирать только те статьи, в которых встречается хотя бы одно требуемое ключевое слово. Эти слова определяем в начале кода в переменной, например:\n",
    "\n",
    "`KEYWORDS = ['python', 'парсинг']`\n",
    "\n",
    " Поиск вести по всей доступной preview-информации (это информация, доступная непосредственно с текущей страницы). \n",
    " \n",
    "В итоге должен формироваться датафрейм вида: `<дата> - <заголовок> - <ссылка>`"
   ]
  },
  {
   "cell_type": "code",
   "execution_count": 1,
   "metadata": {},
   "outputs": [],
   "source": [
    "import pandas as pd\n",
    "from bs4 import BeautifulSoup\n",
    "import requests\n",
    "import json"
   ]
  },
  {
   "cell_type": "code",
   "execution_count": 2,
   "metadata": {},
   "outputs": [],
   "source": [
    "KEYWORDS = ['python', 'парсинг']"
   ]
  },
  {
   "cell_type": "code",
   "execution_count": 3,
   "metadata": {},
   "outputs": [],
   "source": [
    "req = requests.get('https://habr.com/ru/all/')\n",
    "soup = BeautifulSoup(req.text, 'html.parser')\n",
    "posts = soup.find_all('article', class_='post')\n"
   ]
  },
  {
   "cell_type": "code",
   "execution_count": 35,
   "metadata": {},
   "outputs": [],
   "source": [
    "links = pd.DataFrame()\n",
    "for post in posts:\n",
    "#     post.text содержит в себе всю текстовую preview информацию, включая заголовок, список хабов и собственно начало статьи\n",
    "#     будем считать, что если post.text содержит хотя бы одно из ключевых слов, то этот пост должен попасть в нашу выборку\n",
    "\n",
    "    post_id = post.parent.attrs.get('id')\n",
    "    if not post_id:\n",
    "        continue\n",
    "    if any([keyword in post.text.lower() for keyword in KEYWORDS]):\n",
    "        title_element = post.find('a', class_='post__title_link')\n",
    "        post_time = post.find('span', class_='post__time')\n",
    "#         print(post_time.text, title_element.text)\n",
    "        row = {'date':post_time.text, 'title':title_element.text, 'link':title_element.attrs.get('href')}\n",
    "        links = pd.concat([links, pd.DataFrame([row])], ignore_index=True)\n"
   ]
  },
  {
   "cell_type": "code",
   "execution_count": 36,
   "metadata": {},
   "outputs": [
    {
     "data": {
      "text/html": [
       "<div>\n",
       "<style scoped>\n",
       "    .dataframe tbody tr th:only-of-type {\n",
       "        vertical-align: middle;\n",
       "    }\n",
       "\n",
       "    .dataframe tbody tr th {\n",
       "        vertical-align: top;\n",
       "    }\n",
       "\n",
       "    .dataframe thead th {\n",
       "        text-align: right;\n",
       "    }\n",
       "</style>\n",
       "<table border=\"1\" class=\"dataframe\">\n",
       "  <thead>\n",
       "    <tr style=\"text-align: right;\">\n",
       "      <th></th>\n",
       "      <th>date</th>\n",
       "      <th>title</th>\n",
       "      <th>link</th>\n",
       "    </tr>\n",
       "  </thead>\n",
       "  <tbody>\n",
       "    <tr>\n",
       "      <th>0</th>\n",
       "      <td>вчера в 22:02</td>\n",
       "      <td>Как принять сигналы немецкого ВМФ с помощью зв...</td>\n",
       "      <td>https://habr.com/ru/post/526824/</td>\n",
       "    </tr>\n",
       "    <tr>\n",
       "      <th>1</th>\n",
       "      <td>вчера в 18:42</td>\n",
       "      <td>Хост KVM в паре строчек кода</td>\n",
       "      <td>https://habr.com/ru/company/timeweb/blog/526818/</td>\n",
       "    </tr>\n",
       "  </tbody>\n",
       "</table>\n",
       "</div>"
      ],
      "text/plain": [
       "            date                                              title  \\\n",
       "0  вчера в 22:02  Как принять сигналы немецкого ВМФ с помощью зв...   \n",
       "1  вчера в 18:42                       Хост KVM в паре строчек кода   \n",
       "\n",
       "                                               link  \n",
       "0                  https://habr.com/ru/post/526824/  \n",
       "1  https://habr.com/ru/company/timeweb/blog/526818/  "
      ]
     },
     "execution_count": 36,
     "metadata": {},
     "output_type": "execute_result"
    }
   ],
   "source": [
    "links "
   ]
  },
  {
   "cell_type": "markdown",
   "metadata": {},
   "source": [
    "### Дополнительная часть (необязательная)"
   ]
  },
  {
   "cell_type": "markdown",
   "metadata": {},
   "source": [
    "Улучшить скрипт так, чтобы он анализировал не только preview-информацию статьи, но и весь текст статьи целиком.\n",
    "\n",
    "Для этого потребуется получать страницы статей и искать по тексту внутри этой страницы.  \n",
    "\n",
    "Итоговый датафрейм формировать со столбцами: `<дата> - <заголовок> - <ссылка> - <текст_статьи>`\n"
   ]
  },
  {
   "cell_type": "code",
   "execution_count": 37,
   "metadata": {},
   "outputs": [
    {
     "data": {
      "text/html": [
       "<div>\n",
       "<style scoped>\n",
       "    .dataframe tbody tr th:only-of-type {\n",
       "        vertical-align: middle;\n",
       "    }\n",
       "\n",
       "    .dataframe tbody tr th {\n",
       "        vertical-align: top;\n",
       "    }\n",
       "\n",
       "    .dataframe thead th {\n",
       "        text-align: right;\n",
       "    }\n",
       "</style>\n",
       "<table border=\"1\" class=\"dataframe\">\n",
       "  <thead>\n",
       "    <tr style=\"text-align: right;\">\n",
       "      <th></th>\n",
       "      <th>date</th>\n",
       "      <th>title</th>\n",
       "      <th>link</th>\n",
       "      <th>content</th>\n",
       "    </tr>\n",
       "  </thead>\n",
       "  <tbody>\n",
       "    <tr>\n",
       "      <th>0</th>\n",
       "      <td>2020-11-06 19:36:00</td>\n",
       "      <td>AI на минималках: пишем свой Сокобан и учим ко...</td>\n",
       "      <td>https://habr.com/ru/post/526842/</td>\n",
       "      <td>\\nВ этой статье я расскажу как написать свою р...</td>\n",
       "    </tr>\n",
       "    <tr>\n",
       "      <th>1</th>\n",
       "      <td>2020-11-06 19:02:00</td>\n",
       "      <td>Как принять сигналы немецкого ВМФ с помощью зв...</td>\n",
       "      <td>https://habr.com/ru/post/526824/</td>\n",
       "      <td>Привет, Хабр.\\n\\r\\nТема приема и анализа сверх...</td>\n",
       "    </tr>\n",
       "    <tr>\n",
       "      <th>2</th>\n",
       "      <td>2020-11-06 15:42:00</td>\n",
       "      <td>Хост KVM в паре строчек кода</td>\n",
       "      <td>https://habr.com/ru/company/timeweb/blog/526818/</td>\n",
       "      <td>Привет!\\n\\r\\nСегодня публикуем статью о том, к...</td>\n",
       "    </tr>\n",
       "    <tr>\n",
       "      <th>3</th>\n",
       "      <td>2020-11-06 15:31:00</td>\n",
       "      <td>13 игр, чтобы поиграть, взломать и убить ими э...</td>\n",
       "      <td>https://habr.com/ru/company/skillfactory/blog/...</td>\n",
       "      <td>В конце ноября у нас стартует новый поток курс...</td>\n",
       "    </tr>\n",
       "  </tbody>\n",
       "</table>\n",
       "</div>"
      ],
      "text/plain": [
       "                 date                                              title  \\\n",
       "0 2020-11-06 19:36:00  AI на минималках: пишем свой Сокобан и учим ко...   \n",
       "1 2020-11-06 19:02:00  Как принять сигналы немецкого ВМФ с помощью зв...   \n",
       "2 2020-11-06 15:42:00                       Хост KVM в паре строчек кода   \n",
       "3 2020-11-06 15:31:00  13 игр, чтобы поиграть, взломать и убить ими э...   \n",
       "\n",
       "                                                link  \\\n",
       "0                   https://habr.com/ru/post/526842/   \n",
       "1                   https://habr.com/ru/post/526824/   \n",
       "2   https://habr.com/ru/company/timeweb/blog/526818/   \n",
       "3  https://habr.com/ru/company/skillfactory/blog/...   \n",
       "\n",
       "                                             content  \n",
       "0  \\nВ этой статье я расскажу как написать свою р...  \n",
       "1  Привет, Хабр.\\n\\r\\nТема приема и анализа сверх...  \n",
       "2  Привет!\\n\\r\\nСегодня публикуем статью о том, к...  \n",
       "3  В конце ноября у нас стартует новый поток курс...  "
      ]
     },
     "execution_count": 37,
     "metadata": {},
     "output_type": "execute_result"
    }
   ],
   "source": [
    "links_full = pd.DataFrame()\n",
    "\n",
    "# Зайдем с другой стороны. Раз нам нужно анализировать содержания статей, а не только превью, \n",
    "# соберем не список постов главной страницы, а список ссылок на посты, которые на ней есть.\n",
    "\n",
    "title_links = soup.find_all('a', class_='post__title_link')\n",
    "for title_link in title_links:\n",
    "    link = title_link.attrs.get('href')\n",
    "    inner_soup = BeautifulSoup(requests.get(link).text, 'html.parser')\n",
    "#     полный текст статьи, а также список тегов, хабов и пр. можно вытащить из блока post__wrapper \n",
    "    full_post = inner_soup.find('div', class_='post__wrapper')\n",
    "#     print(full_post.text)\n",
    "    if any([keyword in full_post.text.lower() for keyword in KEYWORDS]):\n",
    "#         заголовок и ссылка у нас уже есть, нужно вытащить дату и текст статьи\n",
    "        post_time = full_post.find('span', class_='post__time')\n",
    "        post_time = post_time.attrs.get('data-time_published')\n",
    "        \n",
    "        post_content = full_post.find('div', class_ = 'post__text').text\n",
    "        \n",
    "        row = {'date':post_time, 'title':title_link.text, 'link':link, 'content':post_content}\n",
    "        links_full = pd.concat([links_full, pd.DataFrame([row])], ignore_index=True)\n",
    "        \n",
    "\n",
    "links_full['date'] = pd.to_datetime(links_full['date'], format='%Y-%m-%dT%H:%MZ')        \n",
    "links_full    "
   ]
  },
  {
   "cell_type": "code",
   "execution_count": null,
   "metadata": {},
   "outputs": [],
   "source": [
    "# интересный момент связан с получением даты статьи. На заглавной странице хабра даты текущего и вчерашнего дня \n",
    "# выводятся в описательном формате (сегодня в 12:27, вчера в 14:40), нет каких-то указаний на полный формат даты\n",
    "# с выводом года, месяца и дня. Логично было бы преобразовать это описание в более содержательный формат.\n",
    "# Мы можем это сделать, зайдя по ссылке в соответствующую статью. Там у такого же тега span с классом 'post__time'\n",
    "# есть еще и атрибут 'data-time_published', в котором дата хранится полностью"
   ]
  },
  {
   "cell_type": "code",
   "execution_count": 38,
   "metadata": {},
   "outputs": [],
   "source": [
    "def get_post_time(link):\n",
    "    soup = BeautifulSoup(requests.get(link).text, 'html.parser')\n",
    "    post_time = soup.find('span', class_='post__time')\n",
    "    return post_time.attrs.get('data-time_published')\n",
    "    "
   ]
  },
  {
   "cell_type": "code",
   "execution_count": 39,
   "metadata": {},
   "outputs": [
    {
     "data": {
      "text/html": [
       "<div>\n",
       "<style scoped>\n",
       "    .dataframe tbody tr th:only-of-type {\n",
       "        vertical-align: middle;\n",
       "    }\n",
       "\n",
       "    .dataframe tbody tr th {\n",
       "        vertical-align: top;\n",
       "    }\n",
       "\n",
       "    .dataframe thead th {\n",
       "        text-align: right;\n",
       "    }\n",
       "</style>\n",
       "<table border=\"1\" class=\"dataframe\">\n",
       "  <thead>\n",
       "    <tr style=\"text-align: right;\">\n",
       "      <th></th>\n",
       "      <th>date</th>\n",
       "      <th>title</th>\n",
       "      <th>link</th>\n",
       "    </tr>\n",
       "  </thead>\n",
       "  <tbody>\n",
       "    <tr>\n",
       "      <th>0</th>\n",
       "      <td>2020-11-06T19:02Z</td>\n",
       "      <td>Как принять сигналы немецкого ВМФ с помощью зв...</td>\n",
       "      <td>https://habr.com/ru/post/526824/</td>\n",
       "    </tr>\n",
       "    <tr>\n",
       "      <th>1</th>\n",
       "      <td>2020-11-06T15:42Z</td>\n",
       "      <td>Хост KVM в паре строчек кода</td>\n",
       "      <td>https://habr.com/ru/company/timeweb/blog/526818/</td>\n",
       "    </tr>\n",
       "  </tbody>\n",
       "</table>\n",
       "</div>"
      ],
      "text/plain": [
       "                date                                              title  \\\n",
       "0  2020-11-06T19:02Z  Как принять сигналы немецкого ВМФ с помощью зв...   \n",
       "1  2020-11-06T15:42Z                       Хост KVM в паре строчек кода   \n",
       "\n",
       "                                               link  \n",
       "0                  https://habr.com/ru/post/526824/  \n",
       "1  https://habr.com/ru/company/timeweb/blog/526818/  "
      ]
     },
     "execution_count": 39,
     "metadata": {},
     "output_type": "execute_result"
    }
   ],
   "source": [
    "# применим функцию к датасету из первой части задания\n",
    "links.loc[:, 'date'] = links['link'].apply(get_post_time)\n",
    "links"
   ]
  },
  {
   "cell_type": "code",
   "execution_count": 40,
   "metadata": {},
   "outputs": [
    {
     "data": {
      "text/html": [
       "<div>\n",
       "<style scoped>\n",
       "    .dataframe tbody tr th:only-of-type {\n",
       "        vertical-align: middle;\n",
       "    }\n",
       "\n",
       "    .dataframe tbody tr th {\n",
       "        vertical-align: top;\n",
       "    }\n",
       "\n",
       "    .dataframe thead th {\n",
       "        text-align: right;\n",
       "    }\n",
       "</style>\n",
       "<table border=\"1\" class=\"dataframe\">\n",
       "  <thead>\n",
       "    <tr style=\"text-align: right;\">\n",
       "      <th></th>\n",
       "      <th>date</th>\n",
       "      <th>title</th>\n",
       "      <th>link</th>\n",
       "    </tr>\n",
       "  </thead>\n",
       "  <tbody>\n",
       "    <tr>\n",
       "      <th>0</th>\n",
       "      <td>2020-11-06 19:02:00</td>\n",
       "      <td>Как принять сигналы немецкого ВМФ с помощью зв...</td>\n",
       "      <td>https://habr.com/ru/post/526824/</td>\n",
       "    </tr>\n",
       "    <tr>\n",
       "      <th>1</th>\n",
       "      <td>2020-11-06 15:42:00</td>\n",
       "      <td>Хост KVM в паре строчек кода</td>\n",
       "      <td>https://habr.com/ru/company/timeweb/blog/526818/</td>\n",
       "    </tr>\n",
       "  </tbody>\n",
       "</table>\n",
       "</div>"
      ],
      "text/plain": [
       "                 date                                              title  \\\n",
       "0 2020-11-06 19:02:00  Как принять сигналы немецкого ВМФ с помощью зв...   \n",
       "1 2020-11-06 15:42:00                       Хост KVM в паре строчек кода   \n",
       "\n",
       "                                               link  \n",
       "0                  https://habr.com/ru/post/526824/  \n",
       "1  https://habr.com/ru/company/timeweb/blog/526818/  "
      ]
     },
     "execution_count": 40,
     "metadata": {},
     "output_type": "execute_result"
    }
   ],
   "source": [
    "# можно преобразовать это значение в тип данных datetime и в дальнейшем работать с этим столбцом, как с нормальными датами\n",
    "links['date'] = pd.to_datetime(links['date'], format='%Y-%m-%dT%H:%MZ')\n",
    "links"
   ]
  },
  {
   "cell_type": "code",
   "execution_count": 41,
   "metadata": {},
   "outputs": [
    {
     "name": "stdout",
     "output_type": "stream",
     "text": [
      "<class 'pandas.core.frame.DataFrame'>\n",
      "RangeIndex: 2 entries, 0 to 1\n",
      "Data columns (total 3 columns):\n",
      " #   Column  Non-Null Count  Dtype         \n",
      "---  ------  --------------  -----         \n",
      " 0   date    2 non-null      datetime64[ns]\n",
      " 1   title   2 non-null      object        \n",
      " 2   link    2 non-null      object        \n",
      "dtypes: datetime64[ns](1), object(2)\n",
      "memory usage: 176.0+ bytes\n"
     ]
    }
   ],
   "source": [
    "links.info()"
   ]
  },
  {
   "cell_type": "markdown",
   "metadata": {},
   "source": [
    "## Задание 2."
   ]
  },
  {
   "cell_type": "markdown",
   "metadata": {},
   "source": [
    "### Обязательная часть"
   ]
  },
  {
   "cell_type": "markdown",
   "metadata": {},
   "source": [
    "Написать скрипт, который будет проверять список e-mail адресов на утечку при помощи сервиса [Avast Hack Ckeck](https://www.avast.com/hackcheck/).\n",
    "Список email-ов задаем переменной в начале кода:  \n",
    "`EMAIL = [xxx@x.ru, yyy@y.com]`\n",
    "\n",
    "В итоге должен формироваться датафрейм со столбцами: `<почта> - <дата утечки> - <источник утечки> - <описание утечки>`  \n",
    "\n",
    "**Подсказка**: сервис работает при помощи \"скрытого\" API. Внимательно изучите post-запросы."
   ]
  },
  {
   "cell_type": "code",
   "execution_count": 42,
   "metadata": {},
   "outputs": [
    {
     "data": {
      "text/plain": [
       "<Response [200]>"
      ]
     },
     "execution_count": 42,
     "metadata": {},
     "output_type": "execute_result"
    }
   ],
   "source": [
    "url = 'https://identityprotection.avast.com/v1/web/query/site-breaches/unauthorized-data'\n",
    "data = {\"emailAddresses\":[\"xxx@x.ru\"]}\n",
    "headers = {\n",
    "         \"User-Agent\": \"Mozilla/5.0 (Windows NT 10.0; Win64; x64) AppleWebKit/537.36 (KHTML, like Gecko) Chrome/86.0.4240.183 Safari/537.36\",\n",
    "         \"Vaar-Header-App-Product\": \"hackcheck-web-avast\",\n",
    "         \"Vaar-Version\": \"0\"\n",
    "}\n",
    "req = requests.post(url, data=json.dumps(data), headers = headers)\n",
    "req"
   ]
  },
  {
   "cell_type": "code",
   "execution_count": 43,
   "metadata": {
    "scrolled": true
   },
   "outputs": [
    {
     "name": "stdout",
     "output_type": "stream",
     "text": [
      "{'breaches': {'3176': {'breachId': 3176, 'site': 'parapa.mail.ru', 'recordsCount': 5029003, 'description': \"In July and August 2016, two criminals executed attacks against three separate forums hosted by Mail.ru including the Russian forum Parapa. Shortly after the breach occurred, the contents of Parapa's database were leaked publicly. The database contains usernames, email addresses, and hashed passwords for around 5 million users.\", 'publishDate': '2017-02-14T00:00:00Z', 'statistics': {'usernames': 5029000, 'passwords': 5029003, 'emails': 4941344}}, '12': {'breachId': 12, 'site': 'vk.com', 'recordsCount': 91262655, 'description': \"Popular Russian social networking platform VKontakte was breached in late 2012. Over 100 million clear-text passwords were compromised in the breach. Breached credential sets included victims' e-mail addresses, passwords, dates of birth, phone numbers and location details. The credential set was advertised on a dark web marketplace as of June 2016 for a price of one bitcoin. \", 'publishDate': '2016-10-29T00:00:00Z', 'statistics': {'usernames': 0, 'passwords': 89691243, 'emails': 91262653}}, '3': {'breachId': 3, 'site': 'adobe.com', 'recordsCount': 152046506, 'description': \"In October of 2013, criminals penetrated Adobe's corporate network and the stole source code for several of its software products. The affected products included Adobe's ColdFusion web application platform as well as the Acrobat suite of products. Adobe asserts that criminals also accessed nearly three-million customer credit card records and stole login data for an undisclosed number of Adobe user accounts.\", 'publishDate': '2016-10-21T00:00:00Z', 'statistics': {'usernames': 0, 'passwords': 129430596, 'emails': 152046506}}, '3164': {'breachId': 3164, 'site': 'cfire.mail.ru', 'recordsCount': 12880232, 'description': \"In July and August of 2016, two criminals carried out attacks on three separate forums hosted by Mail.ru, including CFire. The hackers used known SQL injection vulnerabilities found in older vBulletin forum software to obtain access to the databases. Shortly after the breach itself, the contents of CFire's database were leaked publicly. The database contains usernames, email addresses, and MD5 hashed passwords for just under 13 million users.\", 'publishDate': '2017-02-14T00:00:00Z', 'statistics': {'usernames': 12880232, 'passwords': 12880222, 'emails': 12845820}}, '2961': {'breachId': 2961, 'site': 'cdprojektred.com', 'recordsCount': 1871459, 'description': \"In March 2016, CDProjektRed.com.com's forum database was breached. The attacker may have exploited a vulnerability in vBulletin. The stolen data contains over 1,870,000 user records including associated usernames, email addresses, hashed passwords, and salts. The leaked credentials are being shared and sold privately on the dark web.\", 'publishDate': '2017-01-31T00:00:00Z', 'statistics': {'usernames': 1871410, 'passwords': 1871457, 'emails': 1871289}}, '15': {'breachId': 15, 'site': 'imesh.com', 'recordsCount': 50913222, 'description': 'In June 2016, a cache of over 51 million user credentials from the online sharing service iMesh appeared for sale on a dark web marketplace.  The database contained user email addresses, usernames, passwords, IP addresses and location.', 'publishDate': '2016-10-23T00:00:00Z', 'statistics': {'usernames': 50909015, 'passwords': 50913222, 'emails': 50913222}}}, 'data': {'parapa.mail.ru': {'xxx@x.ru': [{'breachId': 3176, 'usernameBreached': True, 'passwordBreached': True}]}, 'adobe.com': {'xxx@x.ru': [{'breachId': 3, 'usernameBreached': True, 'passwordBreached': True}]}, 'cdprojektred.com': {'xxx@x.ru': [{'breachId': 2961, 'usernameBreached': True, 'passwordBreached': True}]}, 'cfire.mail.ru': {'xxx@x.ru': [{'breachId': 3164, 'usernameBreached': True, 'passwordBreached': True}]}, 'vk.com': {'xxx@x.ru': [{'breachId': 12, 'usernameBreached': True, 'passwordBreached': True}]}, 'imesh.com': {'xxx@x.ru': [{'breachId': 15, 'usernameBreached': True, 'passwordBreached': True}]}}, 'summary': {'xxx@x.ru': {'breaches': [3176, 12, 3, 3164, 2961, 15]}}}\n"
     ]
    }
   ],
   "source": [
    "print(req.json())"
   ]
  },
  {
   "cell_type": "code",
   "execution_count": 44,
   "metadata": {},
   "outputs": [
    {
     "name": "stdout",
     "output_type": "stream",
     "text": [
      "breaches\n",
      "----------\n",
      "{'3176': {'breachId': 3176, 'site': 'parapa.mail.ru', 'recordsCount': 5029003, 'description': \"In July and August 2016, two criminals executed attacks against three separate forums hosted by Mail.ru including the Russian forum Parapa. Shortly after the breach occurred, the contents of Parapa's database were leaked publicly. The database contains usernames, email addresses, and hashed passwords for around 5 million users.\", 'publishDate': '2017-02-14T00:00:00Z', 'statistics': {'usernames': 5029000, 'passwords': 5029003, 'emails': 4941344}}, '12': {'breachId': 12, 'site': 'vk.com', 'recordsCount': 91262655, 'description': \"Popular Russian social networking platform VKontakte was breached in late 2012. Over 100 million clear-text passwords were compromised in the breach. Breached credential sets included victims' e-mail addresses, passwords, dates of birth, phone numbers and location details. The credential set was advertised on a dark web marketplace as of June 2016 for a price of one bitcoin. \", 'publishDate': '2016-10-29T00:00:00Z', 'statistics': {'usernames': 0, 'passwords': 89691243, 'emails': 91262653}}, '3': {'breachId': 3, 'site': 'adobe.com', 'recordsCount': 152046506, 'description': \"In October of 2013, criminals penetrated Adobe's corporate network and the stole source code for several of its software products. The affected products included Adobe's ColdFusion web application platform as well as the Acrobat suite of products. Adobe asserts that criminals also accessed nearly three-million customer credit card records and stole login data for an undisclosed number of Adobe user accounts.\", 'publishDate': '2016-10-21T00:00:00Z', 'statistics': {'usernames': 0, 'passwords': 129430596, 'emails': 152046506}}, '3164': {'breachId': 3164, 'site': 'cfire.mail.ru', 'recordsCount': 12880232, 'description': \"In July and August of 2016, two criminals carried out attacks on three separate forums hosted by Mail.ru, including CFire. The hackers used known SQL injection vulnerabilities found in older vBulletin forum software to obtain access to the databases. Shortly after the breach itself, the contents of CFire's database were leaked publicly. The database contains usernames, email addresses, and MD5 hashed passwords for just under 13 million users.\", 'publishDate': '2017-02-14T00:00:00Z', 'statistics': {'usernames': 12880232, 'passwords': 12880222, 'emails': 12845820}}, '2961': {'breachId': 2961, 'site': 'cdprojektred.com', 'recordsCount': 1871459, 'description': \"In March 2016, CDProjektRed.com.com's forum database was breached. The attacker may have exploited a vulnerability in vBulletin. The stolen data contains over 1,870,000 user records including associated usernames, email addresses, hashed passwords, and salts. The leaked credentials are being shared and sold privately on the dark web.\", 'publishDate': '2017-01-31T00:00:00Z', 'statistics': {'usernames': 1871410, 'passwords': 1871457, 'emails': 1871289}}, '15': {'breachId': 15, 'site': 'imesh.com', 'recordsCount': 50913222, 'description': 'In June 2016, a cache of over 51 million user credentials from the online sharing service iMesh appeared for sale on a dark web marketplace.  The database contained user email addresses, usernames, passwords, IP addresses and location.', 'publishDate': '2016-10-23T00:00:00Z', 'statistics': {'usernames': 50909015, 'passwords': 50913222, 'emails': 50913222}}}\n",
      "\n",
      "data\n",
      "----------\n",
      "{'parapa.mail.ru': {'xxx@x.ru': [{'breachId': 3176, 'usernameBreached': True, 'passwordBreached': True}]}, 'adobe.com': {'xxx@x.ru': [{'breachId': 3, 'usernameBreached': True, 'passwordBreached': True}]}, 'cdprojektred.com': {'xxx@x.ru': [{'breachId': 2961, 'usernameBreached': True, 'passwordBreached': True}]}, 'cfire.mail.ru': {'xxx@x.ru': [{'breachId': 3164, 'usernameBreached': True, 'passwordBreached': True}]}, 'vk.com': {'xxx@x.ru': [{'breachId': 12, 'usernameBreached': True, 'passwordBreached': True}]}, 'imesh.com': {'xxx@x.ru': [{'breachId': 15, 'usernameBreached': True, 'passwordBreached': True}]}}\n",
      "\n",
      "summary\n",
      "----------\n",
      "{'xxx@x.ru': {'breaches': [3176, 12, 3, 3164, 2961, 15]}}\n",
      "\n"
     ]
    }
   ],
   "source": [
    "# посмотрим, что мы получили в результате запроса.\n",
    "# видим, что чтобы достать необходимую нам инфу, надо разбирать значения по ключу breaches  \n",
    "\n",
    "for k, v in req.json().items():\n",
    "    print(k)\n",
    "    print('----------')\n",
    "    print(v)\n",
    "    print()\n"
   ]
  },
  {
   "cell_type": "code",
   "execution_count": 26,
   "metadata": {},
   "outputs": [
    {
     "name": "stdout",
     "output_type": "stream",
     "text": [
      "3176\n",
      "----------\n",
      "{'breachId': 3176, 'site': 'parapa.mail.ru', 'recordsCount': 5029003, 'description': \"In July and August 2016, two criminals executed attacks against three separate forums hosted by Mail.ru including the Russian forum Parapa. Shortly after the breach occurred, the contents of Parapa's database were leaked publicly. The database contains usernames, email addresses, and hashed passwords for around 5 million users.\", 'publishDate': '2017-02-14T00:00:00Z', 'statistics': {'usernames': 5029000, 'passwords': 5029003, 'emails': 4941344}}\n",
      "\n",
      "12\n",
      "----------\n",
      "{'breachId': 12, 'site': 'vk.com', 'recordsCount': 91262655, 'description': \"Popular Russian social networking platform VKontakte was breached in late 2012. Over 100 million clear-text passwords were compromised in the breach. Breached credential sets included victims' e-mail addresses, passwords, dates of birth, phone numbers and location details. The credential set was advertised on a dark web marketplace as of June 2016 for a price of one bitcoin. \", 'publishDate': '2016-10-29T00:00:00Z', 'statistics': {'usernames': 0, 'passwords': 89691243, 'emails': 91262653}}\n",
      "\n",
      "3\n",
      "----------\n",
      "{'breachId': 3, 'site': 'adobe.com', 'recordsCount': 152046506, 'description': \"In October of 2013, criminals penetrated Adobe's corporate network and the stole source code for several of its software products. The affected products included Adobe's ColdFusion web application platform as well as the Acrobat suite of products. Adobe asserts that criminals also accessed nearly three-million customer credit card records and stole login data for an undisclosed number of Adobe user accounts.\", 'publishDate': '2016-10-21T00:00:00Z', 'statistics': {'usernames': 0, 'passwords': 129430596, 'emails': 152046506}}\n",
      "\n",
      "3164\n",
      "----------\n",
      "{'breachId': 3164, 'site': 'cfire.mail.ru', 'recordsCount': 12880232, 'description': \"In July and August of 2016, two criminals carried out attacks on three separate forums hosted by Mail.ru, including CFire. The hackers used known SQL injection vulnerabilities found in older vBulletin forum software to obtain access to the databases. Shortly after the breach itself, the contents of CFire's database were leaked publicly. The database contains usernames, email addresses, and MD5 hashed passwords for just under 13 million users.\", 'publishDate': '2017-02-14T00:00:00Z', 'statistics': {'usernames': 12880232, 'passwords': 12880222, 'emails': 12845820}}\n",
      "\n",
      "2961\n",
      "----------\n",
      "{'breachId': 2961, 'site': 'cdprojektred.com', 'recordsCount': 1871459, 'description': \"In March 2016, CDProjektRed.com.com's forum database was breached. The attacker may have exploited a vulnerability in vBulletin. The stolen data contains over 1,870,000 user records including associated usernames, email addresses, hashed passwords, and salts. The leaked credentials are being shared and sold privately on the dark web.\", 'publishDate': '2017-01-31T00:00:00Z', 'statistics': {'usernames': 1871410, 'passwords': 1871457, 'emails': 1871289}}\n",
      "\n",
      "15\n",
      "----------\n",
      "{'breachId': 15, 'site': 'imesh.com', 'recordsCount': 50913222, 'description': 'In June 2016, a cache of over 51 million user credentials from the online sharing service iMesh appeared for sale on a dark web marketplace.  The database contained user email addresses, usernames, passwords, IP addresses and location.', 'publishDate': '2016-10-23T00:00:00Z', 'statistics': {'usernames': 50909015, 'passwords': 50913222, 'emails': 50913222}}\n",
      "\n"
     ]
    }
   ],
   "source": [
    "# посмотрим на breaches\n",
    "for k, v in req.json()['breaches'].items():\n",
    "    print(k)\n",
    "    print('----------')\n",
    "    print(v)\n",
    "    print()\n",
    "    "
   ]
  },
  {
   "cell_type": "code",
   "execution_count": 49,
   "metadata": {},
   "outputs": [
    {
     "data": {
      "text/html": [
       "<div>\n",
       "<style scoped>\n",
       "    .dataframe tbody tr th:only-of-type {\n",
       "        vertical-align: middle;\n",
       "    }\n",
       "\n",
       "    .dataframe tbody tr th {\n",
       "        vertical-align: top;\n",
       "    }\n",
       "\n",
       "    .dataframe thead th {\n",
       "        text-align: right;\n",
       "    }\n",
       "</style>\n",
       "<table border=\"1\" class=\"dataframe\">\n",
       "  <thead>\n",
       "    <tr style=\"text-align: right;\">\n",
       "      <th></th>\n",
       "      <th>email</th>\n",
       "      <th>breach_date</th>\n",
       "      <th>breach_source</th>\n",
       "      <th>description</th>\n",
       "    </tr>\n",
       "  </thead>\n",
       "  <tbody>\n",
       "    <tr>\n",
       "      <th>0</th>\n",
       "      <td>xxx@x.ru</td>\n",
       "      <td>2019-03-28</td>\n",
       "      <td>verifications.io</td>\n",
       "      <td>Big data e-mail verification platform verifica...</td>\n",
       "    </tr>\n",
       "    <tr>\n",
       "      <th>1</th>\n",
       "      <td>xxx@x.ru</td>\n",
       "      <td>2020-05-21</td>\n",
       "      <td>vk.com</td>\n",
       "      <td>At some time in 2020, the Russian social netwo...</td>\n",
       "    </tr>\n",
       "    <tr>\n",
       "      <th>2</th>\n",
       "      <td>xxx@x.ru</td>\n",
       "      <td>2017-02-14</td>\n",
       "      <td>parapa.mail.ru</td>\n",
       "      <td>In July and August 2016, two criminals execute...</td>\n",
       "    </tr>\n",
       "    <tr>\n",
       "      <th>3</th>\n",
       "      <td>xxx@x.ru</td>\n",
       "      <td>2016-10-29</td>\n",
       "      <td>vk.com</td>\n",
       "      <td>Popular Russian social networking platform VKo...</td>\n",
       "    </tr>\n",
       "    <tr>\n",
       "      <th>4</th>\n",
       "      <td>xxx@x.ru</td>\n",
       "      <td>2016-10-21</td>\n",
       "      <td>adobe.com</td>\n",
       "      <td>In October of 2013, criminals penetrated Adobe...</td>\n",
       "    </tr>\n",
       "    <tr>\n",
       "      <th>5</th>\n",
       "      <td>xxx@x.ru</td>\n",
       "      <td>2017-02-14</td>\n",
       "      <td>cfire.mail.ru</td>\n",
       "      <td>In July and August of 2016, two criminals carr...</td>\n",
       "    </tr>\n",
       "    <tr>\n",
       "      <th>6</th>\n",
       "      <td>xxx@x.ru</td>\n",
       "      <td>2017-01-31</td>\n",
       "      <td>cdprojektred.com</td>\n",
       "      <td>In March 2016, CDProjektRed.com.com's forum da...</td>\n",
       "    </tr>\n",
       "    <tr>\n",
       "      <th>7</th>\n",
       "      <td>xxx@x.ru</td>\n",
       "      <td>2016-10-23</td>\n",
       "      <td>imesh.com</td>\n",
       "      <td>In June 2016, a cache of over 51 million user ...</td>\n",
       "    </tr>\n",
       "    <tr>\n",
       "      <th>8</th>\n",
       "      <td>yyy@y.com</td>\n",
       "      <td>2019-03-28</td>\n",
       "      <td>verifications.io</td>\n",
       "      <td>Big data e-mail verification platform verifica...</td>\n",
       "    </tr>\n",
       "    <tr>\n",
       "      <th>9</th>\n",
       "      <td>yyy@y.com</td>\n",
       "      <td>2019-02-21</td>\n",
       "      <td>www.dangdang.com</td>\n",
       "      <td>This is a list of email addresses only, and as...</td>\n",
       "    </tr>\n",
       "    <tr>\n",
       "      <th>10</th>\n",
       "      <td>yyy@y.com</td>\n",
       "      <td>2020-01-03</td>\n",
       "      <td>azcentral.com</td>\n",
       "      <td>At an unconfirmed date, online Arizona newspap...</td>\n",
       "    </tr>\n",
       "    <tr>\n",
       "      <th>11</th>\n",
       "      <td>yyy@y.com</td>\n",
       "      <td>2020-05-28</td>\n",
       "      <td>wishbone.io</td>\n",
       "      <td>In January 2020, the online poll website Wishb...</td>\n",
       "    </tr>\n",
       "    <tr>\n",
       "      <th>12</th>\n",
       "      <td>yyy@y.com</td>\n",
       "      <td>2017-11-04</td>\n",
       "      <td>myheritage.com</td>\n",
       "      <td>In October 2017, a customer database belonging...</td>\n",
       "    </tr>\n",
       "    <tr>\n",
       "      <th>13</th>\n",
       "      <td>yyy@y.com</td>\n",
       "      <td>2017-12-01</td>\n",
       "      <td>creocommunity.com</td>\n",
       "      <td>At an unconfirmed date, Creo Community's user ...</td>\n",
       "    </tr>\n",
       "    <tr>\n",
       "      <th>14</th>\n",
       "      <td>yyy@y.com</td>\n",
       "      <td>2019-06-13</td>\n",
       "      <td>canva.com</td>\n",
       "      <td>In May 2019, graphic-design site Canva's datab...</td>\n",
       "    </tr>\n",
       "    <tr>\n",
       "      <th>15</th>\n",
       "      <td>yyy@y.com</td>\n",
       "      <td>2016-10-24</td>\n",
       "      <td>dropbox.com</td>\n",
       "      <td>Cloud storage company Dropbox suffered a major...</td>\n",
       "    </tr>\n",
       "    <tr>\n",
       "      <th>16</th>\n",
       "      <td>yyy@y.com</td>\n",
       "      <td>2016-10-21</td>\n",
       "      <td>linkedin.com</td>\n",
       "      <td>In 2012, online professional networking platfo...</td>\n",
       "    </tr>\n",
       "    <tr>\n",
       "      <th>17</th>\n",
       "      <td>yyy@y.com</td>\n",
       "      <td>2017-03-01</td>\n",
       "      <td>rayli.com.cn</td>\n",
       "      <td>On an unconfirmed date, Chinese gossip site Ra...</td>\n",
       "    </tr>\n",
       "    <tr>\n",
       "      <th>18</th>\n",
       "      <td>yyy@y.com</td>\n",
       "      <td>2019-10-17</td>\n",
       "      <td>zynga.com</td>\n",
       "      <td>In September 2019, the game developer Zynga wa...</td>\n",
       "    </tr>\n",
       "    <tr>\n",
       "      <th>19</th>\n",
       "      <td>yyy@y.com</td>\n",
       "      <td>2019-07-11</td>\n",
       "      <td>medicaresupplement.com</td>\n",
       "      <td>In May 2019, a security researcher discovered ...</td>\n",
       "    </tr>\n",
       "    <tr>\n",
       "      <th>20</th>\n",
       "      <td>yyy@y.com</td>\n",
       "      <td>2016-10-21</td>\n",
       "      <td>adobe.com</td>\n",
       "      <td>In October of 2013, criminals penetrated Adobe...</td>\n",
       "    </tr>\n",
       "    <tr>\n",
       "      <th>21</th>\n",
       "      <td>yyy@y.com</td>\n",
       "      <td>2018-02-18</td>\n",
       "      <td>netlog.com</td>\n",
       "      <td>Netlog (formerly known as Facebox and Bingbox)...</td>\n",
       "    </tr>\n",
       "    <tr>\n",
       "      <th>22</th>\n",
       "      <td>yyy@y.com</td>\n",
       "      <td>2017-03-15</td>\n",
       "      <td>globalreach.eu</td>\n",
       "      <td>In 2016, Global Reach Technology's database wa...</td>\n",
       "    </tr>\n",
       "    <tr>\n",
       "      <th>23</th>\n",
       "      <td>yyy@y.com</td>\n",
       "      <td>2016-10-23</td>\n",
       "      <td>imesh.com</td>\n",
       "      <td>In June 2016, a cache of over 51 million user ...</td>\n",
       "    </tr>\n",
       "    <tr>\n",
       "      <th>24</th>\n",
       "      <td>yyy@y.com</td>\n",
       "      <td>2017-03-24</td>\n",
       "      <td>youku.com</td>\n",
       "      <td>Youku is a large Chinese video content company...</td>\n",
       "    </tr>\n",
       "  </tbody>\n",
       "</table>\n",
       "</div>"
      ],
      "text/plain": [
       "        email breach_date           breach_source  \\\n",
       "0    xxx@x.ru  2019-03-28        verifications.io   \n",
       "1    xxx@x.ru  2020-05-21                  vk.com   \n",
       "2    xxx@x.ru  2017-02-14          parapa.mail.ru   \n",
       "3    xxx@x.ru  2016-10-29                  vk.com   \n",
       "4    xxx@x.ru  2016-10-21               adobe.com   \n",
       "5    xxx@x.ru  2017-02-14           cfire.mail.ru   \n",
       "6    xxx@x.ru  2017-01-31        cdprojektred.com   \n",
       "7    xxx@x.ru  2016-10-23               imesh.com   \n",
       "8   yyy@y.com  2019-03-28        verifications.io   \n",
       "9   yyy@y.com  2019-02-21        www.dangdang.com   \n",
       "10  yyy@y.com  2020-01-03           azcentral.com   \n",
       "11  yyy@y.com  2020-05-28             wishbone.io   \n",
       "12  yyy@y.com  2017-11-04          myheritage.com   \n",
       "13  yyy@y.com  2017-12-01       creocommunity.com   \n",
       "14  yyy@y.com  2019-06-13               canva.com   \n",
       "15  yyy@y.com  2016-10-24             dropbox.com   \n",
       "16  yyy@y.com  2016-10-21            linkedin.com   \n",
       "17  yyy@y.com  2017-03-01            rayli.com.cn   \n",
       "18  yyy@y.com  2019-10-17               zynga.com   \n",
       "19  yyy@y.com  2019-07-11  medicaresupplement.com   \n",
       "20  yyy@y.com  2016-10-21               adobe.com   \n",
       "21  yyy@y.com  2018-02-18              netlog.com   \n",
       "22  yyy@y.com  2017-03-15          globalreach.eu   \n",
       "23  yyy@y.com  2016-10-23               imesh.com   \n",
       "24  yyy@y.com  2017-03-24               youku.com   \n",
       "\n",
       "                                          description  \n",
       "0   Big data e-mail verification platform verifica...  \n",
       "1   At some time in 2020, the Russian social netwo...  \n",
       "2   In July and August 2016, two criminals execute...  \n",
       "3   Popular Russian social networking platform VKo...  \n",
       "4   In October of 2013, criminals penetrated Adobe...  \n",
       "5   In July and August of 2016, two criminals carr...  \n",
       "6   In March 2016, CDProjektRed.com.com's forum da...  \n",
       "7   In June 2016, a cache of over 51 million user ...  \n",
       "8   Big data e-mail verification platform verifica...  \n",
       "9   This is a list of email addresses only, and as...  \n",
       "10  At an unconfirmed date, online Arizona newspap...  \n",
       "11  In January 2020, the online poll website Wishb...  \n",
       "12  In October 2017, a customer database belonging...  \n",
       "13  At an unconfirmed date, Creo Community's user ...  \n",
       "14  In May 2019, graphic-design site Canva's datab...  \n",
       "15  Cloud storage company Dropbox suffered a major...  \n",
       "16  In 2012, online professional networking platfo...  \n",
       "17  On an unconfirmed date, Chinese gossip site Ra...  \n",
       "18  In September 2019, the game developer Zynga wa...  \n",
       "19  In May 2019, a security researcher discovered ...  \n",
       "20  In October of 2013, criminals penetrated Adobe...  \n",
       "21  Netlog (formerly known as Facebox and Bingbox)...  \n",
       "22  In 2016, Global Reach Technology's database wa...  \n",
       "23  In June 2016, a cache of over 51 million user ...  \n",
       "24  Youku is a large Chinese video content company...  "
      ]
     },
     "execution_count": 49,
     "metadata": {},
     "output_type": "execute_result"
    }
   ],
   "source": [
    "# отсюда уже можно доставать наши данные для датасета.'site' - источник утечки, 'description' - описание,\n",
    "# 'publishDate' - дата утечки\n",
    "# теперь можно собрать весь код для нашего списка почтовых адресов\n",
    "\n",
    "EMAILS = [\"xxx@x.ru\", \"yyy@y.com\"]\n",
    "df = pd.DataFrame()\n",
    "for email in EMAILS:\n",
    "    url = 'https://identityprotection.avast.com/v1/web/query/site-breaches/unauthorized-data'\n",
    "    data = {\"emailAddresses\":[email]}\n",
    "    headers = {\n",
    "             \"User-Agent\": \"Mozilla/5.0 (Windows NT 10.0; Win64; x64) AppleWebKit/537.36 (KHTML, like Gecko) Chrome/86.0.4240.183 Safari/537.36\",\n",
    "             \"Vaar-Header-App-Product\": \"hackcheck-web-avast\",\n",
    "             \"Vaar-Version\": \"0\"\n",
    "    }\n",
    "    req = requests.post(url, data=json.dumps(data), headers = headers)\n",
    "    for details in req.json()['breaches'].values():\n",
    "        row = {\n",
    "            'email':email,\n",
    "            'breach_date': details['publishDate'],\n",
    "            'breach_source': details['site'],\n",
    "            'description': details['description']\n",
    "        }\n",
    "        df = pd.concat([df, pd.DataFrame([row])], ignore_index=True)\n",
    "\n",
    "df['breach_date'] = pd.to_datetime(df['breach_date'], format='%Y-%m-%dT%H:%M:%SZ')\n",
    "df\n",
    "    "
   ]
  },
  {
   "cell_type": "markdown",
   "metadata": {},
   "source": [
    "### Дополнительная часть (необязательная)"
   ]
  },
  {
   "cell_type": "markdown",
   "metadata": {},
   "source": [
    "Написать скрипт, который будет получать 50 последних постов указанной группы во Вконтакте.  \n",
    "Документация к API VK: https://vk.com/dev/methods\n",
    ", вам поможет метод [wall.get](https://vk.com/dev/wall.get)  \n",
    "```\n",
    "GROUP = 'netology'  \n",
    "TOKEN = УДАЛЯЙТЕ В ВЕРСИИ ДЛЯ ПРОВЕРКИ, НА GITHUB НЕ ВЫКЛАДЫВАТЬ  \n",
    "```\n",
    "\n",
    "В итоге должен формироваться датафрейм со столбцами: `<дата поста> - <текст поста>`"
   ]
  },
  {
   "cell_type": "code",
   "execution_count": 62,
   "metadata": {},
   "outputs": [],
   "source": [
    "REQUEST = 'https://api.vk.com/method/wall.get?'\n",
    "TOKEN = ''\n",
    "VERSION = '5.103'\n",
    "SLEEP = 0.33"
   ]
  },
  {
   "cell_type": "code",
   "execution_count": 63,
   "metadata": {},
   "outputs": [],
   "source": [
    "params = {\n",
    "    'access_token': TOKEN,\n",
    "    'v': VERSION,\n",
    "    'domain': 'netology',\n",
    "    'count': 50\n",
    "}"
   ]
  },
  {
   "cell_type": "code",
   "execution_count": 64,
   "metadata": {},
   "outputs": [
    {
     "data": {
      "text/plain": [
       "<Response [200]>"
      ]
     },
     "execution_count": 64,
     "metadata": {},
     "output_type": "execute_result"
    }
   ],
   "source": [
    "res = requests.get(REQUEST, params)\n",
    "res"
   ]
  },
  {
   "cell_type": "code",
   "execution_count": 67,
   "metadata": {},
   "outputs": [
    {
     "data": {
      "text/html": [
       "<div>\n",
       "<style scoped>\n",
       "    .dataframe tbody tr th:only-of-type {\n",
       "        vertical-align: middle;\n",
       "    }\n",
       "\n",
       "    .dataframe tbody tr th {\n",
       "        vertical-align: top;\n",
       "    }\n",
       "\n",
       "    .dataframe thead th {\n",
       "        text-align: right;\n",
       "    }\n",
       "</style>\n",
       "<table border=\"1\" class=\"dataframe\">\n",
       "  <thead>\n",
       "    <tr style=\"text-align: right;\">\n",
       "      <th></th>\n",
       "      <th>date</th>\n",
       "      <th>text</th>\n",
       "    </tr>\n",
       "  </thead>\n",
       "  <tbody>\n",
       "    <tr>\n",
       "      <th>0</th>\n",
       "      <td>1604647980</td>\n",
       "      <td>Точно решили, кем хотите стать в диджитале, но...</td>\n",
       "    </tr>\n",
       "    <tr>\n",
       "      <th>1</th>\n",
       "      <td>1604586780</td>\n",
       "      <td>Почему за некоторые задачи так сложно взяться?...</td>\n",
       "    </tr>\n",
       "    <tr>\n",
       "      <th>2</th>\n",
       "      <td>1604565660</td>\n",
       "      <td>Чтобы сделать приличный сайт, не обязательно б...</td>\n",
       "    </tr>\n",
       "    <tr>\n",
       "      <th>3</th>\n",
       "      <td>1604499480</td>\n",
       "      <td>Выходной в середине недели — самое время устро...</td>\n",
       "    </tr>\n",
       "    <tr>\n",
       "      <th>4</th>\n",
       "      <td>1604474580</td>\n",
       "      <td>Чтобы создавать уникальные дизайнерские продук...</td>\n",
       "    </tr>\n",
       "  </tbody>\n",
       "</table>\n",
       "</div>"
      ],
      "text/plain": [
       "         date                                               text\n",
       "0  1604647980  Точно решили, кем хотите стать в диджитале, но...\n",
       "1  1604586780  Почему за некоторые задачи так сложно взяться?...\n",
       "2  1604565660  Чтобы сделать приличный сайт, не обязательно б...\n",
       "3  1604499480  Выходной в середине недели — самое время устро...\n",
       "4  1604474580  Чтобы создавать уникальные дизайнерские продук..."
      ]
     },
     "execution_count": 67,
     "metadata": {},
     "output_type": "execute_result"
    }
   ],
   "source": [
    "vk_wall = pd.DataFrame(res.json()['response']['items'], columns=['date', 'text'])\n",
    "vk_wall.head()"
   ]
  },
  {
   "cell_type": "code",
   "execution_count": 76,
   "metadata": {},
   "outputs": [
    {
     "data": {
      "text/html": [
       "<div>\n",
       "<style scoped>\n",
       "    .dataframe tbody tr th:only-of-type {\n",
       "        vertical-align: middle;\n",
       "    }\n",
       "\n",
       "    .dataframe tbody tr th {\n",
       "        vertical-align: top;\n",
       "    }\n",
       "\n",
       "    .dataframe thead th {\n",
       "        text-align: right;\n",
       "    }\n",
       "</style>\n",
       "<table border=\"1\" class=\"dataframe\">\n",
       "  <thead>\n",
       "    <tr style=\"text-align: right;\">\n",
       "      <th></th>\n",
       "      <th>date</th>\n",
       "      <th>text</th>\n",
       "    </tr>\n",
       "  </thead>\n",
       "  <tbody>\n",
       "    <tr>\n",
       "      <th>0</th>\n",
       "      <td>2020-11-06 07:33:03</td>\n",
       "      <td>Точно решили, кем хотите стать в диджитале, но...</td>\n",
       "    </tr>\n",
       "    <tr>\n",
       "      <th>1</th>\n",
       "      <td>2020-11-05 14:33:03</td>\n",
       "      <td>Почему за некоторые задачи так сложно взяться?...</td>\n",
       "    </tr>\n",
       "    <tr>\n",
       "      <th>2</th>\n",
       "      <td>2020-11-05 08:41:03</td>\n",
       "      <td>Чтобы сделать приличный сайт, не обязательно б...</td>\n",
       "    </tr>\n",
       "    <tr>\n",
       "      <th>3</th>\n",
       "      <td>2020-11-04 14:18:03</td>\n",
       "      <td>Выходной в середине недели — самое время устро...</td>\n",
       "    </tr>\n",
       "    <tr>\n",
       "      <th>4</th>\n",
       "      <td>2020-11-04 07:23:03</td>\n",
       "      <td>Чтобы создавать уникальные дизайнерские продук...</td>\n",
       "    </tr>\n",
       "  </tbody>\n",
       "</table>\n",
       "</div>"
      ],
      "text/plain": [
       "                 date                                               text\n",
       "0 2020-11-06 07:33:03  Точно решили, кем хотите стать в диджитале, но...\n",
       "1 2020-11-05 14:33:03  Почему за некоторые задачи так сложно взяться?...\n",
       "2 2020-11-05 08:41:03  Чтобы сделать приличный сайт, не обязательно б...\n",
       "3 2020-11-04 14:18:03  Выходной в середине недели — самое время устро...\n",
       "4 2020-11-04 07:23:03  Чтобы создавать уникальные дизайнерские продук..."
      ]
     },
     "execution_count": 76,
     "metadata": {},
     "output_type": "execute_result"
    }
   ],
   "source": [
    "vk_wall['date'] = pd.to_datetime(vk_wall['date'],unit='s')\n",
    "vk_wall.head()"
   ]
  },
  {
   "cell_type": "code",
   "execution_count": 94,
   "metadata": {},
   "outputs": [
    {
     "data": {
      "text/plain": [
       "(50, 2)"
      ]
     },
     "execution_count": 94,
     "metadata": {},
     "output_type": "execute_result"
    }
   ],
   "source": [
    "vk_wall.shape"
   ]
  },
  {
   "cell_type": "code",
   "execution_count": null,
   "metadata": {},
   "outputs": [],
   "source": [
    "# выглядит как нужно, и длина датасета правильная. Однако если мы сравним даты в нашем датасете, полученные из unixtime,\n",
    "# и даты постов на страничке группы, увидим, что на страничке группы все записи смещены на 3 часа вперед \n",
    "# относительно дат из датасета. Московское время как раз соответствует UTC+3, и при необходимости мы можем дополнительно\n",
    "# преобразовать даты с учетом разницы между локальным временем и UTC"
   ]
  },
  {
   "cell_type": "code",
   "execution_count": 90,
   "metadata": {},
   "outputs": [],
   "source": [
    "from dateutil import tz\n",
    "\n",
    "def utc_to_local(utc_dt):\n",
    "    HERE = tz.tzlocal()\n",
    "    UTC = tz.gettz('UTC')\n",
    "    return utc_dt.replace(tzinfo=UTC).astimezone(HERE)"
   ]
  },
  {
   "cell_type": "code",
   "execution_count": 91,
   "metadata": {},
   "outputs": [
    {
     "data": {
      "text/html": [
       "<div>\n",
       "<style scoped>\n",
       "    .dataframe tbody tr th:only-of-type {\n",
       "        vertical-align: middle;\n",
       "    }\n",
       "\n",
       "    .dataframe tbody tr th {\n",
       "        vertical-align: top;\n",
       "    }\n",
       "\n",
       "    .dataframe thead th {\n",
       "        text-align: right;\n",
       "    }\n",
       "</style>\n",
       "<table border=\"1\" class=\"dataframe\">\n",
       "  <thead>\n",
       "    <tr style=\"text-align: right;\">\n",
       "      <th></th>\n",
       "      <th>date</th>\n",
       "      <th>text</th>\n",
       "    </tr>\n",
       "  </thead>\n",
       "  <tbody>\n",
       "    <tr>\n",
       "      <th>0</th>\n",
       "      <td>2020-11-06 10:33:03+03:00</td>\n",
       "      <td>Точно решили, кем хотите стать в диджитале, но...</td>\n",
       "    </tr>\n",
       "    <tr>\n",
       "      <th>1</th>\n",
       "      <td>2020-11-05 17:33:03+03:00</td>\n",
       "      <td>Почему за некоторые задачи так сложно взяться?...</td>\n",
       "    </tr>\n",
       "    <tr>\n",
       "      <th>2</th>\n",
       "      <td>2020-11-05 11:41:03+03:00</td>\n",
       "      <td>Чтобы сделать приличный сайт, не обязательно б...</td>\n",
       "    </tr>\n",
       "    <tr>\n",
       "      <th>3</th>\n",
       "      <td>2020-11-04 17:18:03+03:00</td>\n",
       "      <td>Выходной в середине недели — самое время устро...</td>\n",
       "    </tr>\n",
       "    <tr>\n",
       "      <th>4</th>\n",
       "      <td>2020-11-04 10:23:03+03:00</td>\n",
       "      <td>Чтобы создавать уникальные дизайнерские продук...</td>\n",
       "    </tr>\n",
       "  </tbody>\n",
       "</table>\n",
       "</div>"
      ],
      "text/plain": [
       "                       date                                               text\n",
       "0 2020-11-06 10:33:03+03:00  Точно решили, кем хотите стать в диджитале, но...\n",
       "1 2020-11-05 17:33:03+03:00  Почему за некоторые задачи так сложно взяться?...\n",
       "2 2020-11-05 11:41:03+03:00  Чтобы сделать приличный сайт, не обязательно б...\n",
       "3 2020-11-04 17:18:03+03:00  Выходной в середине недели — самое время устро...\n",
       "4 2020-11-04 10:23:03+03:00  Чтобы создавать уникальные дизайнерские продук..."
      ]
     },
     "execution_count": 91,
     "metadata": {},
     "output_type": "execute_result"
    }
   ],
   "source": [
    "vk_wall['date'] = vk_wall['date'].apply(utc_to_local)\n",
    "vk_wall.head()\n",
    "# теперь даты совпадают"
   ]
  },
  {
   "cell_type": "markdown",
   "metadata": {},
   "source": [
    "#### ПРИМЕЧАНИЕ\n",
    "Домашнее задание сдается ссылкой на репозиторий [GitHub](https://github.com/).\n",
    "Не сможем проверить или помочь, если вы пришлете:\n",
    "- файлы;\n",
    "- архивы;\n",
    "- скриншоты кода.\n",
    "\n",
    "Все обсуждения и консультации по выполнению домашнего задания ведутся только на соответствующем канале в slack.\n",
    "\n",
    "##### Как правильно задавать вопросы аспирантам, преподавателям и коллегам?\n",
    "Прежде чем задать вопрос необходимо попробовать найти ответ самому в интернете. Навык самостоятельного поиска информации – один из важнейших, и каждый практикующий специалист любого уровня это делает каждый день.\n",
    "\n",
    "Любой вопрос должен быть сформулирован по алгоритму:  \n",
    "1) Что я делаю?  \n",
    "2) Какого результата я ожидаю?  \n",
    "3) Как фактический результат отличается от ожидаемого?  \n",
    "4) Что я уже попробовал сделать, чтобы исправить проблему?  \n",
    "\n",
    "По возможности, прикрепляйте к вопросу скриншоты, либо ссылки на код. Оставляйте только проблемный и воспроизводимый участок кода, все решение выкладывать не допускается.\n"
   ]
  }
 ],
 "metadata": {
  "kernelspec": {
   "display_name": "Python 3",
   "language": "python",
   "name": "python3"
  },
  "language_info": {
   "codemirror_mode": {
    "name": "ipython",
    "version": 3
   },
   "file_extension": ".py",
   "mimetype": "text/x-python",
   "name": "python",
   "nbconvert_exporter": "python",
   "pygments_lexer": "ipython3",
   "version": "3.7.7"
  }
 },
 "nbformat": 4,
 "nbformat_minor": 2
}
