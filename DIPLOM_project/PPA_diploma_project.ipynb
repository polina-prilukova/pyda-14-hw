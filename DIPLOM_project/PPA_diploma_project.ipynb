{
 "cells": [
  {
   "cell_type": "markdown",
   "metadata": {},
   "source": [
    "## Дипломная работа по курсу \"Python для анализа данных\"\n",
    "\n",
    "Выполнила Прилукова Полина"
   ]
  },
  {
   "cell_type": "markdown",
   "metadata": {},
   "source": [
    "### Описание данных\n",
    "1. **satisfaction_level** - Уровень удовлетворенности работой\n",
    "2. **Last_evaluation** - Время с момента последней оценки в годах\n",
    "3. **number_projects** - Количество проектов, выполненных за время работы\n",
    "4. **average_monthly_hours** - Среднее количество часов на рабочем месте в месяц\n",
    "5. **time_spend_company** - Стаж работы в компании в годах\n",
    "6. **work_accident** - Происходили ли несчастные случаи на рабочем месте с сотрудником\n",
    "7. **left** - уволился ли сотрудник\n",
    "8. **promotion_last_5years** - повышался ли сотрудник за последние пять лет\n",
    "9. **department** - отдел в котором работает сотрудник\n",
    "10. **salary** - относительный уровень зарплаты"
   ]
  },
  {
   "cell_type": "markdown",
   "metadata": {},
   "source": [
    "### Задание\n",
    "\n",
    "1. Загрузите файл HR.csv в pandas dataframe\n",
    "1. Рассчитайте основные статистики для переменных (среднее,медиана,мода,мин/макс,сред.отклонение).\n",
    "1. Рассчитайте и визуализировать корреляционную матрицу для количественных переменных. Определите две самые скоррелированные и две наименее скоррелированные переменные.\n",
    "1. Рассчитайте сколько сотрудников работает в каждом департаменте.\n",
    "1. Показать распределение сотрудников по зарплатам.\n",
    "1. Показать распределение сотрудников по зарплатам в каждом департаменте по отдельности\n",
    "1. Проверить гипотезу, что сотрудники с высоким окладом проводят на работе больше времени, чем сотрудники с низким окладом\n",
    "1. Рассчитать следующие показатели среди уволившихся и не уволившихся сотрудников (по отдельности):\n",
    "    - Доля сотрудников с повышением за последние 5 лет\n",
    "    - Средняя степень удовлетворенности\n",
    "    - Среднее количество проектов\n",
    "1. Разделить данные на тестовую и обучающую выборки. Построить модель LDA, предсказывающую уволился ли сотрудник на основе имеющихся факторов (кроме department и salary). Оценить качество модели на тестовой выборкe\n",
    "1. Загрузить jupyter notebook с решение на github и прислать ссылку"
   ]
  },
  {
   "cell_type": "code",
   "execution_count": 1,
   "metadata": {},
   "outputs": [],
   "source": [
    "import pandas as pd\n",
    "import numpy as np\n",
    "import matplotlib.pyplot as plt\n",
    "import seaborn as sns"
   ]
  },
  {
   "cell_type": "markdown",
   "metadata": {},
   "source": [
    "### 1. Загружаем данные в датафрейм"
   ]
  },
  {
   "cell_type": "code",
   "execution_count": 2,
   "metadata": {},
   "outputs": [
    {
     "data": {
      "text/html": [
       "<div>\n",
       "<style scoped>\n",
       "    .dataframe tbody tr th:only-of-type {\n",
       "        vertical-align: middle;\n",
       "    }\n",
       "\n",
       "    .dataframe tbody tr th {\n",
       "        vertical-align: top;\n",
       "    }\n",
       "\n",
       "    .dataframe thead th {\n",
       "        text-align: right;\n",
       "    }\n",
       "</style>\n",
       "<table border=\"1\" class=\"dataframe\">\n",
       "  <thead>\n",
       "    <tr style=\"text-align: right;\">\n",
       "      <th></th>\n",
       "      <th>satisfaction_level</th>\n",
       "      <th>last_evaluation</th>\n",
       "      <th>number_project</th>\n",
       "      <th>average_montly_hours</th>\n",
       "      <th>time_spend_company</th>\n",
       "      <th>Work_accident</th>\n",
       "      <th>left</th>\n",
       "      <th>promotion_last_5years</th>\n",
       "      <th>department</th>\n",
       "      <th>salary</th>\n",
       "    </tr>\n",
       "  </thead>\n",
       "  <tbody>\n",
       "    <tr>\n",
       "      <th>0</th>\n",
       "      <td>0.38</td>\n",
       "      <td>0.53</td>\n",
       "      <td>2</td>\n",
       "      <td>157</td>\n",
       "      <td>3</td>\n",
       "      <td>0</td>\n",
       "      <td>1</td>\n",
       "      <td>0</td>\n",
       "      <td>sales</td>\n",
       "      <td>low</td>\n",
       "    </tr>\n",
       "    <tr>\n",
       "      <th>1</th>\n",
       "      <td>0.80</td>\n",
       "      <td>0.86</td>\n",
       "      <td>5</td>\n",
       "      <td>262</td>\n",
       "      <td>6</td>\n",
       "      <td>0</td>\n",
       "      <td>1</td>\n",
       "      <td>0</td>\n",
       "      <td>sales</td>\n",
       "      <td>medium</td>\n",
       "    </tr>\n",
       "    <tr>\n",
       "      <th>2</th>\n",
       "      <td>0.11</td>\n",
       "      <td>0.88</td>\n",
       "      <td>7</td>\n",
       "      <td>272</td>\n",
       "      <td>4</td>\n",
       "      <td>0</td>\n",
       "      <td>1</td>\n",
       "      <td>0</td>\n",
       "      <td>sales</td>\n",
       "      <td>medium</td>\n",
       "    </tr>\n",
       "    <tr>\n",
       "      <th>3</th>\n",
       "      <td>0.72</td>\n",
       "      <td>0.87</td>\n",
       "      <td>5</td>\n",
       "      <td>223</td>\n",
       "      <td>5</td>\n",
       "      <td>0</td>\n",
       "      <td>1</td>\n",
       "      <td>0</td>\n",
       "      <td>sales</td>\n",
       "      <td>low</td>\n",
       "    </tr>\n",
       "    <tr>\n",
       "      <th>4</th>\n",
       "      <td>0.37</td>\n",
       "      <td>0.52</td>\n",
       "      <td>2</td>\n",
       "      <td>159</td>\n",
       "      <td>3</td>\n",
       "      <td>0</td>\n",
       "      <td>1</td>\n",
       "      <td>0</td>\n",
       "      <td>sales</td>\n",
       "      <td>low</td>\n",
       "    </tr>\n",
       "  </tbody>\n",
       "</table>\n",
       "</div>"
      ],
      "text/plain": [
       "   satisfaction_level  last_evaluation  number_project  average_montly_hours  \\\n",
       "0                0.38             0.53               2                   157   \n",
       "1                0.80             0.86               5                   262   \n",
       "2                0.11             0.88               7                   272   \n",
       "3                0.72             0.87               5                   223   \n",
       "4                0.37             0.52               2                   159   \n",
       "\n",
       "   time_spend_company  Work_accident  left  promotion_last_5years department  \\\n",
       "0                   3              0     1                      0      sales   \n",
       "1                   6              0     1                      0      sales   \n",
       "2                   4              0     1                      0      sales   \n",
       "3                   5              0     1                      0      sales   \n",
       "4                   3              0     1                      0      sales   \n",
       "\n",
       "   salary  \n",
       "0     low  \n",
       "1  medium  \n",
       "2  medium  \n",
       "3     low  \n",
       "4     low  "
      ]
     },
     "execution_count": 2,
     "metadata": {},
     "output_type": "execute_result"
    }
   ],
   "source": [
    "df = pd.read_csv('HR.csv')\n",
    "df.head()"
   ]
  },
  {
   "cell_type": "code",
   "execution_count": 3,
   "metadata": {},
   "outputs": [
    {
     "name": "stdout",
     "output_type": "stream",
     "text": [
      "<class 'pandas.core.frame.DataFrame'>\n",
      "RangeIndex: 14999 entries, 0 to 14998\n",
      "Data columns (total 10 columns):\n",
      " #   Column                 Non-Null Count  Dtype  \n",
      "---  ------                 --------------  -----  \n",
      " 0   satisfaction_level     14999 non-null  float64\n",
      " 1   last_evaluation        14999 non-null  float64\n",
      " 2   number_project         14999 non-null  int64  \n",
      " 3   average_montly_hours   14999 non-null  int64  \n",
      " 4   time_spend_company     14999 non-null  int64  \n",
      " 5   Work_accident          14999 non-null  int64  \n",
      " 6   left                   14999 non-null  int64  \n",
      " 7   promotion_last_5years  14999 non-null  int64  \n",
      " 8   department             14999 non-null  object \n",
      " 9   salary                 14999 non-null  object \n",
      "dtypes: float64(2), int64(6), object(2)\n",
      "memory usage: 1.1+ MB\n"
     ]
    }
   ],
   "source": [
    "df.info()"
   ]
  },
  {
   "cell_type": "markdown",
   "metadata": {},
   "source": [
    "Проверим наши данные. Необходимо оценить наличие пропусков и выбросов в данных и выбрать стратегию очистки данных в случае, если они есть. Пропусков в данных у нас нет, как видно из результата выполнения метода info(). Есть ли в данных выбросы, покажет дальнейший анализ. "
   ]
  },
  {
   "cell_type": "markdown",
   "metadata": {},
   "source": [
    "### 2. Рассчитаем основные статистические метрики\n",
    "\n",
    "Посмотрим на основные статистические характеристики для числовых признаков. Колонки work_accident, left и promotion_last_5years содержат категориальные данные (наличие признака - 1, отсутствие - 0), несмотря на то, что данные в них выражены числами. Можно их оставить при расчете основных стат. характеристик (так мы сможем, например, по значению среднего оценить, содержится ли в столбце больше 0 или же 1), но больший интерес будут представлять первые 5 колонок."
   ]
  },
  {
   "cell_type": "code",
   "execution_count": 4,
   "metadata": {},
   "outputs": [
    {
     "data": {
      "text/html": [
       "<div>\n",
       "<style scoped>\n",
       "    .dataframe tbody tr th:only-of-type {\n",
       "        vertical-align: middle;\n",
       "    }\n",
       "\n",
       "    .dataframe tbody tr th {\n",
       "        vertical-align: top;\n",
       "    }\n",
       "\n",
       "    .dataframe thead th {\n",
       "        text-align: right;\n",
       "    }\n",
       "</style>\n",
       "<table border=\"1\" class=\"dataframe\">\n",
       "  <thead>\n",
       "    <tr style=\"text-align: right;\">\n",
       "      <th></th>\n",
       "      <th>satisfaction_level</th>\n",
       "      <th>last_evaluation</th>\n",
       "      <th>number_project</th>\n",
       "      <th>average_montly_hours</th>\n",
       "      <th>time_spend_company</th>\n",
       "      <th>Work_accident</th>\n",
       "      <th>left</th>\n",
       "      <th>promotion_last_5years</th>\n",
       "    </tr>\n",
       "  </thead>\n",
       "  <tbody>\n",
       "    <tr>\n",
       "      <th>count</th>\n",
       "      <td>14999.000000</td>\n",
       "      <td>14999.000000</td>\n",
       "      <td>14999.000000</td>\n",
       "      <td>14999.000000</td>\n",
       "      <td>14999.000000</td>\n",
       "      <td>14999.000000</td>\n",
       "      <td>14999.000000</td>\n",
       "      <td>14999.000000</td>\n",
       "    </tr>\n",
       "    <tr>\n",
       "      <th>mean</th>\n",
       "      <td>0.612834</td>\n",
       "      <td>0.716102</td>\n",
       "      <td>3.803054</td>\n",
       "      <td>201.050337</td>\n",
       "      <td>3.498233</td>\n",
       "      <td>0.144610</td>\n",
       "      <td>0.238083</td>\n",
       "      <td>0.021268</td>\n",
       "    </tr>\n",
       "    <tr>\n",
       "      <th>std</th>\n",
       "      <td>0.248631</td>\n",
       "      <td>0.171169</td>\n",
       "      <td>1.232592</td>\n",
       "      <td>49.943099</td>\n",
       "      <td>1.460136</td>\n",
       "      <td>0.351719</td>\n",
       "      <td>0.425924</td>\n",
       "      <td>0.144281</td>\n",
       "    </tr>\n",
       "    <tr>\n",
       "      <th>min</th>\n",
       "      <td>0.090000</td>\n",
       "      <td>0.360000</td>\n",
       "      <td>2.000000</td>\n",
       "      <td>96.000000</td>\n",
       "      <td>2.000000</td>\n",
       "      <td>0.000000</td>\n",
       "      <td>0.000000</td>\n",
       "      <td>0.000000</td>\n",
       "    </tr>\n",
       "    <tr>\n",
       "      <th>25%</th>\n",
       "      <td>0.440000</td>\n",
       "      <td>0.560000</td>\n",
       "      <td>3.000000</td>\n",
       "      <td>156.000000</td>\n",
       "      <td>3.000000</td>\n",
       "      <td>0.000000</td>\n",
       "      <td>0.000000</td>\n",
       "      <td>0.000000</td>\n",
       "    </tr>\n",
       "    <tr>\n",
       "      <th>50%</th>\n",
       "      <td>0.640000</td>\n",
       "      <td>0.720000</td>\n",
       "      <td>4.000000</td>\n",
       "      <td>200.000000</td>\n",
       "      <td>3.000000</td>\n",
       "      <td>0.000000</td>\n",
       "      <td>0.000000</td>\n",
       "      <td>0.000000</td>\n",
       "    </tr>\n",
       "    <tr>\n",
       "      <th>75%</th>\n",
       "      <td>0.820000</td>\n",
       "      <td>0.870000</td>\n",
       "      <td>5.000000</td>\n",
       "      <td>245.000000</td>\n",
       "      <td>4.000000</td>\n",
       "      <td>0.000000</td>\n",
       "      <td>0.000000</td>\n",
       "      <td>0.000000</td>\n",
       "    </tr>\n",
       "    <tr>\n",
       "      <th>max</th>\n",
       "      <td>1.000000</td>\n",
       "      <td>1.000000</td>\n",
       "      <td>7.000000</td>\n",
       "      <td>310.000000</td>\n",
       "      <td>10.000000</td>\n",
       "      <td>1.000000</td>\n",
       "      <td>1.000000</td>\n",
       "      <td>1.000000</td>\n",
       "    </tr>\n",
       "  </tbody>\n",
       "</table>\n",
       "</div>"
      ],
      "text/plain": [
       "       satisfaction_level  last_evaluation  number_project  \\\n",
       "count        14999.000000     14999.000000    14999.000000   \n",
       "mean             0.612834         0.716102        3.803054   \n",
       "std              0.248631         0.171169        1.232592   \n",
       "min              0.090000         0.360000        2.000000   \n",
       "25%              0.440000         0.560000        3.000000   \n",
       "50%              0.640000         0.720000        4.000000   \n",
       "75%              0.820000         0.870000        5.000000   \n",
       "max              1.000000         1.000000        7.000000   \n",
       "\n",
       "       average_montly_hours  time_spend_company  Work_accident          left  \\\n",
       "count          14999.000000        14999.000000   14999.000000  14999.000000   \n",
       "mean             201.050337            3.498233       0.144610      0.238083   \n",
       "std               49.943099            1.460136       0.351719      0.425924   \n",
       "min               96.000000            2.000000       0.000000      0.000000   \n",
       "25%              156.000000            3.000000       0.000000      0.000000   \n",
       "50%              200.000000            3.000000       0.000000      0.000000   \n",
       "75%              245.000000            4.000000       0.000000      0.000000   \n",
       "max              310.000000           10.000000       1.000000      1.000000   \n",
       "\n",
       "       promotion_last_5years  \n",
       "count           14999.000000  \n",
       "mean                0.021268  \n",
       "std                 0.144281  \n",
       "min                 0.000000  \n",
       "25%                 0.000000  \n",
       "50%                 0.000000  \n",
       "75%                 0.000000  \n",
       "max                 1.000000  "
      ]
     },
     "execution_count": 4,
     "metadata": {},
     "output_type": "execute_result"
    }
   ],
   "source": [
    "df.describe()"
   ]
  },
  {
   "cell_type": "code",
   "execution_count": 17,
   "metadata": {},
   "outputs": [
    {
     "name": "stdout",
     "output_type": "stream",
     "text": [
      "Метрики показателя satisfaction_level:\n",
      "* среднее = 0.6128335222348166\n",
      "* медиана = 0.64\n",
      "* мода = 0.1\n",
      "* минимум = 0.09\n",
      "* максимум = 1.0\n",
      "* стандартное отклонение = 0.2486306510611418\n",
      "\n",
      "Метрики показателя last_evaluation:\n",
      "* среднее = 0.7161017401159978\n",
      "* медиана = 0.72\n",
      "* мода = 0.55\n",
      "* минимум = 0.36\n",
      "* максимум = 1.0\n",
      "* стандартное отклонение = 0.17116911062327592\n",
      "\n",
      "Метрики показателя number_project:\n",
      "* среднее = 3.80305353690246\n",
      "* медиана = 4.0\n",
      "* мода = 4\n",
      "* минимум = 2.0\n",
      "* максимум = 7.0\n",
      "* стандартное отклонение = 1.2325923553183857\n",
      "\n",
      "Метрики показателя average_montly_hours:\n",
      "* среднее = 201.0503366891126\n",
      "* медиана = 200.0\n",
      "* мода = 135\n",
      "* минимум = 96.0\n",
      "* максимум = 310.0\n",
      "* стандартное отклонение = 49.943099371284305\n",
      "\n",
      "Метрики показателя time_spend_company:\n",
      "* среднее = 3.498233215547703\n",
      "* медиана = 3.0\n",
      "* мода = 3\n",
      "* минимум = 2.0\n",
      "* максимум = 10.0\n",
      "* стандартное отклонение = 1.4601362305354546\n",
      "\n",
      "Метрики показателя Work_accident:\n",
      "* среднее = 0.1446096406427095\n",
      "* медиана = 0.0\n",
      "* мода = 0\n",
      "* минимум = 0.0\n",
      "* максимум = 1.0\n",
      "* стандартное отклонение = 0.3517185523801279\n",
      "\n",
      "Метрики показателя left:\n",
      "* среднее = 0.2380825388359224\n",
      "* медиана = 0.0\n",
      "* мода = 0\n",
      "* минимум = 0.0\n",
      "* максимум = 1.0\n",
      "* стандартное отклонение = 0.425924099380363\n",
      "\n",
      "Метрики показателя promotion_last_5years:\n",
      "* среднее = 0.021268084538969265\n",
      "* медиана = 0.0\n",
      "* мода = 0\n",
      "* минимум = 0.0\n",
      "* максимум = 1.0\n",
      "* стандартное отклонение = 0.1442814645785774\n",
      "\n"
     ]
    }
   ],
   "source": [
    "for column in df.describe().columns:\n",
    "    print(f'Метрики показателя {column}:')\n",
    "    print(f'* среднее = {df.describe().loc[\"mean\", column]}')\n",
    "    print(f'* медиана = {df.describe().loc[\"50%\", column]}')\n",
    "    print(f'* мода = {df[column].mode().values[0]}')\n",
    "    print(f'* минимум = {df.describe().loc[\"min\", column]}')\n",
    "    print(f'* максимум = {df.describe().loc[\"max\", column]}')\n",
    "    print(f'* стандартное отклонение = {df.describe().loc[\"std\", column]}')\n",
    "    print()\n",
    "    "
   ]
  },
  {
   "cell_type": "markdown",
   "metadata": {},
   "source": [
    "Перед дальнейшим исследованием убедимся, что датасет не нуждается в дополнительной предобработке данных. Пропусков в данных у нас нет, исследуем на выбросы. Для того, чтобы визуально оценить, есть ли в датасете выбросы, можем построить боксплоты для наших числовых данных. "
   ]
  },
  {
   "cell_type": "code",
   "execution_count": 5,
   "metadata": {
    "scrolled": false
   },
   "outputs": [
    {
     "data": {
      "image/png": "[encoded data removed]",
      "text/plain": [
       "<Figure size 720x1440 with 5 Axes>"
      ]
     },
     "metadata": {
      "needs_background": "light"
     },
     "output_type": "display_data"
    }
   ],
   "source": [
    "fig, axes = plt.subplots(5, figsize=(10, 20))\n",
    "i=0\n",
    "for column in df.iloc[: , :5].columns:\n",
    "    axes[i].boxplot(df[column], vert=False)\n",
    "    axes[i].set_title(column)\n",
    "    i+=1"
   ]
  },
  {
   "cell_type": "markdown",
   "metadata": {},
   "source": [
    "Получили, что выбросы (сверху) есть только в столбце time_spend_company. Но непохоже, чтобы это были ошибочные данные. time_spend_company - это стаж работы в годах. И если в среднем стаж составляет около 3 лет, то легко допустить, что в компании есть люди, проработавшие от 6 до 10 лет, например, кто-то из сотрудников, занимающих руководящие посты. Таким образом, эти данные не надо исключать из анализа."
   ]
  },
  {
   "cell_type": "markdown",
   "metadata": {},
   "source": [
    "Можно сделать вывод, что предоставленные данные не нуждаются в предварительной чистке. Можно приступать к анализу."
   ]
  },
  {
   "cell_type": "markdown",
   "metadata": {},
   "source": [
    "### 3. Рассчитаем корреляционную матрицу для количественных переменных"
   ]
  },
  {
   "cell_type": "markdown",
   "metadata": {},
   "source": [
    "Строго количественными переменными в нашем датасете являются первые 5 столбцов. Рассчитаем для них коэффициенты корреляции"
   ]
  },
  {
   "cell_type": "code",
   "execution_count": 6,
   "metadata": {},
   "outputs": [
    {
     "data": {
      "text/html": [
       "<div>\n",
       "<style scoped>\n",
       "    .dataframe tbody tr th:only-of-type {\n",
       "        vertical-align: middle;\n",
       "    }\n",
       "\n",
       "    .dataframe tbody tr th {\n",
       "        vertical-align: top;\n",
       "    }\n",
       "\n",
       "    .dataframe thead th {\n",
       "        text-align: right;\n",
       "    }\n",
       "</style>\n",
       "<table border=\"1\" class=\"dataframe\">\n",
       "  <thead>\n",
       "    <tr style=\"text-align: right;\">\n",
       "      <th></th>\n",
       "      <th>satisfaction_level</th>\n",
       "      <th>last_evaluation</th>\n",
       "      <th>number_project</th>\n",
       "      <th>average_montly_hours</th>\n",
       "      <th>time_spend_company</th>\n",
       "    </tr>\n",
       "  </thead>\n",
       "  <tbody>\n",
       "    <tr>\n",
       "      <th>satisfaction_level</th>\n",
       "      <td>1.000000</td>\n",
       "      <td>0.105021</td>\n",
       "      <td>-0.142970</td>\n",
       "      <td>-0.020048</td>\n",
       "      <td>-0.100866</td>\n",
       "    </tr>\n",
       "    <tr>\n",
       "      <th>last_evaluation</th>\n",
       "      <td>0.105021</td>\n",
       "      <td>1.000000</td>\n",
       "      <td>0.349333</td>\n",
       "      <td>0.339742</td>\n",
       "      <td>0.131591</td>\n",
       "    </tr>\n",
       "    <tr>\n",
       "      <th>number_project</th>\n",
       "      <td>-0.142970</td>\n",
       "      <td>0.349333</td>\n",
       "      <td>1.000000</td>\n",
       "      <td>0.417211</td>\n",
       "      <td>0.196786</td>\n",
       "    </tr>\n",
       "    <tr>\n",
       "      <th>average_montly_hours</th>\n",
       "      <td>-0.020048</td>\n",
       "      <td>0.339742</td>\n",
       "      <td>0.417211</td>\n",
       "      <td>1.000000</td>\n",
       "      <td>0.127755</td>\n",
       "    </tr>\n",
       "    <tr>\n",
       "      <th>time_spend_company</th>\n",
       "      <td>-0.100866</td>\n",
       "      <td>0.131591</td>\n",
       "      <td>0.196786</td>\n",
       "      <td>0.127755</td>\n",
       "      <td>1.000000</td>\n",
       "    </tr>\n",
       "  </tbody>\n",
       "</table>\n",
       "</div>"
      ],
      "text/plain": [
       "                      satisfaction_level  last_evaluation  number_project  \\\n",
       "satisfaction_level              1.000000         0.105021       -0.142970   \n",
       "last_evaluation                 0.105021         1.000000        0.349333   \n",
       "number_project                 -0.142970         0.349333        1.000000   \n",
       "average_montly_hours           -0.020048         0.339742        0.417211   \n",
       "time_spend_company             -0.100866         0.131591        0.196786   \n",
       "\n",
       "                      average_montly_hours  time_spend_company  \n",
       "satisfaction_level               -0.020048           -0.100866  \n",
       "last_evaluation                   0.339742            0.131591  \n",
       "number_project                    0.417211            0.196786  \n",
       "average_montly_hours              1.000000            0.127755  \n",
       "time_spend_company                0.127755            1.000000  "
      ]
     },
     "execution_count": 6,
     "metadata": {},
     "output_type": "execute_result"
    }
   ],
   "source": [
    "# линейная корреляция Пирсона\n",
    "df.iloc[: , :5].corr()"
   ]
  },
  {
   "cell_type": "code",
   "execution_count": 7,
   "metadata": {},
   "outputs": [
    {
     "data": {
      "text/plain": [
       "<AxesSubplot:>"
      ]
     },
     "execution_count": 7,
     "metadata": {},
     "output_type": "execute_result"
    },
    {
     "data": {
      "image/png": "[encoded data removed]",
      "text/plain": [
       "<Figure size 432x288 with 2 Axes>"
      ]
     },
     "metadata": {
      "needs_background": "light"
     },
     "output_type": "display_data"
    }
   ],
   "source": [
    "sns.heatmap(df.iloc[: , :5].corr(), annot=True)"
   ]
  },
  {
   "cell_type": "code",
   "execution_count": 8,
   "metadata": {},
   "outputs": [
    {
     "data": {
      "text/html": [
       "<div>\n",
       "<style scoped>\n",
       "    .dataframe tbody tr th:only-of-type {\n",
       "        vertical-align: middle;\n",
       "    }\n",
       "\n",
       "    .dataframe tbody tr th {\n",
       "        vertical-align: top;\n",
       "    }\n",
       "\n",
       "    .dataframe thead th {\n",
       "        text-align: right;\n",
       "    }\n",
       "</style>\n",
       "<table border=\"1\" class=\"dataframe\">\n",
       "  <thead>\n",
       "    <tr style=\"text-align: right;\">\n",
       "      <th></th>\n",
       "      <th>satisfaction_level</th>\n",
       "      <th>last_evaluation</th>\n",
       "      <th>number_project</th>\n",
       "      <th>average_montly_hours</th>\n",
       "      <th>time_spend_company</th>\n",
       "    </tr>\n",
       "  </thead>\n",
       "  <tbody>\n",
       "    <tr>\n",
       "      <th>satisfaction_level</th>\n",
       "      <td>1.000000</td>\n",
       "      <td>0.162407</td>\n",
       "      <td>0.005786</td>\n",
       "      <td>0.062000</td>\n",
       "      <td>-0.139428</td>\n",
       "    </tr>\n",
       "    <tr>\n",
       "      <th>last_evaluation</th>\n",
       "      <td>0.162407</td>\n",
       "      <td>1.000000</td>\n",
       "      <td>0.350399</td>\n",
       "      <td>0.342061</td>\n",
       "      <td>0.161154</td>\n",
       "    </tr>\n",
       "    <tr>\n",
       "      <th>number_project</th>\n",
       "      <td>0.005786</td>\n",
       "      <td>0.350399</td>\n",
       "      <td>1.000000</td>\n",
       "      <td>0.397855</td>\n",
       "      <td>0.251971</td>\n",
       "    </tr>\n",
       "    <tr>\n",
       "      <th>average_montly_hours</th>\n",
       "      <td>0.062000</td>\n",
       "      <td>0.342061</td>\n",
       "      <td>0.397855</td>\n",
       "      <td>1.000000</td>\n",
       "      <td>0.168750</td>\n",
       "    </tr>\n",
       "    <tr>\n",
       "      <th>time_spend_company</th>\n",
       "      <td>-0.139428</td>\n",
       "      <td>0.161154</td>\n",
       "      <td>0.251971</td>\n",
       "      <td>0.168750</td>\n",
       "      <td>1.000000</td>\n",
       "    </tr>\n",
       "  </tbody>\n",
       "</table>\n",
       "</div>"
      ],
      "text/plain": [
       "                      satisfaction_level  last_evaluation  number_project  \\\n",
       "satisfaction_level              1.000000         0.162407        0.005786   \n",
       "last_evaluation                 0.162407         1.000000        0.350399   \n",
       "number_project                  0.005786         0.350399        1.000000   \n",
       "average_montly_hours            0.062000         0.342061        0.397855   \n",
       "time_spend_company             -0.139428         0.161154        0.251971   \n",
       "\n",
       "                      average_montly_hours  time_spend_company  \n",
       "satisfaction_level                0.062000           -0.139428  \n",
       "last_evaluation                   0.342061            0.161154  \n",
       "number_project                    0.397855            0.251971  \n",
       "average_montly_hours              1.000000            0.168750  \n",
       "time_spend_company                0.168750            1.000000  "
      ]
     },
     "execution_count": 8,
     "metadata": {},
     "output_type": "execute_result"
    }
   ],
   "source": [
    "# корреляция по Спирману\n",
    "df.iloc[: , :5].corr(method = 'spearman')"
   ]
  },
  {
   "cell_type": "code",
   "execution_count": 9,
   "metadata": {},
   "outputs": [
    {
     "data": {
      "text/plain": [
       "<AxesSubplot:>"
      ]
     },
     "execution_count": 9,
     "metadata": {},
     "output_type": "execute_result"
    },
    {
     "data": {
      "image/png": "[encoded data removed]",
      "text/plain": [
       "<Figure size 432x288 with 2 Axes>"
      ]
     },
     "metadata": {
      "needs_background": "light"
     },
     "output_type": "display_data"
    }
   ],
   "source": [
    "sns.heatmap(df.iloc[: , :5].corr(method = 'spearman'), annot=True)"
   ]
  },
  {
   "cell_type": "markdown",
   "metadata": {},
   "source": [
    "После расчета корреляционной матрицы 2мя методами, можем сказать, что наиболее скорреллированными являются переменные average_monthly_hours и number_project. Они имеют наибольший коэффициент корреляции в обоих случаях. Впрочем, корреляция между ними не является сильной, скорее речь идет об умеренной положительной корреляционной связи. В целом, это ожидаемая взаимосвязь - за большее количество часов в месяц можно успеть сделать больше проектов. И наоборот, при запланированном большом количестве проектов требуется много часов для их выполнения.\n",
    "\n",
    "Наиболее близкие к 0 значения, то есть наименее скореллированные признаки - это в 1м случае average_montly_hours и satisfaction_level (очень слабая отрицательная связь), во 2м случае - number_project и satisfaction_level (очень слабая положительная связь). Можно сказать, что это тоже логично: вне зависимости от удовлетворенности работой сотрудник обязан проводить на работе определенное количество часов и выполнять некое количество проектов."
   ]
  },
  {
   "cell_type": "markdown",
   "metadata": {},
   "source": [
    "### 4. Рассчитаем, сколько сотрудников работает в каждом департаменте."
   ]
  },
  {
   "cell_type": "code",
   "execution_count": 10,
   "metadata": {},
   "outputs": [
    {
     "name": "stdout",
     "output_type": "stream",
     "text": [
      "В отделе sales 4140 человек\n",
      "В отделе technical 2720 человек\n",
      "В отделе support 2229 человек\n",
      "В отделе IT 1227 человек\n",
      "В отделе product_mng 902 человек\n",
      "В отделе marketing 858 человек\n",
      "В отделе RandD 787 человек\n",
      "В отделе accounting 767 человек\n",
      "В отделе hr 739 человек\n",
      "В отделе management 630 человек\n"
     ]
    }
   ],
   "source": [
    "for dep, count in df['department'].value_counts().items():\n",
    "    print(f'В отделе {dep} {count} человек')"
   ]
  },
  {
   "cell_type": "code",
   "execution_count": 11,
   "metadata": {},
   "outputs": [
    {
     "data": {
      "text/plain": [
       "sales          0.276018\n",
       "technical      0.181345\n",
       "support        0.148610\n",
       "IT             0.081805\n",
       "product_mng    0.060137\n",
       "marketing      0.057204\n",
       "RandD          0.052470\n",
       "accounting     0.051137\n",
       "hr             0.049270\n",
       "management     0.042003\n",
       "Name: department, dtype: float64"
      ]
     },
     "execution_count": 11,
     "metadata": {},
     "output_type": "execute_result"
    }
   ],
   "source": [
    "# доля сотрудников в каждом отделе составляет:\n",
    "df['department'].value_counts(normalize=True)"
   ]
  },
  {
   "cell_type": "markdown",
   "metadata": {},
   "source": [
    "### 5. Покажем распределение сотрудников по зарплатам."
   ]
  },
  {
   "cell_type": "code",
   "execution_count": 12,
   "metadata": {},
   "outputs": [],
   "source": [
    "from pylab import rcParams\n",
    "rcParams['figure.figsize'] = 10,6"
   ]
  },
  {
   "cell_type": "code",
   "execution_count": 13,
   "metadata": {},
   "outputs": [
    {
     "data": {
      "text/plain": [
       "<AxesSubplot:>"
      ]
     },
     "execution_count": 13,
     "metadata": {},
     "output_type": "execute_result"
    },
    {
     "data": {
      "image/png": "[encoded data removed]",
      "text/plain": [
       "<Figure size 720x432 with 1 Axes>"
      ]
     },
     "metadata": {
      "needs_background": "light"
     },
     "output_type": "display_data"
    }
   ],
   "source": [
    "df.salary.hist()"
   ]
  },
  {
   "cell_type": "markdown",
   "metadata": {},
   "source": [
    "### 6. Покажем распределение сотрудников по зарплатам в каждом департаменте по отдельности"
   ]
  },
  {
   "cell_type": "code",
   "execution_count": 14,
   "metadata": {},
   "outputs": [
    {
     "data": {
      "text/html": [
       "<div>\n",
       "<style scoped>\n",
       "    .dataframe tbody tr th:only-of-type {\n",
       "        vertical-align: middle;\n",
       "    }\n",
       "\n",
       "    .dataframe tbody tr th {\n",
       "        vertical-align: top;\n",
       "    }\n",
       "\n",
       "    .dataframe thead th {\n",
       "        text-align: right;\n",
       "    }\n",
       "</style>\n",
       "<table border=\"1\" class=\"dataframe\">\n",
       "  <thead>\n",
       "    <tr style=\"text-align: right;\">\n",
       "      <th>salary</th>\n",
       "      <th>low</th>\n",
       "      <th>medium</th>\n",
       "      <th>high</th>\n",
       "    </tr>\n",
       "    <tr>\n",
       "      <th>department</th>\n",
       "      <th></th>\n",
       "      <th></th>\n",
       "      <th></th>\n",
       "    </tr>\n",
       "  </thead>\n",
       "  <tbody>\n",
       "    <tr>\n",
       "      <th>IT</th>\n",
       "      <td>609</td>\n",
       "      <td>535</td>\n",
       "      <td>83</td>\n",
       "    </tr>\n",
       "    <tr>\n",
       "      <th>RandD</th>\n",
       "      <td>364</td>\n",
       "      <td>372</td>\n",
       "      <td>51</td>\n",
       "    </tr>\n",
       "    <tr>\n",
       "      <th>accounting</th>\n",
       "      <td>358</td>\n",
       "      <td>335</td>\n",
       "      <td>74</td>\n",
       "    </tr>\n",
       "    <tr>\n",
       "      <th>hr</th>\n",
       "      <td>335</td>\n",
       "      <td>359</td>\n",
       "      <td>45</td>\n",
       "    </tr>\n",
       "    <tr>\n",
       "      <th>management</th>\n",
       "      <td>180</td>\n",
       "      <td>225</td>\n",
       "      <td>225</td>\n",
       "    </tr>\n",
       "    <tr>\n",
       "      <th>marketing</th>\n",
       "      <td>402</td>\n",
       "      <td>376</td>\n",
       "      <td>80</td>\n",
       "    </tr>\n",
       "    <tr>\n",
       "      <th>product_mng</th>\n",
       "      <td>451</td>\n",
       "      <td>383</td>\n",
       "      <td>68</td>\n",
       "    </tr>\n",
       "    <tr>\n",
       "      <th>sales</th>\n",
       "      <td>2099</td>\n",
       "      <td>1772</td>\n",
       "      <td>269</td>\n",
       "    </tr>\n",
       "    <tr>\n",
       "      <th>support</th>\n",
       "      <td>1146</td>\n",
       "      <td>942</td>\n",
       "      <td>141</td>\n",
       "    </tr>\n",
       "    <tr>\n",
       "      <th>technical</th>\n",
       "      <td>1372</td>\n",
       "      <td>1147</td>\n",
       "      <td>201</td>\n",
       "    </tr>\n",
       "  </tbody>\n",
       "</table>\n",
       "</div>"
      ],
      "text/plain": [
       "salary        low  medium  high\n",
       "department                     \n",
       "IT            609     535    83\n",
       "RandD         364     372    51\n",
       "accounting    358     335    74\n",
       "hr            335     359    45\n",
       "management    180     225   225\n",
       "marketing     402     376    80\n",
       "product_mng   451     383    68\n",
       "sales        2099    1772   269\n",
       "support      1146     942   141\n",
       "technical    1372    1147   201"
      ]
     },
     "execution_count": 14,
     "metadata": {},
     "output_type": "execute_result"
    }
   ],
   "source": [
    "salary_by_deps = df.pivot_table(index='department', columns='salary', values='satisfaction_level', aggfunc='count')\n",
    "salary_by_deps = salary_by_deps[['low', 'medium', 'high']]\n",
    "salary_by_deps"
   ]
  },
  {
   "cell_type": "code",
   "execution_count": 15,
   "metadata": {},
   "outputs": [
    {
     "data": {
      "text/plain": [
       "<AxesSubplot:xlabel='department'>"
      ]
     },
     "execution_count": 15,
     "metadata": {},
     "output_type": "execute_result"
    },
    {
     "data": {
      "image/png": "[encoded data removed]",
      "text/plain": [
       "<Figure size 720x432 with 1 Axes>"
      ]
     },
     "metadata": {
      "needs_background": "light"
     },
     "output_type": "display_data"
    }
   ],
   "source": [
    "# распределение зарплат по отделам сводно\n",
    "salary_by_deps.plot(kind='bar')"
   ]
  },
  {
   "cell_type": "code",
   "execution_count": 18,
   "metadata": {},
   "outputs": [
    {
     "data": {
      "text/html": [
       "<style  type=\"text/css\" >\n",
       "#T_26fae25e_46a9_11eb_8ecb_8c82b9952ba2row0_col0,#T_26fae25e_46a9_11eb_8ecb_8c82b9952ba2row0_col1,#T_26fae25e_46a9_11eb_8ecb_8c82b9952ba2row0_col2{\n",
       "            width:  10em;\n",
       "             height:  80%;\n",
       "            background:  linear-gradient(90deg,#d65f5f 100.0%, transparent 100.0%);\n",
       "        }#T_26fae25e_46a9_11eb_8ecb_8c82b9952ba2row1_col0{\n",
       "            width:  10em;\n",
       "             height:  80%;\n",
       "            background:  linear-gradient(90deg,#d65f5f 62.1%, transparent 62.1%);\n",
       "        }#T_26fae25e_46a9_11eb_8ecb_8c82b9952ba2row1_col1{\n",
       "            width:  10em;\n",
       "             height:  80%;\n",
       "            background:  linear-gradient(90deg,#d65f5f 59.6%, transparent 59.6%);\n",
       "        }#T_26fae25e_46a9_11eb_8ecb_8c82b9952ba2row1_col2{\n",
       "            width:  10em;\n",
       "             height:  80%;\n",
       "            background:  linear-gradient(90deg,#d65f5f 69.6%, transparent 69.6%);\n",
       "        }#T_26fae25e_46a9_11eb_8ecb_8c82b9952ba2row2_col0{\n",
       "            width:  10em;\n",
       "             height:  80%;\n",
       "            background:  linear-gradient(90deg,#d65f5f 50.3%, transparent 50.3%);\n",
       "        }#T_26fae25e_46a9_11eb_8ecb_8c82b9952ba2row2_col1{\n",
       "            width:  10em;\n",
       "             height:  80%;\n",
       "            background:  linear-gradient(90deg,#d65f5f 46.3%, transparent 46.3%);\n",
       "        }#T_26fae25e_46a9_11eb_8ecb_8c82b9952ba2row2_col2{\n",
       "            width:  10em;\n",
       "             height:  80%;\n",
       "            background:  linear-gradient(90deg,#d65f5f 42.9%, transparent 42.9%);\n",
       "        }#T_26fae25e_46a9_11eb_8ecb_8c82b9952ba2row3_col0{\n",
       "            width:  10em;\n",
       "             height:  80%;\n",
       "            background:  linear-gradient(90deg,#d65f5f 22.4%, transparent 22.4%);\n",
       "        }#T_26fae25e_46a9_11eb_8ecb_8c82b9952ba2row3_col1{\n",
       "            width:  10em;\n",
       "             height:  80%;\n",
       "            background:  linear-gradient(90deg,#d65f5f 20.0%, transparent 20.0%);\n",
       "        }#T_26fae25e_46a9_11eb_8ecb_8c82b9952ba2row3_col2{\n",
       "            width:  10em;\n",
       "             height:  80%;\n",
       "            background:  linear-gradient(90deg,#d65f5f 17.0%, transparent 17.0%);\n",
       "        }#T_26fae25e_46a9_11eb_8ecb_8c82b9952ba2row4_col0{\n",
       "            width:  10em;\n",
       "             height:  80%;\n",
       "            background:  linear-gradient(90deg,#d65f5f 14.1%, transparent 14.1%);\n",
       "        }#T_26fae25e_46a9_11eb_8ecb_8c82b9952ba2row4_col1{\n",
       "            width:  10em;\n",
       "             height:  80%;\n",
       "            background:  linear-gradient(90deg,#d65f5f 10.2%, transparent 10.2%);\n",
       "        }#T_26fae25e_46a9_11eb_8ecb_8c82b9952ba2row4_col2{\n",
       "            width:  10em;\n",
       "             height:  80%;\n",
       "            background:  linear-gradient(90deg,#d65f5f 10.3%, transparent 10.3%);\n",
       "        }#T_26fae25e_46a9_11eb_8ecb_8c82b9952ba2row5_col0{\n",
       "            width:  10em;\n",
       "             height:  80%;\n",
       "            background:  linear-gradient(90deg,#d65f5f 11.6%, transparent 11.6%);\n",
       "        }#T_26fae25e_46a9_11eb_8ecb_8c82b9952ba2row5_col1{\n",
       "            width:  10em;\n",
       "             height:  80%;\n",
       "            background:  linear-gradient(90deg,#d65f5f 9.8%, transparent 9.8%);\n",
       "        }#T_26fae25e_46a9_11eb_8ecb_8c82b9952ba2row5_col2{\n",
       "            width:  10em;\n",
       "             height:  80%;\n",
       "            background:  linear-gradient(90deg,#d65f5f 15.6%, transparent 15.6%);\n",
       "        }#T_26fae25e_46a9_11eb_8ecb_8c82b9952ba2row6_col0{\n",
       "            width:  10em;\n",
       "             height:  80%;\n",
       "            background:  linear-gradient(90deg,#d65f5f 9.6%, transparent 9.6%);\n",
       "        }#T_26fae25e_46a9_11eb_8ecb_8c82b9952ba2row6_col1{\n",
       "            width:  10em;\n",
       "             height:  80%;\n",
       "            background:  linear-gradient(90deg,#d65f5f 9.5%, transparent 9.5%);\n",
       "        }#T_26fae25e_46a9_11eb_8ecb_8c82b9952ba2row6_col2{\n",
       "            width:  10em;\n",
       "             height:  80%;\n",
       "            background:  linear-gradient(90deg,#d65f5f 2.7%, transparent 2.7%);\n",
       "        }#T_26fae25e_46a9_11eb_8ecb_8c82b9952ba2row7_col0{\n",
       "            width:  10em;\n",
       "             height:  80%;\n",
       "            background:  linear-gradient(90deg,#d65f5f 9.3%, transparent 9.3%);\n",
       "        }#T_26fae25e_46a9_11eb_8ecb_8c82b9952ba2row7_col1{\n",
       "            width:  10em;\n",
       "             height:  80%;\n",
       "            background:  linear-gradient(90deg,#d65f5f 7.1%, transparent 7.1%);\n",
       "        }#T_26fae25e_46a9_11eb_8ecb_8c82b9952ba2row7_col2{\n",
       "            width:  10em;\n",
       "             height:  80%;\n",
       "            background:  linear-gradient(90deg,#d65f5f 12.9%, transparent 12.9%);\n",
       "        }#T_26fae25e_46a9_11eb_8ecb_8c82b9952ba2row8_col0{\n",
       "            width:  10em;\n",
       "             height:  80%;\n",
       "            background:  linear-gradient(90deg,#d65f5f 8.1%, transparent 8.1%);\n",
       "        }#T_26fae25e_46a9_11eb_8ecb_8c82b9952ba2row8_col1{\n",
       "            width:  10em;\n",
       "             height:  80%;\n",
       "            background:  linear-gradient(90deg,#d65f5f 8.7%, transparent 8.7%);\n",
       "        }#T_26fae25e_46a9_11eb_8ecb_8c82b9952ba2row8_col2,#T_26fae25e_46a9_11eb_8ecb_8c82b9952ba2row9_col0,#T_26fae25e_46a9_11eb_8ecb_8c82b9952ba2row9_col1{\n",
       "            width:  10em;\n",
       "             height:  80%;\n",
       "        }#T_26fae25e_46a9_11eb_8ecb_8c82b9952ba2row9_col2{\n",
       "            width:  10em;\n",
       "             height:  80%;\n",
       "            background:  linear-gradient(90deg,#d65f5f 80.4%, transparent 80.4%);\n",
       "        }</style><table id=\"T_26fae25e_46a9_11eb_8ecb_8c82b9952ba2\" ><thead>    <tr>        <th class=\"index_name level0\" >salary</th>        <th class=\"col_heading level0 col0\" >low</th>        <th class=\"col_heading level0 col1\" >medium</th>        <th class=\"col_heading level0 col2\" >high</th>    </tr>    <tr>        <th class=\"index_name level0\" >department</th>        <th class=\"blank\" ></th>        <th class=\"blank\" ></th>        <th class=\"blank\" ></th>    </tr></thead><tbody>\n",
       "                <tr>\n",
       "                        <th id=\"T_26fae25e_46a9_11eb_8ecb_8c82b9952ba2level0_row0\" class=\"row_heading level0 row0\" >sales</th>\n",
       "                        <td id=\"T_26fae25e_46a9_11eb_8ecb_8c82b9952ba2row0_col0\" class=\"data row0 col0\" >2099</td>\n",
       "                        <td id=\"T_26fae25e_46a9_11eb_8ecb_8c82b9952ba2row0_col1\" class=\"data row0 col1\" >1772</td>\n",
       "                        <td id=\"T_26fae25e_46a9_11eb_8ecb_8c82b9952ba2row0_col2\" class=\"data row0 col2\" >269</td>\n",
       "            </tr>\n",
       "            <tr>\n",
       "                        <th id=\"T_26fae25e_46a9_11eb_8ecb_8c82b9952ba2level0_row1\" class=\"row_heading level0 row1\" >technical</th>\n",
       "                        <td id=\"T_26fae25e_46a9_11eb_8ecb_8c82b9952ba2row1_col0\" class=\"data row1 col0\" >1372</td>\n",
       "                        <td id=\"T_26fae25e_46a9_11eb_8ecb_8c82b9952ba2row1_col1\" class=\"data row1 col1\" >1147</td>\n",
       "                        <td id=\"T_26fae25e_46a9_11eb_8ecb_8c82b9952ba2row1_col2\" class=\"data row1 col2\" >201</td>\n",
       "            </tr>\n",
       "            <tr>\n",
       "                        <th id=\"T_26fae25e_46a9_11eb_8ecb_8c82b9952ba2level0_row2\" class=\"row_heading level0 row2\" >support</th>\n",
       "                        <td id=\"T_26fae25e_46a9_11eb_8ecb_8c82b9952ba2row2_col0\" class=\"data row2 col0\" >1146</td>\n",
       "                        <td id=\"T_26fae25e_46a9_11eb_8ecb_8c82b9952ba2row2_col1\" class=\"data row2 col1\" >942</td>\n",
       "                        <td id=\"T_26fae25e_46a9_11eb_8ecb_8c82b9952ba2row2_col2\" class=\"data row2 col2\" >141</td>\n",
       "            </tr>\n",
       "            <tr>\n",
       "                        <th id=\"T_26fae25e_46a9_11eb_8ecb_8c82b9952ba2level0_row3\" class=\"row_heading level0 row3\" >IT</th>\n",
       "                        <td id=\"T_26fae25e_46a9_11eb_8ecb_8c82b9952ba2row3_col0\" class=\"data row3 col0\" >609</td>\n",
       "                        <td id=\"T_26fae25e_46a9_11eb_8ecb_8c82b9952ba2row3_col1\" class=\"data row3 col1\" >535</td>\n",
       "                        <td id=\"T_26fae25e_46a9_11eb_8ecb_8c82b9952ba2row3_col2\" class=\"data row3 col2\" >83</td>\n",
       "            </tr>\n",
       "            <tr>\n",
       "                        <th id=\"T_26fae25e_46a9_11eb_8ecb_8c82b9952ba2level0_row4\" class=\"row_heading level0 row4\" >product_mng</th>\n",
       "                        <td id=\"T_26fae25e_46a9_11eb_8ecb_8c82b9952ba2row4_col0\" class=\"data row4 col0\" >451</td>\n",
       "                        <td id=\"T_26fae25e_46a9_11eb_8ecb_8c82b9952ba2row4_col1\" class=\"data row4 col1\" >383</td>\n",
       "                        <td id=\"T_26fae25e_46a9_11eb_8ecb_8c82b9952ba2row4_col2\" class=\"data row4 col2\" >68</td>\n",
       "            </tr>\n",
       "            <tr>\n",
       "                        <th id=\"T_26fae25e_46a9_11eb_8ecb_8c82b9952ba2level0_row5\" class=\"row_heading level0 row5\" >marketing</th>\n",
       "                        <td id=\"T_26fae25e_46a9_11eb_8ecb_8c82b9952ba2row5_col0\" class=\"data row5 col0\" >402</td>\n",
       "                        <td id=\"T_26fae25e_46a9_11eb_8ecb_8c82b9952ba2row5_col1\" class=\"data row5 col1\" >376</td>\n",
       "                        <td id=\"T_26fae25e_46a9_11eb_8ecb_8c82b9952ba2row5_col2\" class=\"data row5 col2\" >80</td>\n",
       "            </tr>\n",
       "            <tr>\n",
       "                        <th id=\"T_26fae25e_46a9_11eb_8ecb_8c82b9952ba2level0_row6\" class=\"row_heading level0 row6\" >RandD</th>\n",
       "                        <td id=\"T_26fae25e_46a9_11eb_8ecb_8c82b9952ba2row6_col0\" class=\"data row6 col0\" >364</td>\n",
       "                        <td id=\"T_26fae25e_46a9_11eb_8ecb_8c82b9952ba2row6_col1\" class=\"data row6 col1\" >372</td>\n",
       "                        <td id=\"T_26fae25e_46a9_11eb_8ecb_8c82b9952ba2row6_col2\" class=\"data row6 col2\" >51</td>\n",
       "            </tr>\n",
       "            <tr>\n",
       "                        <th id=\"T_26fae25e_46a9_11eb_8ecb_8c82b9952ba2level0_row7\" class=\"row_heading level0 row7\" >accounting</th>\n",
       "                        <td id=\"T_26fae25e_46a9_11eb_8ecb_8c82b9952ba2row7_col0\" class=\"data row7 col0\" >358</td>\n",
       "                        <td id=\"T_26fae25e_46a9_11eb_8ecb_8c82b9952ba2row7_col1\" class=\"data row7 col1\" >335</td>\n",
       "                        <td id=\"T_26fae25e_46a9_11eb_8ecb_8c82b9952ba2row7_col2\" class=\"data row7 col2\" >74</td>\n",
       "            </tr>\n",
       "            <tr>\n",
       "                        <th id=\"T_26fae25e_46a9_11eb_8ecb_8c82b9952ba2level0_row8\" class=\"row_heading level0 row8\" >hr</th>\n",
       "                        <td id=\"T_26fae25e_46a9_11eb_8ecb_8c82b9952ba2row8_col0\" class=\"data row8 col0\" >335</td>\n",
       "                        <td id=\"T_26fae25e_46a9_11eb_8ecb_8c82b9952ba2row8_col1\" class=\"data row8 col1\" >359</td>\n",
       "                        <td id=\"T_26fae25e_46a9_11eb_8ecb_8c82b9952ba2row8_col2\" class=\"data row8 col2\" >45</td>\n",
       "            </tr>\n",
       "            <tr>\n",
       "                        <th id=\"T_26fae25e_46a9_11eb_8ecb_8c82b9952ba2level0_row9\" class=\"row_heading level0 row9\" >management</th>\n",
       "                        <td id=\"T_26fae25e_46a9_11eb_8ecb_8c82b9952ba2row9_col0\" class=\"data row9 col0\" >180</td>\n",
       "                        <td id=\"T_26fae25e_46a9_11eb_8ecb_8c82b9952ba2row9_col1\" class=\"data row9 col1\" >225</td>\n",
       "                        <td id=\"T_26fae25e_46a9_11eb_8ecb_8c82b9952ba2row9_col2\" class=\"data row9 col2\" >225</td>\n",
       "            </tr>\n",
       "    </tbody></table>"
      ],
      "text/plain": [
       "<pandas.io.formats.style.Styler at 0x2dbac4fe108>"
      ]
     },
     "execution_count": 18,
     "metadata": {},
     "output_type": "execute_result"
    }
   ],
   "source": [
    "salary_by_deps.sort_values(by='low', ascending=False).style.bar()"
   ]
  },
  {
   "cell_type": "markdown",
   "metadata": {},
   "source": [
    "Видим, что распределение средних и низких зарплат примерно одинаковое для всех отделов. Однако высокие зарплаты распределены иначе. Их доля очевидно выше в отделе managment, что логично, т.к. большинство руководящих должностей скорее всего приписаны к этому отделу, а так же сравнительно выше в отделах Accounting (бухгалтерия) и Marketing. "
   ]
  },
  {
   "cell_type": "markdown",
   "metadata": {},
   "source": [
    "### 7. Проверим гипотезу, что сотрудники с высоким окладом проводят на работе больше времени, чем сотрудники с низким окладом"
   ]
  },
  {
   "cell_type": "markdown",
   "metadata": {},
   "source": [
    "Рассчитаем, сколько часов в месяц в среднем отрабатывает сотрудник  свыоским окладом и сколько с низким. "
   ]
  },
  {
   "cell_type": "code",
   "execution_count": 19,
   "metadata": {},
   "outputs": [
    {
     "data": {
      "text/html": [
       "<div>\n",
       "<style scoped>\n",
       "    .dataframe tbody tr th:only-of-type {\n",
       "        vertical-align: middle;\n",
       "    }\n",
       "\n",
       "    .dataframe tbody tr th {\n",
       "        vertical-align: top;\n",
       "    }\n",
       "\n",
       "    .dataframe thead tr th {\n",
       "        text-align: left;\n",
       "    }\n",
       "\n",
       "    .dataframe thead tr:last-of-type th {\n",
       "        text-align: right;\n",
       "    }\n",
       "</style>\n",
       "<table border=\"1\" class=\"dataframe\">\n",
       "  <thead>\n",
       "    <tr>\n",
       "      <th></th>\n",
       "      <th colspan=\"2\" halign=\"left\">average_montly_hours</th>\n",
       "    </tr>\n",
       "    <tr>\n",
       "      <th></th>\n",
       "      <th>sum</th>\n",
       "      <th>count</th>\n",
       "    </tr>\n",
       "    <tr>\n",
       "      <th>salary</th>\n",
       "      <th></th>\n",
       "      <th></th>\n",
       "    </tr>\n",
       "  </thead>\n",
       "  <tbody>\n",
       "    <tr>\n",
       "      <th>high</th>\n",
       "      <td>247236</td>\n",
       "      <td>1237</td>\n",
       "    </tr>\n",
       "    <tr>\n",
       "      <th>low</th>\n",
       "      <td>1470491</td>\n",
       "      <td>7316</td>\n",
       "    </tr>\n",
       "    <tr>\n",
       "      <th>medium</th>\n",
       "      <td>1297827</td>\n",
       "      <td>6446</td>\n",
       "    </tr>\n",
       "  </tbody>\n",
       "</table>\n",
       "</div>"
      ],
      "text/plain": [
       "       average_montly_hours      \n",
       "                        sum count\n",
       "salary                           \n",
       "high                 247236  1237\n",
       "low                 1470491  7316\n",
       "medium              1297827  6446"
      ]
     },
     "execution_count": 19,
     "metadata": {},
     "output_type": "execute_result"
    }
   ],
   "source": [
    "hours_and_salary = df.groupby('salary').agg({'average_montly_hours':['sum', 'count']})\n",
    "hours_and_salary"
   ]
  },
  {
   "cell_type": "code",
   "execution_count": 20,
   "metadata": {},
   "outputs": [
    {
     "data": {
      "text/html": [
       "<div>\n",
       "<style scoped>\n",
       "    .dataframe tbody tr th:only-of-type {\n",
       "        vertical-align: middle;\n",
       "    }\n",
       "\n",
       "    .dataframe tbody tr th {\n",
       "        vertical-align: top;\n",
       "    }\n",
       "\n",
       "    .dataframe thead tr th {\n",
       "        text-align: left;\n",
       "    }\n",
       "\n",
       "    .dataframe thead tr:last-of-type th {\n",
       "        text-align: right;\n",
       "    }\n",
       "</style>\n",
       "<table border=\"1\" class=\"dataframe\">\n",
       "  <thead>\n",
       "    <tr>\n",
       "      <th></th>\n",
       "      <th colspan=\"2\" halign=\"left\">average_montly_hours</th>\n",
       "      <th>hours_by_employee</th>\n",
       "    </tr>\n",
       "    <tr>\n",
       "      <th></th>\n",
       "      <th>sum</th>\n",
       "      <th>count</th>\n",
       "      <th></th>\n",
       "    </tr>\n",
       "    <tr>\n",
       "      <th>salary</th>\n",
       "      <th></th>\n",
       "      <th></th>\n",
       "      <th></th>\n",
       "    </tr>\n",
       "  </thead>\n",
       "  <tbody>\n",
       "    <tr>\n",
       "      <th>high</th>\n",
       "      <td>247236</td>\n",
       "      <td>1237</td>\n",
       "      <td>199.867421</td>\n",
       "    </tr>\n",
       "    <tr>\n",
       "      <th>low</th>\n",
       "      <td>1470491</td>\n",
       "      <td>7316</td>\n",
       "      <td>200.996583</td>\n",
       "    </tr>\n",
       "    <tr>\n",
       "      <th>medium</th>\n",
       "      <td>1297827</td>\n",
       "      <td>6446</td>\n",
       "      <td>201.338349</td>\n",
       "    </tr>\n",
       "  </tbody>\n",
       "</table>\n",
       "</div>"
      ],
      "text/plain": [
       "       average_montly_hours       hours_by_employee\n",
       "                        sum count                  \n",
       "salary                                             \n",
       "high                 247236  1237        199.867421\n",
       "low                 1470491  7316        200.996583\n",
       "medium              1297827  6446        201.338349"
      ]
     },
     "execution_count": 20,
     "metadata": {},
     "output_type": "execute_result"
    }
   ],
   "source": [
    "hours_and_salary.loc[:, 'hours_by_employee'] = hours_and_salary['average_montly_hours']['sum'] / hours_and_salary['average_montly_hours']['count']\n",
    "hours_and_salary"
   ]
  },
  {
   "cell_type": "markdown",
   "metadata": {},
   "source": [
    "Получили, что для сотрудников с высоким окладом среднее количество отработанных за месяц часов на одного человека составляет 199,867 часов. Для сотрудников с низким окладом аналогичный показатель составляет 200,997 часов. Это ненамного, но все же больше, чем для сотрудников с высоким окладом. \n",
    "Скорее всего исходная гипотеза неверна, но для большей обоснованности такого ответа можно провести статистический тест.  \n",
    "\n",
    "Примем за **гипотезу Н0** утверждение, что сотрудники с высоким и низким окладами проводят на работе примерно одинаковое количество времени.  \n",
    "За **гипотезу Н1** примем утверждение, что сотрудники с высоким окладом проводят на работе больше времени, чем с низким.  \n",
    "Если статистический тест отвергнет нулевую гипотезу, мы сможем сказать, что исходное предположение верно."
   ]
  },
  {
   "cell_type": "code",
   "execution_count": 36,
   "metadata": {},
   "outputs": [],
   "source": [
    "# выделим из исходного датасета данные для стат. теста \n",
    "high_salary_hours = df[df.salary.str.contains('high')]['average_montly_hours']\n",
    "low_salary_hours = df[df.salary.str.contains('low')]['average_montly_hours']"
   ]
  },
  {
   "cell_type": "code",
   "execution_count": 39,
   "metadata": {},
   "outputs": [
    {
     "name": "stdout",
     "output_type": "stream",
     "text": [
      "Ttest_indResult(statistic=-0.7624331665385475, pvalue=0.4459045542257889)\n",
      "Не отвергаем нулевую гипотезу\n"
     ]
    }
   ],
   "source": [
    "from scipy import stats \n",
    "alpha = 0.05\n",
    "result = stats.ttest_ind(high_salary_hours, low_salary_hours, equal_var=False)\n",
    "print(result)\n",
    "if (result.pvalue < alpha):\n",
    "    print('Отвергаем нулевую гипотезу, сотрудники с высоким окладом проводят на работе больше времени, чем сотрудники с низким')\n",
    "else:\n",
    "    print('Не отвергаем нулевую гипотезу')"
   ]
  },
  {
   "cell_type": "markdown",
   "metadata": {},
   "source": [
    "По результатам теста получили, что нулевую гипотезу на стандартном уровне значимости = 0.05 нельзя отвергнуть, т.е. нет статистически значимой разницы между количеством времени, проводимому на работе сотрудниками с разными окладами. А с учетом знака t-критерия (минус) можем сказать, что в среднем сотрудники с высоким окладам проводят меньше времени на работе.\n",
    "\n",
    "Вывод: исходное предположение неверно, сотрудники с высоким окладам не проводят больше времени на работе, чем сотрудники с низким окладом"
   ]
  },
  {
   "cell_type": "code",
   "execution_count": 21,
   "metadata": {},
   "outputs": [
    {
     "data": {
      "text/plain": [
       "<AxesSubplot:xlabel='salary', ylabel='average_montly_hours'>"
      ]
     },
     "execution_count": 21,
     "metadata": {},
     "output_type": "execute_result"
    },
    {
     "data": {
      "image/png": "[encoded data removed]",
      "text/plain": [
       "<Figure size 504x360 with 1 Axes>"
      ]
     },
     "metadata": {
      "needs_background": "light"
     },
     "output_type": "display_data"
    }
   ],
   "source": [
    "sns.boxplot(x=df.salary, y=df.average_montly_hours, data=df)"
   ]
  },
  {
   "cell_type": "markdown",
   "metadata": {},
   "source": [
    "Визуализация подтверждает вывод. Для сотрудников со средним окладом и медианное, и максимальное количество часов в месяц больше, чем для сотрудников с высоким окладом."
   ]
  },
  {
   "cell_type": "markdown",
   "metadata": {},
   "source": [
    "### 8. Рассчитаем следующие показатели среди уволившихся и не уволившихся сотрудников (по отдельности):  \n",
    " - Доля сотрудников с повышением за последние 5 лет\n",
    " - Средняя степень удовлетворенности\n",
    " - Среднее количество проектов"
   ]
  },
  {
   "cell_type": "code",
   "execution_count": 22,
   "metadata": {},
   "outputs": [],
   "source": [
    "not_left = df[df['left'] == 0]\n",
    "left = df[df['left'] == 1]"
   ]
  },
  {
   "cell_type": "code",
   "execution_count": 23,
   "metadata": {},
   "outputs": [
    {
     "data": {
      "text/plain": [
       "0    0.994679\n",
       "1    0.005321\n",
       "Name: promotion_last_5years, dtype: float64"
      ]
     },
     "execution_count": 23,
     "metadata": {},
     "output_type": "execute_result"
    }
   ],
   "source": [
    "left['promotion_last_5years'].value_counts(normalize=True)"
   ]
  },
  {
   "cell_type": "markdown",
   "metadata": {},
   "source": [
    "Среди уволившихся сотрудников доля не получивших повышение **99,47%**, доля получивших повышение **0,53%**"
   ]
  },
  {
   "cell_type": "code",
   "execution_count": 24,
   "metadata": {},
   "outputs": [
    {
     "data": {
      "text/plain": [
       "0    0.973749\n",
       "1    0.026251\n",
       "Name: promotion_last_5years, dtype: float64"
      ]
     },
     "execution_count": 24,
     "metadata": {},
     "output_type": "execute_result"
    }
   ],
   "source": [
    "not_left['promotion_last_5years'].value_counts(normalize=True)"
   ]
  },
  {
   "cell_type": "markdown",
   "metadata": {},
   "source": [
    "Среди не уволившихся сотрудников доля не получивших повышение **97,37%**, доля получивших повышение **2,63%**"
   ]
  },
  {
   "cell_type": "code",
   "execution_count": 25,
   "metadata": {},
   "outputs": [
    {
     "data": {
      "text/plain": [
       "0.666809590479516"
      ]
     },
     "execution_count": 25,
     "metadata": {},
     "output_type": "execute_result"
    }
   ],
   "source": [
    "not_left.satisfaction_level.mean()"
   ]
  },
  {
   "cell_type": "code",
   "execution_count": 26,
   "metadata": {},
   "outputs": [
    {
     "data": {
      "text/plain": [
       "0.44009801176140917"
      ]
     },
     "execution_count": 26,
     "metadata": {},
     "output_type": "execute_result"
    }
   ],
   "source": [
    "left.satisfaction_level.mean()"
   ]
  },
  {
   "cell_type": "markdown",
   "metadata": {},
   "source": [
    "Среди уволившихся сотрудников средняя степень удовлетворенности **0.4401**  \n",
    "Среди не уволившихся сотрудников средняя степень удовлетворенности **0.6668**  "
   ]
  },
  {
   "cell_type": "code",
   "execution_count": 27,
   "metadata": {},
   "outputs": [
    {
     "data": {
      "text/plain": [
       "3.786664333216661"
      ]
     },
     "execution_count": 27,
     "metadata": {},
     "output_type": "execute_result"
    }
   ],
   "source": [
    "not_left.number_project.mean()"
   ]
  },
  {
   "cell_type": "code",
   "execution_count": 28,
   "metadata": {},
   "outputs": [
    {
     "data": {
      "text/plain": [
       "3.8555026603192384"
      ]
     },
     "execution_count": 28,
     "metadata": {},
     "output_type": "execute_result"
    }
   ],
   "source": [
    "left.number_project.mean()"
   ]
  },
  {
   "cell_type": "markdown",
   "metadata": {},
   "source": [
    "Количество проектов округлим до ближайшего целого. Получим, что и для уволившихся, и для не уволившихся сотрудников среднее количество проектов в месяц составляет почти 4 штуки"
   ]
  },
  {
   "cell_type": "markdown",
   "metadata": {},
   "source": [
    "### 9. Построим модель LDA, предсказывающую уволился ли сотрудник на основе имеющихся факторов (кроме department и salary). Оценим качество модели на тестовой выборкe"
   ]
  },
  {
   "cell_type": "code",
   "execution_count": 29,
   "metadata": {},
   "outputs": [],
   "source": [
    "lda_data = df.drop(['department', 'salary', 'left'], axis=1)\n",
    "lda_target = df['left']"
   ]
  },
  {
   "cell_type": "code",
   "execution_count": 49,
   "metadata": {},
   "outputs": [],
   "source": [
    "from sklearn.model_selection import train_test_split\n",
    "from sklearn.discriminant_analysis import LinearDiscriminantAnalysis\n",
    "from sklearn.metrics import accuracy_score"
   ]
  },
  {
   "cell_type": "code",
   "execution_count": 90,
   "metadata": {},
   "outputs": [],
   "source": [
    "X_train, X_test, y_train, y_test = train_test_split(lda_data, lda_target, test_size=0.3, random_state=42)"
   ]
  },
  {
   "cell_type": "code",
   "execution_count": 91,
   "metadata": {},
   "outputs": [],
   "source": [
    "lda = LinearDiscriminantAnalysis()\n",
    "lda.fit(X_train, y_train)\n",
    "y_pred = lda.predict(X_test)"
   ]
  },
  {
   "cell_type": "code",
   "execution_count": 92,
   "metadata": {},
   "outputs": [
    {
     "data": {
      "text/html": [
       "<div>\n",
       "<style scoped>\n",
       "    .dataframe tbody tr th:only-of-type {\n",
       "        vertical-align: middle;\n",
       "    }\n",
       "\n",
       "    .dataframe tbody tr th {\n",
       "        vertical-align: top;\n",
       "    }\n",
       "\n",
       "    .dataframe thead th {\n",
       "        text-align: right;\n",
       "    }\n",
       "</style>\n",
       "<table border=\"1\" class=\"dataframe\">\n",
       "  <thead>\n",
       "    <tr style=\"text-align: right;\">\n",
       "      <th></th>\n",
       "      <th>test_values</th>\n",
       "      <th>predicted_values</th>\n",
       "    </tr>\n",
       "  </thead>\n",
       "  <tbody>\n",
       "    <tr>\n",
       "      <th>0</th>\n",
       "      <td>0</td>\n",
       "      <td>0</td>\n",
       "    </tr>\n",
       "    <tr>\n",
       "      <th>1</th>\n",
       "      <td>0</td>\n",
       "      <td>0</td>\n",
       "    </tr>\n",
       "    <tr>\n",
       "      <th>2</th>\n",
       "      <td>0</td>\n",
       "      <td>0</td>\n",
       "    </tr>\n",
       "    <tr>\n",
       "      <th>3</th>\n",
       "      <td>1</td>\n",
       "      <td>0</td>\n",
       "    </tr>\n",
       "    <tr>\n",
       "      <th>4</th>\n",
       "      <td>0</td>\n",
       "      <td>0</td>\n",
       "    </tr>\n",
       "    <tr>\n",
       "      <th>...</th>\n",
       "      <td>...</td>\n",
       "      <td>...</td>\n",
       "    </tr>\n",
       "    <tr>\n",
       "      <th>4495</th>\n",
       "      <td>0</td>\n",
       "      <td>0</td>\n",
       "    </tr>\n",
       "    <tr>\n",
       "      <th>4496</th>\n",
       "      <td>0</td>\n",
       "      <td>1</td>\n",
       "    </tr>\n",
       "    <tr>\n",
       "      <th>4497</th>\n",
       "      <td>0</td>\n",
       "      <td>0</td>\n",
       "    </tr>\n",
       "    <tr>\n",
       "      <th>4498</th>\n",
       "      <td>0</td>\n",
       "      <td>0</td>\n",
       "    </tr>\n",
       "    <tr>\n",
       "      <th>4499</th>\n",
       "      <td>0</td>\n",
       "      <td>0</td>\n",
       "    </tr>\n",
       "  </tbody>\n",
       "</table>\n",
       "<p>4500 rows × 2 columns</p>\n",
       "</div>"
      ],
      "text/plain": [
       "      test_values  predicted_values\n",
       "0               0                 0\n",
       "1               0                 0\n",
       "2               0                 0\n",
       "3               1                 0\n",
       "4               0                 0\n",
       "...           ...               ...\n",
       "4495            0                 0\n",
       "4496            0                 1\n",
       "4497            0                 0\n",
       "4498            0                 0\n",
       "4499            0                 0\n",
       "\n",
       "[4500 rows x 2 columns]"
      ]
     },
     "execution_count": 92,
     "metadata": {},
     "output_type": "execute_result"
    }
   ],
   "source": [
    "# посмотрим на разницу факта и прогноза\n",
    "result = pd.DataFrame([y_test.values, y_pred]).T\n",
    "result.columns = ['test_values', 'predicted_values']\n",
    "result"
   ]
  },
  {
   "cell_type": "code",
   "execution_count": 93,
   "metadata": {},
   "outputs": [
    {
     "data": {
      "text/plain": [
       "0.7557777777777778"
      ]
     },
     "execution_count": 93,
     "metadata": {},
     "output_type": "execute_result"
    }
   ],
   "source": [
    "accuracy_score(y_test, y_pred)"
   ]
  },
  {
   "cell_type": "markdown",
   "metadata": {},
   "source": [
    "Точность модели получилась около 75%. Посмотрим, можем ли мы добиться улучшения точности, если изменим некоторые гиперпараметры модели. "
   ]
  },
  {
   "cell_type": "code",
   "execution_count": 73,
   "metadata": {},
   "outputs": [],
   "source": [
    "from sklearn.model_selection import GridSearchCV\n",
    "from sklearn.model_selection import RepeatedStratifiedKFold\n",
    "from numpy import arange"
   ]
  },
  {
   "cell_type": "code",
   "execution_count": 94,
   "metadata": {},
   "outputs": [
    {
     "name": "stdout",
     "output_type": "stream",
     "text": [
      "Mean Accuracy: 0.785\n",
      "Config: {'shrinkage': 0.88}\n"
     ]
    }
   ],
   "source": [
    "# тестовая модель LDA\n",
    "model = LinearDiscriminantAnalysis(solver='lsqr')\n",
    "\n",
    "cv = RepeatedStratifiedKFold(n_splits=10, n_repeats=3, random_state=42)\n",
    "grid = dict()\n",
    "grid['shrinkage'] = arange(0, 1, 0.01)\n",
    "\n",
    "search = GridSearchCV(model, grid, scoring='accuracy', cv=cv)\n",
    "results = search.fit(X_train, y_train)\n",
    "\n",
    "print('Mean Accuracy: %.3f' % results.best_score_)\n",
    "print('Config: %s' % results.best_params_)"
   ]
  },
  {
   "cell_type": "code",
   "execution_count": 95,
   "metadata": {},
   "outputs": [],
   "source": [
    "lda_tuned = LinearDiscriminantAnalysis(solver='lsqr', shrinkage=0.88)"
   ]
  },
  {
   "cell_type": "code",
   "execution_count": 96,
   "metadata": {},
   "outputs": [
    {
     "data": {
      "text/plain": [
       "0.7815555555555556"
      ]
     },
     "execution_count": 96,
     "metadata": {},
     "output_type": "execute_result"
    }
   ],
   "source": [
    "lda_tuned.fit(X_train, y_train)\n",
    "y_pred_new = lda_tuned.predict(X_test)\n",
    "accuracy_score(y_test, y_pred_new)"
   ]
  },
  {
   "cell_type": "markdown",
   "metadata": {},
   "source": [
    "Изменение гиперпараметров дало небольшой прирост точности, теперь она составляет примерно 78%, т.е. новая модель немного лучше предсказывает по имеющимся данным, уволился сотрудник или нет."
   ]
  },
  {
   "cell_type": "markdown",
   "metadata": {},
   "source": [
    "### 10. Загрузим jupyter notebook с решение на github"
   ]
  }
 ],
 "metadata": {
  "kernelspec": {
   "display_name": "Python 3",
   "language": "python",
   "name": "python3"
  },
  "language_info": {
   "codemirror_mode": {
    "name": "ipython",
    "version": 3
   },
   "file_extension": ".py",
   "mimetype": "text/x-python",
   "name": "python",
   "nbconvert_exporter": "python",
   "pygments_lexer": "ipython3",
   "version": "3.7.7"
  }
 },
 "nbformat": 4,
 "nbformat_minor": 4
}
